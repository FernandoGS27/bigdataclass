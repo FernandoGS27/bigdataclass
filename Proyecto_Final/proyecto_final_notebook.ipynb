{
 "cells": [
  {
   "cell_type": "code",
   "execution_count": 129,
   "id": "4ad51456",
   "metadata": {},
   "outputs": [],
   "source": [
    "from pyspark.sql import SparkSession\n",
    "from pyspark.sql import functions as F\n",
    "from pyspark.sql.window import Window\n",
    "from pyspark.ml.feature import StringIndexer, OneHotEncoder,VectorAssembler, StandardScaler\n",
    "from pyspark.ml.classification import LogisticRegression, DecisionTreeClassifier\n",
    "from pyspark.ml.tuning import ParamGridBuilder, CrossValidator\n",
    "from pyspark.ml.evaluation import BinaryClassificationEvaluator\n",
    "import findspark\n",
    "\n",
    "findspark.init('/usr/lib/python3.7/site-packages/pyspark')\n",
    "\n",
    "spark = SparkSession \\\n",
    "    .builder \\\n",
    "    .appName(\"Basic JDBC pipeline\") \\\n",
    "    .config(\"spark.driver.extraClassPath\", \"postgresql-42.2.14.jar\") \\\n",
    "    .config(\"spark.executor.extraClassPath\", \"postgresql-42.2.14.jar\") \\\n",
    "    .getOrCreate()"
   ]
  },
  {
   "cell_type": "code",
   "execution_count": 87,
   "id": "67981357",
   "metadata": {},
   "outputs": [
    {
     "name": "stderr",
     "output_type": "stream",
     "text": [
      "                                                                                \r"
     ]
    }
   ],
   "source": [
    "## Se carga la base de datos de construccion\n",
    "construccion_df = spark.read.csv(\"Base_Anonimizada2022.csv\",header=True,inferSchema=True)\n",
    "\n",
    "##Se carga la base de datos que mapea los cantones con su respectivo codigo y se limpia\n",
    "\n",
    "cantones_df =spark.read.csv(\"SEN_GEOGRAFICO_1.csv\",header=True,inferSchema=True)\n",
    "\n",
    "##Se carga la base de datos que mapea cada canton con la region\n",
    "\n",
    "regiones_df = spark.read.csv(\"division_territorial_por_region.csv\",header=True,inferSchema=True)\n",
    "\n",
    "##Se carga la base de datos de ENAHO\n",
    "\n",
    "enaho_2022_df = spark.read.csv(\"BdBasePublica.csv\",header=True,inferSchema=True)"
   ]
  },
  {
   "cell_type": "code",
   "execution_count": 88,
   "id": "8cb79a02",
   "metadata": {},
   "outputs": [],
   "source": [
    "def construcciones_region_df_func(constru_df,canton_df,region_df):\n",
    "\n",
    "    construccion_residencial_df = constru_df.filter(constru_df.claobr==1)\n",
    "    construccion_residencial_df = construccion_residencial_df.select(\"pro_num_prov\",\"pc_num_cant\",\"num_obras\",\"arecon\",\"numviv\",\"numapo\",\"numdor\",\"valobr\")\n",
    "    construccion_residencial_agrupada_df = construccion_residencial_df.groupby(\"pro_num_prov\",\"pc_num_cant\").agg(F.avg(\"num_obras\").alias(\"pro_num_obras\"),F.avg(\"arecon\").alias(\"prom_arecon\"),\n",
    "                                                                                                            F.avg(\"numviv\").alias(\"prom_numviv\"),F.avg(\"numapo\").alias(\"prom_numapo\"),\n",
    "                                                                                                            F.avg(\"numdor\").alias(\"prom_numdor\"),F.avg(\"valobr\").alias(\"prom_valobr\"))\n",
    "    \n",
    "    cantones_codigo_df = canton_df.withColumn(\"Codigo_DTA\",F.split(canton_df[\"CodigoDTA\"],\",\")[0])\\\n",
    "                                .withColumn(\"Canton\",F.split(canton_df[\"CodigoDTA\"],\",\")[1]).drop(\"CodigoDTA\",\"Nombre\")\n",
    "    \n",
    "    for column in cantones_codigo_df.columns:\n",
    "        cantones_codigo_df = cantones_codigo_df.withColumn(column,F.regexp_replace(column,'\"',''))\n",
    "\n",
    "    regiones_limpio_df = region_df.withColumn(\"Codigo_DTA\",F.substring(\"CODIGO\",1,3)).select(\"Codigo_DTA\",\"CANTON\",\"REGION\").distinct()\n",
    "\n",
    "    construccion_cantones_df=construccion_residencial_agrupada_df.join(cantones_codigo_df,construccion_residencial_agrupada_df[\"pc_num_cant\"]==cantones_codigo_df[\"Codigo_DTA\"],\n",
    "                                                                   how=\"inner\").drop(\"pc_num_cant\",\"pro_num_prov\")\n",
    "    \n",
    "    construccion_regiones_df=construccion_cantones_df.join(regiones_limpio_df,on=\"Codigo_DTA\",how=\"left\").drop(\"Canton\",\"CANTON\",\"Codigo_DTA\")\n",
    "\n",
    "    columnas_promedio = [col for col in construccion_regiones_df.columns if col!=\"REGION\"]\n",
    "\n",
    "    construccion_regiones_agrupada_df = construccion_regiones_df.groupby(\"REGION\").agg(*(F.avg(col).alias(\"reg_\"+col) for col in columnas_promedio))\n",
    "\n",
    "    construccion_regiones_agrupada_df=construccion_regiones_agrupada_df.withColumn(\"Codigo_Region\",\n",
    "    F.when(construccion_regiones_agrupada_df[\"REGION\"]==\"CENTRAL\", 1)\n",
    "    .when(construccion_regiones_agrupada_df[\"REGION\"]==\"CHOROTEGA\", 2)\n",
    "    .when(construccion_regiones_agrupada_df[\"REGION\"]==\"PACIFICO CENTRAL\", 3)\n",
    "    .when(construccion_regiones_agrupada_df[\"REGION\"]==\"BRUNCA\", 4)\n",
    "    .when(construccion_regiones_agrupada_df[\"REGION\"]==\"HUETAR CARIBE\", 5)\n",
    "    .when(construccion_regiones_agrupada_df[\"REGION\"]==\"HUETAR NORTE\", 6))\n",
    "\n",
    "    return construccion_regiones_agrupada_df"
   ]
  },
  {
   "cell_type": "code",
   "execution_count": 89,
   "id": "d164ecee",
   "metadata": {},
   "outputs": [
    {
     "name": "stdout",
     "output_type": "stream",
     "text": [
      "+----------------+------------------+------------------+------------------+-----------------+------------------+--------------------+-------------+\n",
      "|          REGION| reg_pro_num_obras|   reg_prom_arecon|   reg_prom_numviv|  reg_prom_numapo|   reg_prom_numdor|     reg_prom_valobr|Codigo_Region|\n",
      "+----------------+------------------+------------------+------------------+-----------------+------------------+--------------------+-------------+\n",
      "|    HUETAR NORTE|1.0503136153898356| 71.42357793198545|0.9486050771143969|4.714806704849421| 2.172745293336891|1.9334500496198073E7|            6|\n",
      "|   HUETAR CARIBE|1.1466133138681152|59.878152501614835|0.9699997159750016| 3.98014685977476|1.8833681343661388|1.5375398208581805E7|            5|\n",
      "|         CENTRAL|1.3386748779531557|133.60794488188338|1.0805488324926336|6.747149989782027|2.8766782482438202| 4.539048286811655E7|            1|\n",
      "|          BRUNCA|1.0385502365644046|  69.4399004299654|0.9254513138431006| 4.61359800403076| 2.096031027513646|1.8023986822832573E7|            4|\n",
      "|       CHOROTEGA|1.1046536969499103|102.69855013433109|0.9580642027386144| 5.60963460047087| 2.370261460804899|3.2070019149654135E7|            2|\n",
      "|PACIFICO CENTRAL|1.1240826124954184|103.30609098218119|1.0041328776592726|5.889435001900645|2.5637056232682403| 3.179532884968296E7|            3|\n",
      "+----------------+------------------+------------------+------------------+-----------------+------------------+--------------------+-------------+\n",
      "\n"
     ]
    }
   ],
   "source": [
    "construccion_prom_region_2022 = construcciones_region_df_func(construccion_df,cantones_df,regiones_df)\n",
    "\n",
    "construccion_prom_region_2022.show()"
   ]
  },
  {
   "cell_type": "code",
   "execution_count": 90,
   "id": "5abb8e48",
   "metadata": {},
   "outputs": [],
   "source": [
    "def enaho_func(enaho_df):\n",
    "\n",
    "    enaho_2022_variables_df = enaho_df.select(\"ID_HOGAR\",\"LINEA\",\"REGION\",\"ZONA\",\"ithb\",\"Escolari\",\"C2A4\",\"TamViv\",\"V18J1\",\"V18F1\",\"V2A\")\n",
    "\n",
    "    \"La variable 'Tenencia de Viviennda' contiene 5 categorias. Para efectos de este trabajo se agrupan en solo 2. Casa Propia (1) Casa que no es propia (0)\"\n",
    "    enaho_2022_variables_binario_df = enaho_df.withColumn(\"Tenencia_Vivienda\", F.when(enaho_2022_variables_df.V2A.isin([1,2]),1).otherwise(0)).drop(\"V2A\",\"ID_HOGAR\")\n",
    "\n",
    "    '''Los datos de ENAHO vienen a nivel de hogar y nivel individual. Para el siguiente trabajo nos interesa utilizar las variables a nivel de hogar y agrupar aquellas que vienen a nivel individual.\n",
    "    Para esto se crea un identificador a nivel de cada hogar y se grupan las variables a nivel individual'''\n",
    "\n",
    "    windowSpec = Window.orderBy(F.monotonically_increasing_id()).rowsBetween(Window.unboundedPreceding, 0)\n",
    "\n",
    "    enaho_2022_variables_binario_df= enaho_2022_variables_binario_df.withColumn(\"id\", F.sum(F.when(F.col(\"LINEA\") == 1, 1).otherwise(0)).over(windowSpec)).drop(\"LINEA\")\n",
    "\n",
    "    enaho_2022_hogar_agr_df = enaho_2022_variables_binario_df.groupby(\"id\",\"REGION\",\"Tenencia_Vivienda\",\"TamViv\",\"V18J1\",\"V18F1\",\"ZONA\").agg(F.sum(\"Escolari\").alias(\"suma_escolari_hogar\"),\n",
    "                                                                                                                                F.avg(\"C2A4\").alias(\"suma_horas_trab_hogar\"),\n",
    "                                                                                                                                F.avg(\"ithb\").alias(\"Ingreso_Total_Bruto_Hogar\")) \\\n",
    "                                                                                                                                .orderBy(F.col(\"id\").asc())\n",
    "    enaho_2022_hogar_renombrado_df = enaho_2022_hogar_agr_df.withColumnRenamed(\"TamViv\",\"Cantidad_Personas\") \\\n",
    "                                                        .withColumnRenamed(\"V18J1\",\"Cantidad_vehiculos\").withColumnRenamed(\"V18F1\",\"Cantidad_Computadoras\")\\\n",
    "                                                        .withColumnRenamed(\"REGION\",\"Region_Geo\")\n",
    "\n",
    "    \n",
    "    return enaho_2022_hogar_renombrado_df"
   ]
  },
  {
   "cell_type": "code",
   "execution_count": 91,
   "id": "5c234eba",
   "metadata": {},
   "outputs": [
    {
     "name": "stderr",
     "output_type": "stream",
     "text": [
      "24/05/10 23:37:57 WARN WindowExec: No Partition Defined for Window operation! Moving all data to a single partition, this can cause serious performance degradation.\n",
      "24/05/10 23:37:57 WARN WindowExec: No Partition Defined for Window operation! Moving all data to a single partition, this can cause serious performance degradation.\n"
     ]
    },
    {
     "name": "stdout",
     "output_type": "stream",
     "text": [
      "+---+----------+-----------------+-----------------+------------------+---------------------+----+-------------------+---------------------+-------------------------+\n",
      "| id|Region_Geo|Tenencia_Vivienda|Cantidad_Personas|Cantidad_vehiculos|Cantidad_Computadoras|ZONA|suma_escolari_hogar|suma_horas_trab_hogar|Ingreso_Total_Bruto_Hogar|\n",
      "+---+----------+-----------------+-----------------+------------------+---------------------+----+-------------------+---------------------+-------------------------+\n",
      "|  1|       1.0|                1|              2.0|               1.0|                 null| 1.0|               12.0|                 null|                1029167.0|\n",
      "|  2|       1.0|                1|              4.0|              null|                 null| 1.0|               46.0|                 47.5|                2448333.0|\n",
      "|  3|       1.0|                0|              3.0|              null|                 null| 1.0|               30.0|                 48.0|                 494000.0|\n",
      "|  4|       1.0|                1|              4.0|               2.0|                  2.0| 1.0|               50.0|                 44.0|                3550000.0|\n",
      "|  5|       1.0|                1|              3.0|               1.0|                  1.0| 1.0|               30.0|                 null|                1248000.0|\n",
      "|  6|       1.0|                1|              2.0|              null|                  1.0| 1.0|               30.0|                 40.0|                1495000.0|\n",
      "|  7|       1.0|                1|              1.0|               1.0|                  1.0| 1.0|               22.0|                 null|                 862333.0|\n",
      "|  8|       1.0|                0|              4.0|               1.0|                  1.0| 1.0|               22.0|                 50.0|                 704167.0|\n",
      "|  9|       1.0|                0|              5.0|              null|                 null| 1.0|               46.0|                 28.5|                 572000.0|\n",
      "| 10|       1.0|                0|              4.0|              null|                  1.0| 1.0|               35.0|                 40.0|                 325000.0|\n",
      "| 11|       1.0|                1|              2.0|              null|                 null| 1.0|               19.0|                 null|                 130000.0|\n",
      "| 12|       1.0|                1|              1.0|              null|                  3.0| 1.0|               22.0|                 10.0|                1516666.0|\n",
      "| 13|       1.0|                0|              1.0|              null|                 null| 1.0|                7.0|                 55.0|                 520000.0|\n",
      "| 14|       1.0|                1|              4.0|               1.0|                  2.0| 1.0|               31.0|   50.333333333333336|                1894313.0|\n",
      "| 15|       1.0|                0|              4.0|              null|                  4.0| 1.0|               50.0|                 60.0|                3183917.0|\n",
      "| 16|       1.0|                0|              3.0|              null|                 null| 1.0|               27.0|                 53.5|                1166750.0|\n",
      "| 17|       1.0|                0|              3.0|              null|                 null| 1.0|               25.0|                  3.0|                 104000.0|\n",
      "| 18|       1.0|                1|              2.0|              null|                 null| 1.0|               28.0|                 60.0|                1782165.0|\n",
      "| 19|       1.0|                0|              4.0|              null|                 null| 1.0|               23.0|                 60.0|                 312000.0|\n",
      "| 20|       1.0|                0|              3.0|               1.0|                 null| 1.0|               18.0|                 60.0|                1211167.0|\n",
      "+---+----------+-----------------+-----------------+------------------+---------------------+----+-------------------+---------------------+-------------------------+\n",
      "only showing top 20 rows\n",
      "\n"
     ]
    },
    {
     "name": "stderr",
     "output_type": "stream",
     "text": [
      "24/05/10 23:37:58 WARN WindowExec: No Partition Defined for Window operation! Moving all data to a single partition, this can cause serious performance degradation.\n",
      "24/05/10 23:37:58 WARN WindowExec: No Partition Defined for Window operation! Moving all data to a single partition, this can cause serious performance degradation.\n"
     ]
    }
   ],
   "source": [
    "enaho_2022 = enaho_func(enaho_2022_df)\n",
    "\n",
    "enaho_2022.show()"
   ]
  },
  {
   "cell_type": "code",
   "execution_count": 103,
   "id": "7e22305a",
   "metadata": {},
   "outputs": [],
   "source": [
    "def unir_datos(enaho_df,construccion_df):\n",
    "\n",
    "    tenencia_vivienda = enaho_df.join(construccion_df,enaho_df[\"Region_Geo\"]==construccion_df[\"Codigo_Region\"],how='left')\n",
    "    tenencia_vivienda = tenencia_vivienda.drop('id','Region_Geo','Codigo_Region','REGION')                                                      \n",
    "    return tenencia_vivienda"
   ]
  },
  {
   "cell_type": "code",
   "execution_count": 104,
   "id": "db4bd043",
   "metadata": {},
   "outputs": [
    {
     "name": "stderr",
     "output_type": "stream",
     "text": [
      "24/05/10 23:42:11 WARN WindowExec: No Partition Defined for Window operation! Moving all data to a single partition, this can cause serious performance degradation.\n",
      "24/05/10 23:42:11 WARN WindowExec: No Partition Defined for Window operation! Moving all data to a single partition, this can cause serious performance degradation.\n",
      "24/05/10 23:42:12 WARN WindowExec: No Partition Defined for Window operation! Moving all data to a single partition, this can cause serious performance degradation.\n",
      "24/05/10 23:42:12 WARN WindowExec: No Partition Defined for Window operation! Moving all data to a single partition, this can cause serious performance degradation.\n",
      "24/05/10 23:42:12 WARN WindowExec: No Partition Defined for Window operation! Moving all data to a single partition, this can cause serious performance degradation.\n",
      "24/05/10 23:42:12 WARN WindowExec: No Partition Defined for Window operation! Moving all data to a single partition, this can cause serious performance degradation.\n",
      "24/05/10 23:42:12 WARN WindowExec: No Partition Defined for Window operation! Moving all data to a single partition, this can cause serious performance degradation.\n",
      "24/05/10 23:42:12 WARN WindowExec: No Partition Defined for Window operation! Moving all data to a single partition, this can cause serious performance degradation.\n"
     ]
    },
    {
     "name": "stdout",
     "output_type": "stream",
     "text": [
      "+-----------------+-----------------+------------------+---------------------+----+-------------------+---------------------+-------------------------+------------------+------------------+------------------+-----------------+------------------+-------------------+\n",
      "|Tenencia_Vivienda|Cantidad_Personas|Cantidad_vehiculos|Cantidad_Computadoras|ZONA|suma_escolari_hogar|suma_horas_trab_hogar|Ingreso_Total_Bruto_Hogar| reg_pro_num_obras|   reg_prom_arecon|   reg_prom_numviv|  reg_prom_numapo|   reg_prom_numdor|    reg_prom_valobr|\n",
      "+-----------------+-----------------+------------------+---------------------+----+-------------------+---------------------+-------------------------+------------------+------------------+------------------+-----------------+------------------+-------------------+\n",
      "|                1|              4.0|               2.0|                  2.0| 1.0|               50.0|                 44.0|                3550000.0|1.3386748779531557|133.60794488188338|1.0805488324926336|6.747149989782027|2.8766782482438202|4.539048286811655E7|\n",
      "|                1|              3.0|               1.0|                  1.0| 1.0|               30.0|                 null|                1248000.0|1.3386748779531557|133.60794488188338|1.0805488324926336|6.747149989782027|2.8766782482438202|4.539048286811655E7|\n",
      "|                1|              1.0|               1.0|                  1.0| 1.0|               22.0|                 null|                 862333.0|1.3386748779531557|133.60794488188338|1.0805488324926336|6.747149989782027|2.8766782482438202|4.539048286811655E7|\n",
      "|                0|              4.0|               1.0|                  1.0| 1.0|               22.0|                 50.0|                 704167.0|1.3386748779531557|133.60794488188338|1.0805488324926336|6.747149989782027|2.8766782482438202|4.539048286811655E7|\n",
      "|                1|              4.0|               1.0|                  2.0| 1.0|               31.0|   50.333333333333336|                1894313.0|1.3386748779531557|133.60794488188338|1.0805488324926336|6.747149989782027|2.8766782482438202|4.539048286811655E7|\n",
      "|                0|              5.0|               1.0|                  1.0| 1.0|               51.0|                 46.5|                1509584.0|1.3386748779531557|133.60794488188338|1.0805488324926336|6.747149989782027|2.8766782482438202|4.539048286811655E7|\n",
      "|                1|              3.0|               1.0|                  2.0| 1.0|               45.0|                 24.0|                1700833.0|1.3386748779531557|133.60794488188338|1.0805488324926336|6.747149989782027|2.8766782482438202|4.539048286811655E7|\n",
      "|                1|              4.0|               1.0|                  1.0| 1.0|               58.0|                 24.0|                2531750.0|1.3386748779531557|133.60794488188338|1.0805488324926336|6.747149989782027|2.8766782482438202|4.539048286811655E7|\n",
      "|                1|              3.0|               2.0|                  2.0| 1.0|               47.0|                 46.5|                6413333.0|1.3386748779531557|133.60794488188338|1.0805488324926336|6.747149989782027|2.8766782482438202|4.539048286811655E7|\n",
      "|                0|              5.0|               1.0|                  1.0| 1.0|               42.0|                 19.0|                 733850.0|1.3386748779531557|133.60794488188338|1.0805488324926336|6.747149989782027|2.8766782482438202|4.539048286811655E7|\n",
      "|                0|              4.0|               1.0|                  1.0| 1.0|               46.0|   41.666666666666664|                2374666.0|1.3386748779531557|133.60794488188338|1.0805488324926336|6.747149989782027|2.8766782482438202|4.539048286811655E7|\n",
      "|                1|              4.0|               1.0|                  1.0| 1.0|               15.0|                 70.0|                1040000.0|1.3386748779531557|133.60794488188338|1.0805488324926336|6.747149989782027|2.8766782482438202|4.539048286811655E7|\n",
      "|                0|              2.0|               1.0|                  1.0| 1.0|               30.0|                 48.0|                1608333.0|1.3386748779531557|133.60794488188338|1.0805488324926336|6.747149989782027|2.8766782482438202|4.539048286811655E7|\n",
      "|                1|              3.0|               1.0|                  1.0| 1.0|               36.0|                 null|                 650000.0|1.3386748779531557|133.60794488188338|1.0805488324926336|6.747149989782027|2.8766782482438202|4.539048286811655E7|\n",
      "|                1|              4.0|               1.0|                  2.0| 1.0|               37.0|                 44.5|                1745917.0|1.3386748779531557|133.60794488188338|1.0805488324926336|6.747149989782027|2.8766782482438202|4.539048286811655E7|\n",
      "|                1|              2.0|               1.0|                  2.0| 1.0|               29.0|                 24.0|                2283450.0|1.3386748779531557|133.60794488188338|1.0805488324926336|6.747149989782027|2.8766782482438202|4.539048286811655E7|\n",
      "|                0|              3.0|               1.0|                  1.0| 1.0|               31.0|                 null|                      0.0|1.3386748779531557|133.60794488188338|1.0805488324926336|6.747149989782027|2.8766782482438202|4.539048286811655E7|\n",
      "|                1|              3.0|               1.0|                  2.0| 1.0|               40.0|                 30.0|                2303491.0|1.3386748779531557|133.60794488188338|1.0805488324926336|6.747149989782027|2.8766782482438202|4.539048286811655E7|\n",
      "|                1|              3.0|               1.0|                  1.0| 1.0|               40.0|                 null|                 803000.0|1.3386748779531557|133.60794488188338|1.0805488324926336|6.747149989782027|2.8766782482438202|4.539048286811655E7|\n",
      "|                0|              4.0|               2.0|                  2.0| 1.0|               41.0|                 51.0|                5535833.0|1.3386748779531557|133.60794488188338|1.0805488324926336|6.747149989782027|2.8766782482438202|4.539048286811655E7|\n",
      "+-----------------+-----------------+------------------+---------------------+----+-------------------+---------------------+-------------------------+------------------+------------------+------------------+-----------------+------------------+-------------------+\n",
      "only showing top 20 rows\n",
      "\n"
     ]
    }
   ],
   "source": [
    "tenencia_vivienda_df = unir_datos(enaho_2022,construccion_prom_region_2022)\n",
    "\n",
    "tenencia_vivienda_df.show()"
   ]
  },
  {
   "cell_type": "code",
   "execution_count": 105,
   "id": "58cc6448",
   "metadata": {},
   "outputs": [],
   "source": [
    "def guardar_a_postgres(construccion,enaho,base_unida):\n",
    "    construccion \\\n",
    "    .write \\\n",
    "    .format(\"jdbc\") \\\n",
    "    .mode('overwrite') \\\n",
    "    .option(\"url\", \"jdbc:postgresql://host.docker.internal:5433/postgres\") \\\n",
    "    .option(\"user\", \"postgres\") \\\n",
    "    .option(\"password\", \"testPassword\") \\\n",
    "    .option(\"dbtable\", \"construccion_df\") \\\n",
    "    .save()\n",
    "    \n",
    "    enaho \\\n",
    "    .write \\\n",
    "    .format(\"jdbc\") \\\n",
    "    .mode('overwrite') \\\n",
    "    .option(\"url\", \"jdbc:postgresql://host.docker.internal:5433/postgres\") \\\n",
    "    .option(\"user\", \"postgres\") \\\n",
    "    .option(\"password\", \"testPassword\") \\\n",
    "    .option(\"dbtable\", \"enaho_df\") \\\n",
    "    .save()\n",
    "    \n",
    "    base_unida \\\n",
    "    .write \\\n",
    "    .format(\"jdbc\") \\\n",
    "    .mode('overwrite') \\\n",
    "    .option(\"url\", \"jdbc:postgresql://host.docker.internal:5433/postgres\") \\\n",
    "    .option(\"user\", \"postgres\") \\\n",
    "    .option(\"password\", \"testPassword\") \\\n",
    "    .option(\"dbtable\", \"tenencia_vivienda_df\") \\\n",
    "    .save()"
   ]
  },
  {
   "cell_type": "code",
   "execution_count": 106,
   "id": "3fa9da14",
   "metadata": {},
   "outputs": [
    {
     "name": "stderr",
     "output_type": "stream",
     "text": [
      "24/05/10 23:42:34 WARN WindowExec: No Partition Defined for Window operation! Moving all data to a single partition, this can cause serious performance degradation.\n",
      "24/05/10 23:42:34 WARN WindowExec: No Partition Defined for Window operation! Moving all data to a single partition, this can cause serious performance degradation.\n",
      "24/05/10 23:42:35 WARN WindowExec: No Partition Defined for Window operation! Moving all data to a single partition, this can cause serious performance degradation.\n",
      "24/05/10 23:42:35 WARN WindowExec: No Partition Defined for Window operation! Moving all data to a single partition, this can cause serious performance degradation.\n",
      "24/05/10 23:42:35 WARN WindowExec: No Partition Defined for Window operation! Moving all data to a single partition, this can cause serious performance degradation.\n",
      "24/05/10 23:42:35 WARN WindowExec: No Partition Defined for Window operation! Moving all data to a single partition, this can cause serious performance degradation.\n",
      "24/05/10 23:42:35 WARN WindowExec: No Partition Defined for Window operation! Moving all data to a single partition, this can cause serious performance degradation.\n",
      "24/05/10 23:42:35 WARN WindowExec: No Partition Defined for Window operation! Moving all data to a single partition, this can cause serious performance degradation.\n",
      "24/05/10 23:42:35 WARN WindowExec: No Partition Defined for Window operation! Moving all data to a single partition, this can cause serious performance degradation.\n",
      "24/05/10 23:42:35 WARN WindowExec: No Partition Defined for Window operation! Moving all data to a single partition, this can cause serious performance degradation.\n",
      "24/05/10 23:42:35 WARN WindowExec: No Partition Defined for Window operation! Moving all data to a single partition, this can cause serious performance degradation.\n",
      "24/05/10 23:42:35 WARN WindowExec: No Partition Defined for Window operation! Moving all data to a single partition, this can cause serious performance degradation.\n",
      "24/05/10 23:42:35 WARN WindowExec: No Partition Defined for Window operation! Moving all data to a single partition, this can cause serious performance degradation.\n",
      "24/05/10 23:42:35 WARN WindowExec: No Partition Defined for Window operation! Moving all data to a single partition, this can cause serious performance degradation.\n",
      "                                                                                \r"
     ]
    }
   ],
   "source": [
    "guardar_a_postgres(construccion_prom_region_2022,enaho_2022,tenencia_vivienda_df)"
   ]
  },
  {
   "cell_type": "code",
   "execution_count": 107,
   "id": "35174baa",
   "metadata": {},
   "outputs": [
    {
     "name": "stdout",
     "output_type": "stream",
     "text": [
      "+----------------+------------------+------------------+------------------+-----------------+------------------+--------------------+-------------+\n",
      "|          REGION| reg_pro_num_obras|   reg_prom_arecon|   reg_prom_numviv|  reg_prom_numapo|   reg_prom_numdor|     reg_prom_valobr|Codigo_Region|\n",
      "+----------------+------------------+------------------+------------------+-----------------+------------------+--------------------+-------------+\n",
      "|    HUETAR NORTE|1.0503136153898356| 71.42357793198545|0.9486050771143969|4.714806704849421| 2.172745293336891|1.9334500496198073E7|            6|\n",
      "|   HUETAR CARIBE|1.1466133138681152|59.878152501614835|0.9699997159750016| 3.98014685977476|1.8833681343661388|1.5375398208581805E7|            5|\n",
      "|         CENTRAL|1.3386748779531557|133.60794488188338|1.0805488324926336|6.747149989782027|2.8766782482438202| 4.539048286811655E7|            1|\n",
      "|          BRUNCA|1.0385502365644046|  69.4399004299654|0.9254513138431006| 4.61359800403076| 2.096031027513646|1.8023986822832573E7|            4|\n",
      "|       CHOROTEGA|1.1046536969499103|102.69855013433109|0.9580642027386144| 5.60963460047087| 2.370261460804899|3.2070019149654135E7|            2|\n",
      "|PACIFICO CENTRAL|1.1240826124954184|103.30609098218119|1.0041328776592726|5.889435001900645|2.5637056232682403| 3.179532884968296E7|            3|\n",
      "+----------------+------------------+------------------+------------------+-----------------+------------------+--------------------+-------------+\n",
      "\n"
     ]
    }
   ],
   "source": [
    "construccion_df = spark \\\n",
    "    .read \\\n",
    "    .format(\"jdbc\") \\\n",
    "    .option(\"url\", \"jdbc:postgresql://host.docker.internal:5433/postgres\") \\\n",
    "    .option(\"user\", \"postgres\") \\\n",
    "    .option(\"password\", \"testPassword\") \\\n",
    "    .option(\"dbtable\", \"construccion_df\") \\\n",
    "    .load()\n",
    "\n",
    "construccion_df.show()"
   ]
  },
  {
   "cell_type": "code",
   "execution_count": 108,
   "id": "76dee1ee",
   "metadata": {},
   "outputs": [
    {
     "name": "stdout",
     "output_type": "stream",
     "text": [
      "+---+----------+-----------------+-----------------+------------------+---------------------+----+-------------------+---------------------+-------------------------+\n",
      "| id|Region_Geo|Tenencia_Vivienda|Cantidad_Personas|Cantidad_vehiculos|Cantidad_Computadoras|ZONA|suma_escolari_hogar|suma_horas_trab_hogar|Ingreso_Total_Bruto_Hogar|\n",
      "+---+----------+-----------------+-----------------+------------------+---------------------+----+-------------------+---------------------+-------------------------+\n",
      "|  1|       1.0|                1|              2.0|               1.0|                 null| 1.0|               12.0|                 null|                1029167.0|\n",
      "|  2|       1.0|                1|              4.0|              null|                 null| 1.0|               46.0|                 47.5|                2448333.0|\n",
      "|  3|       1.0|                0|              3.0|              null|                 null| 1.0|               30.0|                 48.0|                 494000.0|\n",
      "|  4|       1.0|                1|              4.0|               2.0|                  2.0| 1.0|               50.0|                 44.0|                3550000.0|\n",
      "|  5|       1.0|                1|              3.0|               1.0|                  1.0| 1.0|               30.0|                 null|                1248000.0|\n",
      "|  6|       1.0|                1|              2.0|              null|                  1.0| 1.0|               30.0|                 40.0|                1495000.0|\n",
      "|  7|       1.0|                1|              1.0|               1.0|                  1.0| 1.0|               22.0|                 null|                 862333.0|\n",
      "|  8|       1.0|                0|              4.0|               1.0|                  1.0| 1.0|               22.0|                 50.0|                 704167.0|\n",
      "|  9|       1.0|                0|              5.0|              null|                 null| 1.0|               46.0|                 28.5|                 572000.0|\n",
      "| 10|       1.0|                0|              4.0|              null|                  1.0| 1.0|               35.0|                 40.0|                 325000.0|\n",
      "| 11|       1.0|                1|              2.0|              null|                 null| 1.0|               19.0|                 null|                 130000.0|\n",
      "| 12|       1.0|                1|              1.0|              null|                  3.0| 1.0|               22.0|                 10.0|                1516666.0|\n",
      "| 13|       1.0|                0|              1.0|              null|                 null| 1.0|                7.0|                 55.0|                 520000.0|\n",
      "| 14|       1.0|                1|              4.0|               1.0|                  2.0| 1.0|               31.0|   50.333333333333336|                1894313.0|\n",
      "| 15|       1.0|                0|              4.0|              null|                  4.0| 1.0|               50.0|                 60.0|                3183917.0|\n",
      "| 16|       1.0|                0|              3.0|              null|                 null| 1.0|               27.0|                 53.5|                1166750.0|\n",
      "| 17|       1.0|                0|              3.0|              null|                 null| 1.0|               25.0|                  3.0|                 104000.0|\n",
      "| 18|       1.0|                1|              2.0|              null|                 null| 1.0|               28.0|                 60.0|                1782165.0|\n",
      "| 19|       1.0|                0|              4.0|              null|                 null| 1.0|               23.0|                 60.0|                 312000.0|\n",
      "| 20|       1.0|                0|              3.0|               1.0|                 null| 1.0|               18.0|                 60.0|                1211167.0|\n",
      "+---+----------+-----------------+-----------------+------------------+---------------------+----+-------------------+---------------------+-------------------------+\n",
      "only showing top 20 rows\n",
      "\n"
     ]
    }
   ],
   "source": [
    "enaho_df = spark \\\n",
    "    .read \\\n",
    "    .format(\"jdbc\") \\\n",
    "    .option(\"url\", \"jdbc:postgresql://host.docker.internal:5433/postgres\") \\\n",
    "    .option(\"user\", \"postgres\") \\\n",
    "    .option(\"password\", \"testPassword\") \\\n",
    "    .option(\"dbtable\", \"enaho_df\") \\\n",
    "    .load()\n",
    "\n",
    "enaho_df.show()"
   ]
  },
  {
   "cell_type": "code",
   "execution_count": 109,
   "id": "e0dfa419",
   "metadata": {},
   "outputs": [
    {
     "name": "stdout",
     "output_type": "stream",
     "text": [
      "+-----------------+-----------------+------------------+---------------------+----+-------------------+---------------------+-------------------------+------------------+------------------+------------------+-----------------+------------------+-------------------+\n",
      "|Tenencia_Vivienda|Cantidad_Personas|Cantidad_vehiculos|Cantidad_Computadoras|ZONA|suma_escolari_hogar|suma_horas_trab_hogar|Ingreso_Total_Bruto_Hogar| reg_pro_num_obras|   reg_prom_arecon|   reg_prom_numviv|  reg_prom_numapo|   reg_prom_numdor|    reg_prom_valobr|\n",
      "+-----------------+-----------------+------------------+---------------------+----+-------------------+---------------------+-------------------------+------------------+------------------+------------------+-----------------+------------------+-------------------+\n",
      "|                1|              4.0|               2.0|                  2.0| 1.0|               50.0|                 44.0|                3550000.0|1.3386748779531557|133.60794488188338|1.0805488324926336|6.747149989782027|2.8766782482438202|4.539048286811655E7|\n",
      "|                1|              3.0|               1.0|                  1.0| 1.0|               30.0|                 null|                1248000.0|1.3386748779531557|133.60794488188338|1.0805488324926336|6.747149989782027|2.8766782482438202|4.539048286811655E7|\n",
      "|                1|              1.0|               1.0|                  1.0| 1.0|               22.0|                 null|                 862333.0|1.3386748779531557|133.60794488188338|1.0805488324926336|6.747149989782027|2.8766782482438202|4.539048286811655E7|\n",
      "|                0|              4.0|               1.0|                  1.0| 1.0|               22.0|                 50.0|                 704167.0|1.3386748779531557|133.60794488188338|1.0805488324926336|6.747149989782027|2.8766782482438202|4.539048286811655E7|\n",
      "|                1|              4.0|               1.0|                  2.0| 1.0|               31.0|   50.333333333333336|                1894313.0|1.3386748779531557|133.60794488188338|1.0805488324926336|6.747149989782027|2.8766782482438202|4.539048286811655E7|\n",
      "|                0|              5.0|               1.0|                  1.0| 1.0|               51.0|                 46.5|                1509584.0|1.3386748779531557|133.60794488188338|1.0805488324926336|6.747149989782027|2.8766782482438202|4.539048286811655E7|\n",
      "|                1|              3.0|               1.0|                  2.0| 1.0|               45.0|                 24.0|                1700833.0|1.3386748779531557|133.60794488188338|1.0805488324926336|6.747149989782027|2.8766782482438202|4.539048286811655E7|\n",
      "|                1|              4.0|               1.0|                  1.0| 1.0|               58.0|                 24.0|                2531750.0|1.3386748779531557|133.60794488188338|1.0805488324926336|6.747149989782027|2.8766782482438202|4.539048286811655E7|\n",
      "|                1|              3.0|               2.0|                  2.0| 1.0|               47.0|                 46.5|                6413333.0|1.3386748779531557|133.60794488188338|1.0805488324926336|6.747149989782027|2.8766782482438202|4.539048286811655E7|\n",
      "|                0|              5.0|               1.0|                  1.0| 1.0|               42.0|                 19.0|                 733850.0|1.3386748779531557|133.60794488188338|1.0805488324926336|6.747149989782027|2.8766782482438202|4.539048286811655E7|\n",
      "|                0|              4.0|               1.0|                  1.0| 1.0|               46.0|   41.666666666666664|                2374666.0|1.3386748779531557|133.60794488188338|1.0805488324926336|6.747149989782027|2.8766782482438202|4.539048286811655E7|\n",
      "|                1|              4.0|               1.0|                  1.0| 1.0|               15.0|                 70.0|                1040000.0|1.3386748779531557|133.60794488188338|1.0805488324926336|6.747149989782027|2.8766782482438202|4.539048286811655E7|\n",
      "|                0|              2.0|               1.0|                  1.0| 1.0|               30.0|                 48.0|                1608333.0|1.3386748779531557|133.60794488188338|1.0805488324926336|6.747149989782027|2.8766782482438202|4.539048286811655E7|\n",
      "|                1|              3.0|               1.0|                  1.0| 1.0|               36.0|                 null|                 650000.0|1.3386748779531557|133.60794488188338|1.0805488324926336|6.747149989782027|2.8766782482438202|4.539048286811655E7|\n",
      "|                1|              4.0|               1.0|                  2.0| 1.0|               37.0|                 44.5|                1745917.0|1.3386748779531557|133.60794488188338|1.0805488324926336|6.747149989782027|2.8766782482438202|4.539048286811655E7|\n",
      "|                1|              2.0|               1.0|                  2.0| 1.0|               29.0|                 24.0|                2283450.0|1.3386748779531557|133.60794488188338|1.0805488324926336|6.747149989782027|2.8766782482438202|4.539048286811655E7|\n",
      "|                0|              3.0|               1.0|                  1.0| 1.0|               31.0|                 null|                      0.0|1.3386748779531557|133.60794488188338|1.0805488324926336|6.747149989782027|2.8766782482438202|4.539048286811655E7|\n",
      "|                1|              3.0|               1.0|                  2.0| 1.0|               40.0|                 30.0|                2303491.0|1.3386748779531557|133.60794488188338|1.0805488324926336|6.747149989782027|2.8766782482438202|4.539048286811655E7|\n",
      "|                1|              3.0|               1.0|                  1.0| 1.0|               40.0|                 null|                 803000.0|1.3386748779531557|133.60794488188338|1.0805488324926336|6.747149989782027|2.8766782482438202|4.539048286811655E7|\n",
      "|                0|              4.0|               2.0|                  2.0| 1.0|               41.0|                 51.0|                5535833.0|1.3386748779531557|133.60794488188338|1.0805488324926336|6.747149989782027|2.8766782482438202|4.539048286811655E7|\n",
      "+-----------------+-----------------+------------------+---------------------+----+-------------------+---------------------+-------------------------+------------------+------------------+------------------+-----------------+------------------+-------------------+\n",
      "only showing top 20 rows\n",
      "\n"
     ]
    }
   ],
   "source": [
    "tenencia_vivienda_df = spark \\\n",
    "    .read \\\n",
    "    .format(\"jdbc\") \\\n",
    "    .option(\"url\", \"jdbc:postgresql://host.docker.internal:5433/postgres\") \\\n",
    "    .option(\"user\", \"postgres\") \\\n",
    "    .option(\"password\", \"testPassword\") \\\n",
    "    .option(\"dbtable\", \"tenencia_vivienda_df\") \\\n",
    "    .load()\n",
    "\n",
    "tenencia_vivienda_df.show()"
   ]
  },
  {
   "cell_type": "code",
   "execution_count": 170,
   "id": "19763994",
   "metadata": {},
   "outputs": [
    {
     "name": "stdout",
     "output_type": "stream",
     "text": [
      "+-----------------+-----------------+------------------+---------------------+----+-------------------+---------------------+-------------------------+------------------+------------------+------------------+-----------------+------------------+-------------------+\n",
      "|Tenencia_Vivienda|Cantidad_Personas|Cantidad_vehiculos|Cantidad_Computadoras|ZONA|suma_escolari_hogar|suma_horas_trab_hogar|Ingreso_Total_Bruto_Hogar| reg_pro_num_obras|   reg_prom_arecon|   reg_prom_numviv|  reg_prom_numapo|   reg_prom_numdor|    reg_prom_valobr|\n",
      "+-----------------+-----------------+------------------+---------------------+----+-------------------+---------------------+-------------------------+------------------+------------------+------------------+-----------------+------------------+-------------------+\n",
      "|                1|              4.0|               2.0|                  2.0| 1.0|               50.0|                 44.0|                3550000.0|1.3386748779531557|133.60794488188338|1.0805488324926336|6.747149989782027|2.8766782482438202|4.539048286811655E7|\n",
      "|                1|              3.0|               1.0|                  1.0| 1.0|               30.0|                  0.0|                1248000.0|1.3386748779531557|133.60794488188338|1.0805488324926336|6.747149989782027|2.8766782482438202|4.539048286811655E7|\n",
      "|                1|              1.0|               1.0|                  1.0| 1.0|               22.0|                  0.0|                 862333.0|1.3386748779531557|133.60794488188338|1.0805488324926336|6.747149989782027|2.8766782482438202|4.539048286811655E7|\n",
      "|                0|              4.0|               1.0|                  1.0| 1.0|               22.0|                 50.0|                 704167.0|1.3386748779531557|133.60794488188338|1.0805488324926336|6.747149989782027|2.8766782482438202|4.539048286811655E7|\n",
      "|                1|              4.0|               1.0|                  2.0| 1.0|               31.0|   50.333333333333336|                1894313.0|1.3386748779531557|133.60794488188338|1.0805488324926336|6.747149989782027|2.8766782482438202|4.539048286811655E7|\n",
      "|                0|              5.0|               1.0|                  1.0| 1.0|               51.0|                 46.5|                1509584.0|1.3386748779531557|133.60794488188338|1.0805488324926336|6.747149989782027|2.8766782482438202|4.539048286811655E7|\n",
      "|                1|              3.0|               1.0|                  2.0| 1.0|               45.0|                 24.0|                1700833.0|1.3386748779531557|133.60794488188338|1.0805488324926336|6.747149989782027|2.8766782482438202|4.539048286811655E7|\n",
      "|                1|              4.0|               1.0|                  1.0| 1.0|               58.0|                 24.0|                2531750.0|1.3386748779531557|133.60794488188338|1.0805488324926336|6.747149989782027|2.8766782482438202|4.539048286811655E7|\n",
      "|                1|              3.0|               2.0|                  2.0| 1.0|               47.0|                 46.5|                6413333.0|1.3386748779531557|133.60794488188338|1.0805488324926336|6.747149989782027|2.8766782482438202|4.539048286811655E7|\n",
      "|                0|              5.0|               1.0|                  1.0| 1.0|               42.0|                 19.0|                 733850.0|1.3386748779531557|133.60794488188338|1.0805488324926336|6.747149989782027|2.8766782482438202|4.539048286811655E7|\n",
      "|                0|              4.0|               1.0|                  1.0| 1.0|               46.0|   41.666666666666664|                2374666.0|1.3386748779531557|133.60794488188338|1.0805488324926336|6.747149989782027|2.8766782482438202|4.539048286811655E7|\n",
      "|                1|              4.0|               1.0|                  1.0| 1.0|               15.0|                 70.0|                1040000.0|1.3386748779531557|133.60794488188338|1.0805488324926336|6.747149989782027|2.8766782482438202|4.539048286811655E7|\n",
      "|                0|              2.0|               1.0|                  1.0| 1.0|               30.0|                 48.0|                1608333.0|1.3386748779531557|133.60794488188338|1.0805488324926336|6.747149989782027|2.8766782482438202|4.539048286811655E7|\n",
      "|                1|              3.0|               1.0|                  1.0| 1.0|               36.0|                  0.0|                 650000.0|1.3386748779531557|133.60794488188338|1.0805488324926336|6.747149989782027|2.8766782482438202|4.539048286811655E7|\n",
      "|                1|              4.0|               1.0|                  2.0| 1.0|               37.0|                 44.5|                1745917.0|1.3386748779531557|133.60794488188338|1.0805488324926336|6.747149989782027|2.8766782482438202|4.539048286811655E7|\n",
      "|                1|              2.0|               1.0|                  2.0| 1.0|               29.0|                 24.0|                2283450.0|1.3386748779531557|133.60794488188338|1.0805488324926336|6.747149989782027|2.8766782482438202|4.539048286811655E7|\n",
      "|                0|              3.0|               1.0|                  1.0| 1.0|               31.0|                  0.0|                      0.0|1.3386748779531557|133.60794488188338|1.0805488324926336|6.747149989782027|2.8766782482438202|4.539048286811655E7|\n",
      "|                1|              3.0|               1.0|                  2.0| 1.0|               40.0|                 30.0|                2303491.0|1.3386748779531557|133.60794488188338|1.0805488324926336|6.747149989782027|2.8766782482438202|4.539048286811655E7|\n",
      "|                1|              3.0|               1.0|                  1.0| 1.0|               40.0|                  0.0|                 803000.0|1.3386748779531557|133.60794488188338|1.0805488324926336|6.747149989782027|2.8766782482438202|4.539048286811655E7|\n",
      "|                0|              4.0|               2.0|                  2.0| 1.0|               41.0|                 51.0|                5535833.0|1.3386748779531557|133.60794488188338|1.0805488324926336|6.747149989782027|2.8766782482438202|4.539048286811655E7|\n",
      "+-----------------+-----------------+------------------+---------------------+----+-------------------+---------------------+-------------------------+------------------+------------------+------------------+-----------------+------------------+-------------------+\n",
      "only showing top 20 rows\n",
      "\n",
      "['Tenencia_Vivienda', 'Cantidad_Personas', 'Cantidad_vehiculos', 'Cantidad_Computadoras', 'ZONA', 'suma_escolari_hogar', 'suma_horas_trab_hogar', 'Ingreso_Total_Bruto_Hogar', 'reg_pro_num_obras', 'reg_prom_arecon', 'reg_prom_numviv', 'reg_prom_numapo', 'reg_prom_numdor', 'reg_prom_valobr']\n"
     ]
    }
   ],
   "source": [
    "#Se remplazan las observaciones nulas con 0\n",
    "tenencia_vivienda_df_1 =tenencia_vivienda_df.fillna(0)\n",
    "\n",
    "tenencia_vivienda_df_1.show()\n",
    "\n",
    "print(tenencia_vivienda_df_1.columns)"
   ]
  },
  {
   "cell_type": "code",
   "execution_count": 176,
   "id": "ba3c0f16",
   "metadata": {},
   "outputs": [
    {
     "name": "stdout",
     "output_type": "stream",
     "text": [
      "+--------------------+-----------------+\n",
      "|            features|Tenencia_Vivienda|\n",
      "+--------------------+-----------------+\n",
      "|[4.0,2.0,2.0,1.0,...|                1|\n",
      "|[3.0,1.0,1.0,1.0,...|                1|\n",
      "|[1.0,1.0,1.0,1.0,...|                1|\n",
      "|[4.0,1.0,1.0,1.0,...|                0|\n",
      "|[4.0,1.0,2.0,1.0,...|                1|\n",
      "|[5.0,1.0,1.0,1.0,...|                0|\n",
      "|[3.0,1.0,2.0,1.0,...|                1|\n",
      "|[4.0,1.0,1.0,1.0,...|                1|\n",
      "|[3.0,2.0,2.0,1.0,...|                1|\n",
      "|[5.0,1.0,1.0,1.0,...|                0|\n",
      "|[4.0,1.0,1.0,1.0,...|                0|\n",
      "|[4.0,1.0,1.0,1.0,...|                1|\n",
      "|[2.0,1.0,1.0,1.0,...|                0|\n",
      "|[3.0,1.0,1.0,1.0,...|                1|\n",
      "|[4.0,1.0,2.0,1.0,...|                1|\n",
      "|[2.0,1.0,2.0,1.0,...|                1|\n",
      "|[3.0,1.0,1.0,1.0,...|                0|\n",
      "|[3.0,1.0,2.0,1.0,...|                1|\n",
      "|[3.0,1.0,1.0,1.0,...|                1|\n",
      "|[4.0,2.0,2.0,1.0,...|                0|\n",
      "+--------------------+-----------------+\n",
      "only showing top 20 rows\n",
      "\n"
     ]
    }
   ],
   "source": [
    "feature_columns = [col for col in tenencia_vivienda_df_1.columns if col !='Tenencia_Vivienda']\n",
    "assembler = VectorAssembler(inputCols=feature_columns, outputCol=\"features\")\n",
    "vector_df = assembler.transform(tenencia_vivienda_df_1)\n",
    "vector_df = vector_df.select(['features','Tenencia_Vivienda'])\n",
    "vector_df.show()"
   ]
  },
  {
   "cell_type": "code",
   "execution_count": 177,
   "id": "90adfca8",
   "metadata": {},
   "outputs": [
    {
     "name": "stdout",
     "output_type": "stream",
     "text": [
      "+--------------------+-----------------+\n",
      "|      columns_scaled|Tenencia_Vivienda|\n",
      "+--------------------+-----------------+\n",
      "|[2.54800381482655...|                1|\n",
      "|[1.91100286111991...|                1|\n",
      "|[0.63700095370663...|                1|\n",
      "|[2.54800381482655...|                0|\n",
      "|[2.54800381482655...|                1|\n",
      "|[3.18500476853319...|                0|\n",
      "|[1.91100286111991...|                1|\n",
      "|[2.54800381482655...|                1|\n",
      "|[1.91100286111991...|                1|\n",
      "|[3.18500476853319...|                0|\n",
      "|[2.54800381482655...|                0|\n",
      "|[2.54800381482655...|                1|\n",
      "|[1.27400190741327...|                0|\n",
      "|[1.91100286111991...|                1|\n",
      "|[2.54800381482655...|                1|\n",
      "|[1.27400190741327...|                1|\n",
      "|[1.91100286111991...|                0|\n",
      "|[1.91100286111991...|                1|\n",
      "|[1.91100286111991...|                1|\n",
      "|[2.54800381482655...|                0|\n",
      "+--------------------+-----------------+\n",
      "only showing top 20 rows\n",
      "\n",
      "root\n",
      " |-- columns_scaled: vector (nullable = true)\n",
      " |-- Tenencia_Vivienda: integer (nullable = true)\n",
      "\n"
     ]
    }
   ],
   "source": [
    "standard_scaler = StandardScaler(inputCol='features', outputCol='columns_scaled')\n",
    "scale_model = standard_scaler.fit(vector_df)\n",
    "\n",
    "scaled_df = scale_model.transform(vector_df)\n",
    "\n",
    "#Se muestran los resultados\n",
    "vector_scaled_df = scaled_df.select(['columns_scaled','Tenencia_Vivienda'])\n",
    "vector_scaled_df.show()\n",
    "vector_scaled_df.printSchema()"
   ]
  },
  {
   "cell_type": "code",
   "execution_count": 200,
   "id": "3c69afa5",
   "metadata": {},
   "outputs": [
    {
     "name": "stderr",
     "output_type": "stream",
     "text": [
      "                                                                                \r"
     ]
    }
   ],
   "source": [
    "#Primer modelo (Regresion Logistica)\n",
    "\n",
    "# Division en entrenamiento y prueba\n",
    "train_data, test_data = vector_scaled_df.randomSplit([0.7, 0.3], seed=123)\n",
    "\n",
    "lr = LogisticRegression(featuresCol=\"columns_scaled\", labelCol='Tenencia_Vivienda')\n",
    "\n",
    "lr_model = lr.fit(train_data)\n",
    "\n",
    "#Prediccion en datos de prueba\n",
    "prediccion_lr = lr_model.transform(test_data)\n"
   ]
  },
  {
   "cell_type": "code",
   "execution_count": 201,
   "id": "d64414c6",
   "metadata": {},
   "outputs": [
    {
     "name": "stdout",
     "output_type": "stream",
     "text": [
      "Area Under ROC Curve: 0.6736479508797696\n"
     ]
    }
   ],
   "source": [
    "evaluator = BinaryClassificationEvaluator(labelCol='Tenencia_Vivienda')\n",
    "area_under_curve = evaluator.evaluate(prediccion_lr)\n",
    "print(\"Area Under ROC Curve:\", area_under_curve)\n"
   ]
  },
  {
   "cell_type": "code",
   "execution_count": 203,
   "id": "696761f9",
   "metadata": {},
   "outputs": [
    {
     "name": "stderr",
     "output_type": "stream",
     "text": [
      "24/05/11 02:46:19 WARN CacheManager: Asked to cache already cached data.\n",
      "24/05/11 02:46:19 WARN CacheManager: Asked to cache already cached data.\n"
     ]
    }
   ],
   "source": [
    "# Segundo Modelo (arbol de decision)\n",
    "\n",
    "# Division en entrenamiento y prueba\n",
    "train_data, test_data = vector_scaled_df.randomSplit([0.7, 0.3], seed=123)\n",
    "\n",
    "\n",
    "dt = DecisionTreeClassifier(featuresCol=\"columns_scaled\", labelCol=\"Tenencia_Vivienda\")\n",
    "\n",
    "#Parametros para validacion cruzada\n",
    "paramGrid = ParamGridBuilder() \\\n",
    "    .addGrid(dt.maxDepth, [5, 10]) \\\n",
    "    .addGrid(dt.maxBins, [20, 30]) \\\n",
    "    .build()\n",
    "\n",
    "\n",
    "\n",
    "#Validacion cruzada\n",
    "cv = CrossValidator(estimator=dt,\n",
    "                    estimatorParamMaps=paramGrid,\n",
    "                    evaluator=evaluator,\n",
    "                    numFolds=5)\n",
    "\n",
    "#Entrenamiento del modelo\n",
    "cvModel = cv.fit(train_data)\n",
    "\n",
    "#Prediccion en datos de prueba\n",
    "prediccion_dt = cvModel.transform(test_data)\n",
    "\n"
   ]
  },
  {
   "cell_type": "code",
   "execution_count": 204,
   "id": "e242bb0b",
   "metadata": {},
   "outputs": [
    {
     "name": "stdout",
     "output_type": "stream",
     "text": [
      "Area bajo la curva ROC: 0.5696153330164866\n"
     ]
    }
   ],
   "source": [
    "evaluator = BinaryClassificationEvaluator(labelCol='Tenencia_Vivienda')\n",
    "roc_dt = evaluator.evaluate(prediccion_dt)\n",
    "print(f\"Area bajo la curva ROC: {roc_dt}\")"
   ]
  }
 ],
 "metadata": {
  "kernelspec": {
   "display_name": "Python 3 (ipykernel)",
   "language": "python",
   "name": "python3"
  },
  "language_info": {
   "codemirror_mode": {
    "name": "ipython",
    "version": 3
   },
   "file_extension": ".py",
   "mimetype": "text/x-python",
   "name": "python",
   "nbconvert_exporter": "python",
   "pygments_lexer": "ipython3",
   "version": "3.7.10"
  }
 },
 "nbformat": 4,
 "nbformat_minor": 5
}
