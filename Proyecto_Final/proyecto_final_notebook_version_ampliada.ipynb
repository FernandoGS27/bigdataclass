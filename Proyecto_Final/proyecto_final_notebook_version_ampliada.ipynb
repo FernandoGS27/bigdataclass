{
 "cells": [
  {
   "cell_type": "code",
   "execution_count": 97,
   "id": "55bee48b",
   "metadata": {},
   "outputs": [],
   "source": [
    "from pyspark.sql import SparkSession\n",
    "from pyspark.sql import functions as F\n",
    "from pyspark.sql.window import Window\n",
    "from pyspark.ml.feature import StringIndexer, OneHotEncoder,VectorAssembler, StandardScaler\n",
    "from pyspark.ml.classification import LogisticRegression, DecisionTreeClassifier\n",
    "from pyspark.ml.tuning import ParamGridBuilder, CrossValidator\n",
    "from pyspark.ml.evaluation import BinaryClassificationEvaluator\n",
    "from pyspark.mllib.evaluation import BinaryClassificationMetrics, MulticlassMetrics\n",
    "import findspark\n",
    "import matplotlib.pyplot as pl\n",
    "import pandas as pd"
   ]
  },
  {
   "cell_type": "code",
   "execution_count": 2,
   "id": "f41d0281",
   "metadata": {},
   "outputs": [
    {
     "name": "stderr",
     "output_type": "stream",
     "text": [
      "ps: unrecognized option: p\n",
      "BusyBox v1.30.1 (2019-10-26 11:23:07 UTC) multi-call binary.\n",
      "\n",
      "Usage: ps [-o COL1,COL2=HEADER]\n",
      "\n",
      "Show list of processes\n",
      "\n",
      "\t-o COL1,COL2=HEADER\tSelect columns for display\n",
      "Setting default log level to \"WARN\".\n",
      "To adjust logging level use sc.setLogLevel(newLevel). For SparkR, use setLogLevel(newLevel).\n",
      "24/05/11 23:04:40 WARN NativeCodeLoader: Unable to load native-hadoop library for your platform... using builtin-java classes where applicable\n",
      "/usr/lib/python3.7/site-packages/pyspark/context.py:317: FutureWarning: Python 3.7 support is deprecated in Spark 3.4.\n",
      "  warnings.warn(\"Python 3.7 support is deprecated in Spark 3.4.\", FutureWarning)\n"
     ]
    }
   ],
   "source": [
    "\n",
    "findspark.init('/usr/lib/python3.7/site-packages/pyspark')\n",
    "\n",
    "spark = SparkSession \\\n",
    "    .builder \\\n",
    "    .appName(\"Basic JDBC pipeline\") \\\n",
    "    .config(\"spark.driver.extraClassPath\", \"postgresql-42.2.14.jar\") \\\n",
    "    .config(\"spark.executor.extraClassPath\", \"postgresql-42.2.14.jar\") \\\n",
    "    .getOrCreate()"
   ]
  },
  {
   "cell_type": "code",
   "execution_count": 11,
   "id": "0c09c88c",
   "metadata": {},
   "outputs": [
    {
     "name": "stderr",
     "output_type": "stream",
     "text": [
      "                                                                                \r"
     ]
    }
   ],
   "source": [
    "## Se carga la base de datos de construccion\n",
    "construccion_df = spark.read.csv(\"Base_Anonimizada2022.csv\",header=True,inferSchema=True)\n",
    "\n",
    "##Se carga la base de datos que mapea los cantones con su respectivo codigo y se limpia\n",
    "\n",
    "cantones_df =spark.read.csv(\"SEN_GEOGRAFICO_1.csv\",header=True,inferSchema=True)\n",
    "\n",
    "##Se carga la base de datos que mapea cada canton con la region\n",
    "\n",
    "regiones_df = spark.read.csv(\"division_territorial_por_region.csv\",header=True,inferSchema=True)\n",
    "\n",
    "##Se carga la base de datos de ENAHO\n",
    "\n",
    "enaho_2022_df = spark.read.csv(\"BdBasePublica.csv\",header=True,inferSchema=True)"
   ]
  },
  {
   "cell_type": "code",
   "execution_count": 21,
   "id": "22e6a8f3",
   "metadata": {},
   "outputs": [],
   "source": [
    "lowercase_columns = [col_name for col_name in enaho_2022_df.columns if col_name.islower()]\n",
    "\n",
    "\n",
    "enaho_2022_df_1 = enaho_2022_df.select(\"ID_HOGAR\",\"LINEA\",\"REGION\",\"V2A\",*lowercase_columns)\n"
   ]
  },
  {
   "cell_type": "code",
   "execution_count": 13,
   "id": "0902ac79",
   "metadata": {},
   "outputs": [],
   "source": [
    "def construcciones_region_df_func(constru_df,canton_df,region_df):\n",
    "\n",
    "    construccion_residencial_df = constru_df.filter(constru_df.claobr==1)\n",
    "    construccion_residencial_df = construccion_residencial_df.select(\"pro_num_prov\",\"pc_num_cant\",\"num_obras\",\"arecon\",\"numviv\",\"numapo\",\"numdor\",\"valobr\")\n",
    "    construccion_residencial_agrupada_df = construccion_residencial_df.groupby(\"pro_num_prov\",\"pc_num_cant\").agg(F.avg(\"num_obras\").alias(\"pro_num_obras\"),F.avg(\"arecon\").alias(\"prom_arecon\"),\n",
    "                                                                                                            F.avg(\"numviv\").alias(\"prom_numviv\"),F.avg(\"numapo\").alias(\"prom_numapo\"),\n",
    "                                                                                                            F.avg(\"numdor\").alias(\"prom_numdor\"),F.avg(\"valobr\").alias(\"prom_valobr\"))\n",
    "    \n",
    "    cantones_codigo_df = canton_df.withColumn(\"Codigo_DTA\",F.split(canton_df[\"CodigoDTA\"],\",\")[0])\\\n",
    "                                .withColumn(\"Canton\",F.split(canton_df[\"CodigoDTA\"],\",\")[1]).drop(\"CodigoDTA\",\"Nombre\")\n",
    "    \n",
    "    for column in cantones_codigo_df.columns:\n",
    "        cantones_codigo_df = cantones_codigo_df.withColumn(column,F.regexp_replace(column,'\"',''))\n",
    "\n",
    "    regiones_limpio_df = region_df.withColumn(\"Codigo_DTA\",F.substring(\"CODIGO\",1,3)).select(\"Codigo_DTA\",\"CANTON\",\"REGION\").distinct()\n",
    "\n",
    "    construccion_cantones_df=construccion_residencial_agrupada_df.join(cantones_codigo_df,construccion_residencial_agrupada_df[\"pc_num_cant\"]==cantones_codigo_df[\"Codigo_DTA\"],\n",
    "                                                                   how=\"inner\").drop(\"pc_num_cant\",\"pro_num_prov\")\n",
    "    \n",
    "    construccion_regiones_df=construccion_cantones_df.join(regiones_limpio_df,on=\"Codigo_DTA\",how=\"left\").drop(\"Canton\",\"CANTON\",\"Codigo_DTA\")\n",
    "\n",
    "    columnas_promedio = [col for col in construccion_regiones_df.columns if col!=\"REGION\"]\n",
    "\n",
    "    construccion_regiones_agrupada_df = construccion_regiones_df.groupby(\"REGION\").agg(*(F.avg(col).alias(\"reg_\"+col) for col in columnas_promedio))\n",
    "\n",
    "    construccion_regiones_agrupada_df=construccion_regiones_agrupada_df.withColumn(\"Codigo_Region\",\n",
    "    F.when(construccion_regiones_agrupada_df[\"REGION\"]==\"CENTRAL\", 1)\n",
    "    .when(construccion_regiones_agrupada_df[\"REGION\"]==\"CHOROTEGA\", 2)\n",
    "    .when(construccion_regiones_agrupada_df[\"REGION\"]==\"PACIFICO CENTRAL\", 3)\n",
    "    .when(construccion_regiones_agrupada_df[\"REGION\"]==\"BRUNCA\", 4)\n",
    "    .when(construccion_regiones_agrupada_df[\"REGION\"]==\"HUETAR CARIBE\", 5)\n",
    "    .when(construccion_regiones_agrupada_df[\"REGION\"]==\"HUETAR NORTE\", 6))\n",
    "\n",
    "    return construccion_regiones_agrupada_df"
   ]
  },
  {
   "cell_type": "code",
   "execution_count": 14,
   "id": "1ac66dd3",
   "metadata": {},
   "outputs": [
    {
     "name": "stdout",
     "output_type": "stream",
     "text": [
      "+----------------+------------------+------------------+------------------+-----------------+------------------+--------------------+-------------+\n",
      "|          REGION| reg_pro_num_obras|   reg_prom_arecon|   reg_prom_numviv|  reg_prom_numapo|   reg_prom_numdor|     reg_prom_valobr|Codigo_Region|\n",
      "+----------------+------------------+------------------+------------------+-----------------+------------------+--------------------+-------------+\n",
      "|    HUETAR NORTE|1.0503136153898356| 71.42357793198545|0.9486050771143969|4.714806704849421| 2.172745293336891|1.9334500496198073E7|            6|\n",
      "|   HUETAR CARIBE|1.1466133138681152|59.878152501614835|0.9699997159750016| 3.98014685977476|1.8833681343661388|1.5375398208581805E7|            5|\n",
      "|         CENTRAL|1.3386748779531557|133.60794488188338|1.0805488324926336|6.747149989782027|2.8766782482438202| 4.539048286811655E7|            1|\n",
      "|          BRUNCA|1.0385502365644046|  69.4399004299654|0.9254513138431006| 4.61359800403076| 2.096031027513646|1.8023986822832573E7|            4|\n",
      "|       CHOROTEGA|1.1046536969499103|102.69855013433109|0.9580642027386144| 5.60963460047087| 2.370261460804899|3.2070019149654135E7|            2|\n",
      "|PACIFICO CENTRAL|1.1240826124954184|103.30609098218119|1.0041328776592726|5.889435001900645|2.5637056232682403| 3.179532884968296E7|            3|\n",
      "+----------------+------------------+------------------+------------------+-----------------+------------------+--------------------+-------------+\n",
      "\n"
     ]
    }
   ],
   "source": [
    "construccion_prom_region_2022 = construcciones_region_df_func(construccion_df,cantones_df,regiones_df)\n",
    "\n",
    "construccion_prom_region_2022.show()"
   ]
  },
  {
   "cell_type": "code",
   "execution_count": 24,
   "id": "b1ef3d22",
   "metadata": {},
   "outputs": [],
   "source": [
    "def enaho_func(enaho_df):\n",
    "\n",
    "    \"La variable 'Tenencia de Viviennda' contiene 5 categorias. Para efectos de este trabajo se agrupan en solo 2. Casa Propia (1) Casa que no es propia (0)\"\n",
    "    enaho_2022_variables_binario_df = enaho_df.withColumn(\"Tenencia_Vivienda\", F.when(enaho_df.V2A.isin([1,2]),1).otherwise(0)).drop(\"ID_HOGAR\",\"V2A\")\n",
    "\n",
    "    '''Los datos de ENAHO vienen a nivel de hogar y nivel individual. Para el siguiente trabajo nos interesa utilizar las variables a nivel de hogar y agrupar aquellas que vienen a nivel individual.\n",
    "    Para esto se crea un identificador a nivel de cada hogar y se grupan las variables a nivel individual'''\n",
    "\n",
    "    windowSpec = Window.orderBy(F.monotonically_increasing_id()).rowsBetween(Window.unboundedPreceding, 0)\n",
    "\n",
    "    enaho_2022_variables_binario_df= enaho_2022_variables_binario_df.withColumn(\"id\", F.sum(F.when(F.col(\"LINEA\") == 1, 1).otherwise(0)).over(windowSpec)).drop(\"LINEA\")\n",
    "  \n",
    "    enaho_2022_hogar_agr_df = enaho_2022_variables_binario_df.groupBy(\"id\",\"REGION\",\"Tenencia_Vivienda\")\\\n",
    "    .avg(*[c for c in enaho_2022_variables_binario_df.columns if c not in [\"id\", \"REGION\",\"Tenencia_Vivienda\"]])\n",
    "                                                                                                                              \n",
    "    enaho_2022_hogar_renombrado_df = enaho_2022_hogar_agr_df.withColumnRenamed(\"REGION\",\"Region_Geo\")\n",
    "\n",
    "    \n",
    "    return enaho_2022_hogar_renombrado_df"
   ]
  },
  {
   "cell_type": "code",
   "execution_count": 25,
   "id": "f59300db",
   "metadata": {},
   "outputs": [
    {
     "name": "stderr",
     "output_type": "stream",
     "text": [
      "24/05/11 23:42:37 WARN WindowExec: No Partition Defined for Window operation! Moving all data to a single partition, this can cause serious performance degradation.\n",
      "24/05/11 23:42:37 WARN WindowExec: No Partition Defined for Window operation! Moving all data to a single partition, this can cause serious performance degradation.\n",
      "24/05/11 23:42:38 WARN WindowExec: No Partition Defined for Window operation! Moving all data to a single partition, this can cause serious performance degradation.\n",
      "24/05/11 23:42:38 WARN WindowExec: No Partition Defined for Window operation! Moving all data to a single partition, this can cause serious performance degradation.\n",
      "[Stage 31:>                                                         (0 + 1) / 1]\r"
     ]
    },
    {
     "name": "stdout",
     "output_type": "stream",
     "text": [
      "+---+----------+-----------------+---------+--------+---------+--------+----------+------------+----------+---------+-----------+---------+---------+---------+--------+---------+--------+---------+----------+----------+----------+-----------+----------+---------+---------+----------+---------+--------+----------+---------+---------+---------+--------+--------+-------+---------+-----------+----------+----------+-------+--------+--------+---------+----------+---------+--------+---------+---------+--------+---------+---------+-------+--------+-------+--------+----------+---------+---------+-----------+----------+----------+----------+----------+----------+---------+---------+---------+---------+---------+---------+---------+----------+----------+--------+--------+-----------------+-----------------+--------+--------+---------+---------+--------+---------+---------+---------+---------+---------+---------+---------+---------+---------+---------+---------+---------+---------+---------+----------+----------+----------+---------+--------+--------+\n",
      "| id|Region_Geo|Tenencia_Vivienda|avg(spif)|avg(aif)|avg(gpif)|avg(dif)|avg(gpina)|avg(inmpina)|avg(gpsfi)|avg(gpia)|avg(inmpia)|avg(spmb)|avg(spmn)|avg(ipsp)|avg(asp)|avg(sesp)|avg(bsp)|avg(oisp)|avg(spnma)|avg(spnmv)|avg(spnmt)|avg(spnmvh)|avg(spnmo)|avg(ssif)|avg(asif)|avg(gpsif)|avg(dsif)|avg(gsi)|avg(inmsi)|avg(ssmb)|avg(ssmn)|avg(ssnm)| avg(ia)| avg(ii)|avg(ib)|avg(trnc)|avg(taprnc)|avg(ttrnc)|avg(timas)|avg(ts)|avg(tbc)|avg(tpa)|avg(tapa)|avg(tsepa)|avg(ttpa)|avg(tpn)|avg(tapn)|avg(ttpn)|avg(tpe)|avg(tape)|avg(ttpe)|avg(te)|avg(tdp)|avg(ot)|avg(tnm)|avg(ipinm)|avg(ipim)|avg(ipit)|avg(tormsp)|avg(tspnm)|avg(ipsmb)|avg(ipsmn)|avg(ipsbt)|avg(ipsnt)|avg(ipbt)|avg(ipnt)|avg(isit)|avg(issb)|avg(issn)|avg(isbt)|avg(isnt)|avg(itrbt)|avg(itrnt)|avg(irp)|avg(ttm)|        avg(itpb)|        avg(itpn)|avg(sab)|avg(san)|avg(snab)|avg(snan)|avg(iag)|avg(inag)|avg(ipbh)|avg(ipnh)|avg(isbh)|avg(isnh)|avg(irph)|avg(ttmh)|avg(tnmh)|avg(itbh)|avg(itnh)|avg(ithb)|avg(ithn)|avg(ipcb)|avg(ipcn)|avg(isanh)|avg(iaunh)|avg(tsebh)| avg(oth)|avg(cba)| avg(lp)|\n",
      "+---+----------+-----------------+---------+--------+---------+--------+----------+------------+----------+---------+-----------+---------+---------+---------+--------+---------+--------+---------+----------+----------+----------+-----------+----------+---------+---------+----------+---------+--------+----------+---------+---------+---------+--------+--------+-------+---------+-----------+----------+----------+-------+--------+--------+---------+----------+---------+--------+---------+---------+--------+---------+---------+-------+--------+-------+--------+----------+---------+---------+-----------+----------+----------+----------+----------+----------+---------+---------+---------+---------+---------+---------+---------+----------+----------+--------+--------+-----------------+-----------------+--------+--------+---------+---------+--------+---------+---------+---------+---------+---------+---------+---------+---------+---------+---------+---------+---------+---------+---------+----------+----------+----------+---------+--------+--------+\n",
      "|  1|       1.0|                1|     null|    null|     null|    null|      null|        null|      null|     null|       null|     null|     null|     null|    null|     null|    null|     null|      null|      null|      null|       null|      null|     null|     null|      null|     null|    null|      null|     null|     null|     null|    null|    null|   null|     null|       null|      null|      null|   null|    null|    null|     null|      null|     null|475000.0|  39583.5| 514583.5|    null|     null|     null|   null|    null|   null|    null|      null|     null|     null|       null|      null|      null|      null|      null|      null|     null|     null|     null|     null|     null|     null|     null|      null|      null|    null|514583.5|         514583.5|         514583.5|    null|    null|     null|     null|    null|     null|      0.0|      0.0|      0.0|      0.0|      0.0|1029167.0|      0.0|      0.0|      0.0|1029167.0|1029167.0| 514584.0| 514584.0|      null|      null|      null|1029167.0| 59744.0|128406.0|\n",
      "|  2|       1.0|                1|     null|    null|     null|    null|      null|        null|      null|     null|       null| 450000.0| 402750.0|     null| 37500.0|     null|    null|     null|      null|      null|      null|       null|      null|     null|     null|      null|     null|    null|      null|     null|     null|     null|500000.0|    null|   null|     null|       null|      null|      null|   null|    null|    null|     null|      null|     null|130000.0|  10833.0| 140833.0|    null|     null|     null|   null|    null|   null|    null|      null|     null|     null|    37500.0|      null|  487500.0|  440250.0|  487500.0|  440250.0| 487500.0| 440250.0|     null|     null|     null|     null|     null|  487500.0|  440250.0|500000.0|140833.0|        403958.25|        380333.25|    null|    null| 487500.0| 440250.0|    null|     null|1267500.0|1144650.0|      0.0|      0.0|1040000.0| 140833.0|      0.0|1267500.0|1144650.0|2448333.0|2325483.0| 612083.0| 581371.0| 1144650.0|      null|      null| 140833.0| 59744.0|128406.0|\n",
      "|  3|       1.0|                0|     null|    null|     null|    null|      null|        null|      null|     null|       null| 380000.0| 340100.0|     null|    null|     null|    null|     null|      null|      null|      null|       null|      null|     null|     null|      null|     null|    null|      null|     null|     null|     null|    null|    null|   null|     null|       null|      null|      null|   null|    null|    null|     null|      null|     null|    null|     null|     null|    null|     null|     null|   null|    null|   null|    null|      null|     null|     null|       null|      null|  380000.0|  340100.0|  380000.0|  340100.0| 380000.0| 340100.0|     null|     null|     null|     null|     null|  380000.0|  340100.0|    null|    null|         380000.0|         340100.0|    null|    null| 380000.0| 340100.0|    null|     null| 494000.0| 442130.0|      0.0|      0.0|      0.0|      0.0|      0.0| 494000.0| 442130.0| 494000.0| 442130.0| 164667.0| 147377.0|  442130.0|      null|      null|     null| 59744.0|128406.0|\n",
      "|  4|       1.0|                1|1500000.0|    null|1000000.0|     0.0|      null|        null|      null|     null|       null| 280000.0| 250600.0|     null| 35000.0|     null|    null|     null|   50000.0|  100000.0|      null|       null|      null|     null|     null|      null|     null|    null|      null|     null|     null|     null|    null|    null|   null|     null|       null|      null|      null|   null|    null|    null|     null|      null|     null|    null|     null|     null|    null|     null|     null|   null|300000.0|   null|    null|      null|2500000.0|2500000.0|    35000.0|  150000.0|  315000.0|  285600.0|  465000.0|  435600.0|1482500.0|1467800.0|     null|     null|     null|     null|     null| 1482500.0| 1467800.0|    null|300000.0|        1632500.0|        1617800.0|    null|    null| 465000.0| 435600.0|    null|2500000.0|3250000.0|3250000.0|      0.0|      0.0|      0.0| 300000.0|      0.0|3250000.0|3250000.0|3550000.0|3550000.0|1183333.0|1183333.0|      null| 3250000.0|      null| 300000.0| 59744.0|128406.0|\n",
      "|  5|       1.0|                1|     null|    null|     null|    null|      null|        null|      null|     null|       null|     null|     null|     null|    null|     null|    null|     null|      null|      null|      null|       null|      null|     null|     null|      null|     null|    null|      null|     null|     null|     null|600000.0|    null|   null|     null|       null|      null|      null|   null|    null|    null|     null|      null|     null|    null|     null|     null|    null|     null|     null|   null|    null|   null|    null|      null|     null|     null|       null|      null|      null|      null|      null|      null|     null|     null|     null|     null|     null|     null|     null|      null|      null|600000.0|    null|         600000.0|         600000.0|    null|    null|     null|     null|    null|     null|      0.0|      0.0|      0.0|      0.0|1248000.0|      0.0|      0.0|      0.0|      0.0|1248000.0|1248000.0| 416000.0| 416000.0|      null|      null|      null|     null| 59744.0|128406.0|\n",
      "|  6|       1.0|                1|     null|    null|     null|    null|      null|        null|      null|     null|       null| 600000.0| 537000.0|     null| 50000.0|     null|    null|     null|      null|      null|      null|       null|      null|     null|     null|      null|     null|    null|      null|     null|     null|     null|    null|    null|   null|     null|       null|      null|      null|   null|    null|    null|     null|      null|     null|600000.0|  50000.0| 650000.0|    null|     null|     null|   null|    null|   null|    null|      null|     null|     null|    50000.0|      null|  650000.0|  587000.0|  650000.0|  587000.0| 650000.0| 587000.0|     null|     null|     null|     null|     null|  650000.0|  587000.0|    null|650000.0|         650000.0|         618500.0|    null|    null| 650000.0| 587000.0|    null|     null| 845000.0| 763100.0|      0.0|      0.0|      0.0| 650000.0|      0.0| 845000.0| 763100.0|1495000.0|1413100.0| 747500.0| 706550.0|  763100.0|      null|      null| 650000.0| 59744.0|128406.0|\n",
      "|  7|       1.0|                1|     null|    null|     null|    null|      null|        null|      null|     null|       null|     null|     null|     null|    null|     null|    null|     null|      null|      null|      null|       null|      null|     null|     null|      null|     null|    null|      null|     null|     null|     null|    null|    null|   null|     null|       null|      null|      null|   null|    null|    null|     null|      null|     null|796000.0|  66333.0| 862333.0|    null|     null|     null|   null|    null|   null|    null|      null|     null|     null|       null|      null|      null|      null|      null|      null|     null|     null|     null|     null|     null|     null|     null|      null|      null|    null|862333.0|         862333.0|         862333.0|    null|    null|     null|     null|    null|     null|      0.0|      0.0|      0.0|      0.0|      0.0| 862333.0|      0.0|      0.0|      0.0| 862333.0| 862333.0| 862333.0| 862333.0|      null|      null|      null| 862333.0| 59744.0|128406.0|\n",
      "|  8|       1.0|                0|     null|    null|     null|    null|      null|        null|      null|     null|       null| 500000.0| 447500.0|     null| 41667.0|     null|    null|     null|      null|      null|      null|       null|      null|     null|     null|      null|     null|    null|      null|     null|     null|     null|    null|    null|   null|     null|       null|      null|      null|   null|    null|    null|     null|      null|     null|    null|     null|     null|    null|     null|     null|   null|    null|   null|    null|      null|     null|     null|    41667.0|      null|  541667.0|  489167.0|  541667.0|  489167.0| 541667.0| 489167.0|     null|     null|     null|     null|     null|  541667.0|  489167.0|    null|    null|         541667.0|         489167.0|    null|    null| 541667.0| 489167.0|    null|     null| 704167.0| 635917.0|      0.0|      0.0|      0.0|      0.0|      0.0| 704167.0| 635917.0| 704167.0| 635917.0| 176042.0| 158979.0|  635917.0|      null|      null|     null| 59744.0|128406.0|\n",
      "|  9|       1.0|                0|     null|    null|     null|    null|   50000.0|        null|      null|     null|       null| 360000.0| 322200.0|     null| 30000.0|     null|    null|     null|      null|      null|      null|       null|      null|     null|     null|      null|     null|    null|      null|     null|     null|     null|    null|    null|   null|     null|       null|      null|      null|   null|    null|    null|     null|      null|     null|    null|     null|     null|    null|     null|     null|   null|    null|   null|    null|      null|  50000.0|  50000.0|    30000.0|      null|  390000.0|  352200.0|  390000.0|  352200.0| 220000.0| 201100.0|     null|     null|     null|     null|     null|  220000.0|  201100.0|    null|    null|         220000.0|         201100.0|    null|    null| 390000.0| 352200.0|    null|  50000.0| 572000.0| 522860.0|      0.0|      0.0|      0.0|      0.0|      0.0| 572000.0| 522860.0| 572000.0| 522860.0| 114400.0| 104572.0|  457860.0|   65000.0|      null|     null| 59744.0|128406.0|\n",
      "| 10|       1.0|                0|     null|    null|     null|    null|  250000.0|        null|      null|     null|       null|     null|     null|     null|    null|     null|    null|     null|      null|      null|      null|       null|      null|     null|     null|      null|     null|    null|      null|     null|     null|     null|    null|    null|   null|     null|       null|      null|      null|   null|    null|    null|     null|      null|     null|    null|     null|     null|    null|     null|     null|   null|    null|   null|    null|      null| 250000.0| 250000.0|       null|      null|      null|      null|      null|      null| 250000.0| 250000.0|     null|     null|     null|     null|     null|  250000.0|  250000.0|    null|    null|         250000.0|         250000.0|    null|    null|     null|     null|    null| 250000.0| 325000.0| 325000.0|      0.0|      0.0|      0.0|      0.0|      0.0| 325000.0| 325000.0| 325000.0| 325000.0|  81250.0|  81250.0|      null|  325000.0|      null|     null| 59744.0|128406.0|\n",
      "| 11|       1.0|                1|     null|    null|     null|    null|      null|        null|      null|     null|       null|     null|     null|     null|    null|     null|    null|     null|      null|      null|      null|       null|      null|     null|     null|      null|     null|    null|      null|     null|     null|     null|    null|    null|   null|     null|       null|      null|      null|   null|    null|    null|     null|      null|     null|    null|     null|     null|    null|     null|     null|   null|100000.0|30000.0|    null|      null|     null|     null|       null|      null|      null|      null|      null|      null|     null|     null|     null|     null|     null|     null|     null|      null|      null|    null| 65000.0|          65000.0|          65000.0|    null|    null|     null|     null|    null|     null|      0.0|      0.0|      0.0|      0.0|      0.0| 130000.0|      0.0|      0.0|      0.0| 130000.0| 130000.0|  65000.0|  65000.0|      null|      null|      null| 130000.0| 59744.0|128406.0|\n",
      "| 12|       1.0|                1|     null|    null|     null|    null|      null|        null|      null|     null|       null|1000000.0| 881300.0|     null| 83333.0|  83333.0|    null|     null|      null|      null|      null|       null|      null|     null|     null|      null|     null|    null|      null|     null|     null|     null|    null|    null|   null|     null|       null|      null|      null|   null|    null|    null|     null|      null|     null|    null|     null|     null|    null|     null|     null|   null|    null|   null|    null|      null|     null|     null|   166666.0|      null| 1166666.0| 1047966.0| 1166666.0| 1047966.0|1166666.0|1047966.0|     null|     null|     null|     null|     null| 1166666.0| 1047966.0|    null|    null|        1166666.0|        1047966.0|    null|    null|1166666.0|1047966.0|    null|     null|1516666.0|1362356.0|      0.0|      0.0|      0.0|      0.0|      0.0|1516666.0|1362356.0|1516666.0|1362356.0|1516666.0|1362356.0| 1362356.0|      null|      null|     null| 59744.0|128406.0|\n",
      "| 13|       1.0|                0|     null|    null|     null|    null|      null|        null|      null|     null|       null| 400000.0| 358000.0|     null|    null|     null|    null|     null|      null|      null|      null|       null|      null|     null|     null|      null|     null|    null|      null|     null|     null|     null|    null|    null|   null|     null|       null|      null|      null|   null|    null|    null|     null|      null|     null|    null|     null|     null|    null|     null|     null|   null|    null|   null|    null|      null|     null|     null|       null|      null|  400000.0|  358000.0|  400000.0|  358000.0| 400000.0| 358000.0|     null|     null|     null|     null|     null|  400000.0|  358000.0|    null|    null|         400000.0|         358000.0|    null|    null| 400000.0| 358000.0|    null|     null| 520000.0| 465400.0|      0.0|      0.0|      0.0|      0.0|      0.0| 520000.0| 465400.0| 520000.0| 465400.0| 520000.0| 465400.0|  465400.0|      null|      null|     null| 59744.0|128406.0|\n",
      "| 14|       1.0|                1|     null|    null|     null|    null|  300000.0|        null|      null|     null|       null| 167452.0| 156272.5|     null| 26260.0|     null|    null|     null|  102000.0|      null|      null|       null|      null|     null|     null|      null|     null|    null|      null|     null|     null|     null|370000.0|    null|   null|     null|       null|      null|      null|   null|    null|    null|     null|      null|     null|    null|     null|     null|    null|     null|     null|   null|    null|   null|    null|      null| 300000.0| 300000.0|    26260.0|  102000.0|  180582.0|  169402.5|  282582.0|  271402.5| 288388.0| 280935.0|     null|     null|     null|     null|     null|  288388.0|  280935.0|370000.0|    null|411721.3333333333|404268.3333333333|    null|    null| 282582.0| 271402.5|    null| 300000.0|1124713.0|1095647.0|      0.0|      0.0| 769600.0|      0.0|      0.0|1124713.0|1095647.0|1894313.0|1865247.0| 473578.0| 466312.0|  705647.0|  390000.0|      null|     null| 59744.0|128406.0|\n",
      "| 15|       1.0|                0|     null|    null|     null|    null|  600000.0|        null|      null|     null|       null|1550000.0|1304400.0|     null|129167.0| 100000.0|    null|     null|   70000.0|      null|      null|       null|      null|     null|     null|      null|     null|    null|      null|     null|     null|     null|    null|    null|   null|     null|       null|      null|      null|   null|    null|    null|     null|      null|     null|    null|     null|     null|    null|     null|     null|   null|    null|   null|    null|      null| 600000.0| 600000.0|   229167.0|   70000.0| 1779167.0| 1533567.0| 1849167.0| 1603567.0|1224583.5|1101783.5|     null|     null|     null|     null|     null| 1224583.5| 1101783.5|    null|    null|        1224583.5|        1101783.5|    null|    null|1849167.0|1603567.0|    null| 600000.0|3183917.0|2864637.0|      0.0|      0.0|      0.0|      0.0|      0.0|3183917.0|2864637.0|3183917.0|2864637.0| 795979.0| 716159.0| 2084637.0|  780000.0|      null|     null| 59744.0|128406.0|\n",
      "| 16|       1.0|                0|     null|    null|     null|    null|      null|        null|      null|     null|       null| 440000.0| 425300.0|     null|  7500.0|   5000.0|  5000.0|     null|      null|      null|      null|       null|      null|     null|     null|      null|     null|    null|      null|     null|     null|     null|    null|    null|   null|     null|       null|      null|      null|   null|    null|    null|     null|      null|     null|    null|     null|     null|    null|     null|     null|   null|    null|   null|    null|      null|     null|     null|    17500.0|      null|  448750.0|  434050.0|  448750.0|  434050.0| 448750.0| 434050.0|     null|     null|     null|     null|     null|  448750.0|  434050.0|    null|    null|         448750.0|         434050.0|    null|    null| 448750.0| 434050.0|    null|     null|1166750.0|1128530.0|      0.0|      0.0|      0.0|      0.0|      0.0|1166750.0|1128530.0|1166750.0|1128530.0| 388917.0| 376177.0| 1128530.0|      null|      null|     null| 59744.0|128406.0|\n",
      "| 17|       1.0|                0|     null|    null|     null|    null|   80000.0|        null|      null|     null|       null|     null|     null|     null|    null|     null|    null|     null|      null|      null|      null|       null|      null|     null|     null|      null|     null|    null|      null|     null|     null|     null|    null|    null|   null|     null|       null|      null|      null|   null|    null|    null|     null|      null|     null|    null|     null|     null|    null|     null|     null|   null|    null|   null|    null|      null|  80000.0|  80000.0|       null|      null|      null|      null|      null|      null|  80000.0|  80000.0|     null|     null|     null|     null|     null|   80000.0|   80000.0|    null|    null|          80000.0|          80000.0|    null|    null|     null|     null|    null|  80000.0| 104000.0| 104000.0|      0.0|      0.0|      0.0|      0.0|      0.0| 104000.0| 104000.0| 104000.0| 104000.0|  34667.0|  34667.0|      null|  104000.0|      null|     null| 59744.0|128406.0|\n",
      "| 18|       1.0|                1|     null|    null|     null|    null|      null|        null|      null|     null|       null| 230000.0| 230000.0|     null|    null|     null|    null|     null|   61115.0|  129333.0|      null|       null|      null|     null|     null|      null|     null|    null|      null|     null|     null|     null|471535.0|    null|   null|     null|       null|      null|      null|   null|    null|    null|     null|      null|     null|739272.0|  62100.0| 801372.0|    null|     null|     null|   null|    null|   null|    null|      null|     null|     null|       null|  190448.0|  230000.0|  230000.0|  420448.0|  420448.0| 420448.0| 420448.0|     null|     null|     null|     null|     null|  420448.0|  420448.0|471535.0|801372.0|         846677.5|         846677.5|    null|    null| 420448.0| 420448.0|    null|     null|      0.0|      0.0|      0.0|      0.0| 980793.0| 801372.0|      0.0|      0.0|      0.0|1782165.0|1782165.0|1782165.0|1782165.0|      null|      null|      null| 801372.0| 59744.0|128406.0|\n",
      "| 19|       1.0|                0|     null|    null|     null|    null|      null|        null|      null|     null|       null| 240000.0| 240000.0|     null|    null|     null|    null|     null|      null|      null|      null|       null|      null|     null|     null|      null|     null|    null|      null|     null|     null|     null|    null|    null|   null|     null|       null|      null|      null|   null|    null|    null|     null|      null|     null|    null|     null|     null|    null|     null|     null|   null|    null|   null|    null|      null|     null|     null|       null|      null|  240000.0|  240000.0|  240000.0|  240000.0| 240000.0| 240000.0|     null|     null|     null|     null|     null|  240000.0|  240000.0|    null|    null|         240000.0|         240000.0|    null|    null| 240000.0| 240000.0|    null|     null| 312000.0| 312000.0|      0.0|      0.0|      0.0|      0.0|      0.0| 312000.0| 312000.0| 312000.0| 312000.0|  78000.0|  78000.0|  312000.0|      null|      null|     null| 59744.0|128406.0|\n",
      "| 20|       1.0|                0|     null|    null|     null|    null|  300000.0|        null|      null|     null|       null| 300000.0| 300000.0|     null| 25000.0|     null|    null|     null|      null|      null|      null|       null|      null|     null|     null|      null|     null|    null|      null|     null|     null|     null|    null|150000.0|   null|     null|       null|      null|      null|   null|    null| 80000.0|   6667.0|      null|  86667.0|    null|     null|     null|    null|     null|     null|   null|    null|   null|    null|      null| 300000.0| 300000.0|    25000.0|      null|  325000.0|  325000.0|  325000.0|  325000.0| 312500.0| 312500.0|     null|     null|     null|     null|     null|  312500.0|  312500.0|150000.0| 86667.0|         430833.5|         430833.5|    null|    null| 325000.0| 325000.0|    null| 300000.0| 812500.0| 812500.0|      0.0|      0.0| 312000.0|  86667.0|      0.0| 812500.0| 812500.0|1211167.0|1211167.0| 403722.0| 403722.0|  422500.0|  390000.0|      null|  86667.0| 59744.0|128406.0|\n",
      "+---+----------+-----------------+---------+--------+---------+--------+----------+------------+----------+---------+-----------+---------+---------+---------+--------+---------+--------+---------+----------+----------+----------+-----------+----------+---------+---------+----------+---------+--------+----------+---------+---------+---------+--------+--------+-------+---------+-----------+----------+----------+-------+--------+--------+---------+----------+---------+--------+---------+---------+--------+---------+---------+-------+--------+-------+--------+----------+---------+---------+-----------+----------+----------+----------+----------+----------+---------+---------+---------+---------+---------+---------+---------+----------+----------+--------+--------+-----------------+-----------------+--------+--------+---------+---------+--------+---------+---------+---------+---------+---------+---------+---------+---------+---------+---------+---------+---------+---------+---------+----------+----------+----------+---------+--------+--------+\n",
      "only showing top 20 rows\n",
      "\n"
     ]
    },
    {
     "name": "stderr",
     "output_type": "stream",
     "text": [
      "                                                                                \r"
     ]
    }
   ],
   "source": [
    "enaho_2022 = enaho_func(enaho_2022_df_1)\n",
    "\n",
    "enaho_2022.show()"
   ]
  },
  {
   "cell_type": "code",
   "execution_count": 26,
   "id": "92d5767e",
   "metadata": {},
   "outputs": [],
   "source": [
    "def unir_datos(enaho_df,construccion_df):\n",
    "\n",
    "    tenencia_vivienda = enaho_df.join(construccion_df,enaho_df[\"Region_Geo\"]==construccion_df[\"Codigo_Region\"],how='left')\n",
    "    tenencia_vivienda = tenencia_vivienda.drop('id','Region_Geo','Codigo_Region','REGION')                                                      \n",
    "    return tenencia_vivienda"
   ]
  },
  {
   "cell_type": "code",
   "execution_count": 27,
   "id": "98361095",
   "metadata": {},
   "outputs": [
    {
     "name": "stderr",
     "output_type": "stream",
     "text": [
      "24/05/11 23:48:52 WARN WindowExec: No Partition Defined for Window operation! Moving all data to a single partition, this can cause serious performance degradation.\n",
      "24/05/11 23:48:52 WARN WindowExec: No Partition Defined for Window operation! Moving all data to a single partition, this can cause serious performance degradation.\n",
      "24/05/11 23:48:53 WARN WindowExec: No Partition Defined for Window operation! Moving all data to a single partition, this can cause serious performance degradation.\n",
      "24/05/11 23:48:53 WARN WindowExec: No Partition Defined for Window operation! Moving all data to a single partition, this can cause serious performance degradation.\n",
      "24/05/11 23:48:53 WARN WindowExec: No Partition Defined for Window operation! Moving all data to a single partition, this can cause serious performance degradation.\n",
      "24/05/11 23:48:53 WARN WindowExec: No Partition Defined for Window operation! Moving all data to a single partition, this can cause serious performance degradation.\n",
      "24/05/11 23:48:53 WARN WindowExec: No Partition Defined for Window operation! Moving all data to a single partition, this can cause serious performance degradation.\n",
      "24/05/11 23:48:53 WARN WindowExec: No Partition Defined for Window operation! Moving all data to a single partition, this can cause serious performance degradation.\n",
      "[Stage 39:>                                                         (0 + 1) / 1]\r"
     ]
    },
    {
     "name": "stdout",
     "output_type": "stream",
     "text": [
      "+-----------------+---------+--------+---------+--------+----------+------------+----------+---------+-----------+---------+---------+---------+--------+---------+--------+---------+----------+----------+----------+-----------+----------+---------+---------+----------+---------+--------+----------+---------+---------+---------+--------+--------+-------+---------+-----------+----------+----------+-------+--------+--------+---------+----------+---------+--------+---------+---------+--------+---------+---------+-------+--------+-------+--------+----------+---------+---------+-----------+----------+----------+----------+----------+----------+---------+---------+---------+---------+---------+---------+---------+----------+----------+--------+--------+-----------------+-----------------+--------+--------+---------+---------+--------+---------+---------+---------+---------+---------+---------+---------+---------+---------+---------+---------+---------+---------+---------+----------+----------+----------+---------+--------+--------+------------------+------------------+------------------+-----------------+------------------+-------------------+\n",
      "|Tenencia_Vivienda|avg(spif)|avg(aif)|avg(gpif)|avg(dif)|avg(gpina)|avg(inmpina)|avg(gpsfi)|avg(gpia)|avg(inmpia)|avg(spmb)|avg(spmn)|avg(ipsp)|avg(asp)|avg(sesp)|avg(bsp)|avg(oisp)|avg(spnma)|avg(spnmv)|avg(spnmt)|avg(spnmvh)|avg(spnmo)|avg(ssif)|avg(asif)|avg(gpsif)|avg(dsif)|avg(gsi)|avg(inmsi)|avg(ssmb)|avg(ssmn)|avg(ssnm)| avg(ia)| avg(ii)|avg(ib)|avg(trnc)|avg(taprnc)|avg(ttrnc)|avg(timas)|avg(ts)|avg(tbc)|avg(tpa)|avg(tapa)|avg(tsepa)|avg(ttpa)|avg(tpn)|avg(tapn)|avg(ttpn)|avg(tpe)|avg(tape)|avg(ttpe)|avg(te)|avg(tdp)|avg(ot)|avg(tnm)|avg(ipinm)|avg(ipim)|avg(ipit)|avg(tormsp)|avg(tspnm)|avg(ipsmb)|avg(ipsmn)|avg(ipsbt)|avg(ipsnt)|avg(ipbt)|avg(ipnt)|avg(isit)|avg(issb)|avg(issn)|avg(isbt)|avg(isnt)|avg(itrbt)|avg(itrnt)|avg(irp)|avg(ttm)|        avg(itpb)|        avg(itpn)|avg(sab)|avg(san)|avg(snab)|avg(snan)|avg(iag)|avg(inag)|avg(ipbh)|avg(ipnh)|avg(isbh)|avg(isnh)|avg(irph)|avg(ttmh)|avg(tnmh)|avg(itbh)|avg(itnh)|avg(ithb)|avg(ithn)|avg(ipcb)|avg(ipcn)|avg(isanh)|avg(iaunh)|avg(tsebh)| avg(oth)|avg(cba)| avg(lp)| reg_pro_num_obras|   reg_prom_arecon|   reg_prom_numviv|  reg_prom_numapo|   reg_prom_numdor|    reg_prom_valobr|\n",
      "+-----------------+---------+--------+---------+--------+----------+------------+----------+---------+-----------+---------+---------+---------+--------+---------+--------+---------+----------+----------+----------+-----------+----------+---------+---------+----------+---------+--------+----------+---------+---------+---------+--------+--------+-------+---------+-----------+----------+----------+-------+--------+--------+---------+----------+---------+--------+---------+---------+--------+---------+---------+-------+--------+-------+--------+----------+---------+---------+-----------+----------+----------+----------+----------+----------+---------+---------+---------+---------+---------+---------+---------+----------+----------+--------+--------+-----------------+-----------------+--------+--------+---------+---------+--------+---------+---------+---------+---------+---------+---------+---------+---------+---------+---------+---------+---------+---------+---------+----------+----------+----------+---------+--------+--------+------------------+------------------+------------------+-----------------+------------------+-------------------+\n",
      "|                1|     null|    null|     null|    null|      null|        null|      null|     null|       null|     null|     null|     null|    null|     null|    null|     null|      null|      null|      null|       null|      null|     null|     null|      null|     null|    null|      null|     null|     null|     null|    null|    null|   null|     null|       null|      null|      null|   null|    null|    null|     null|      null|     null|475000.0|  39583.5| 514583.5|    null|     null|     null|   null|    null|   null|    null|      null|     null|     null|       null|      null|      null|      null|      null|      null|     null|     null|     null|     null|     null|     null|     null|      null|      null|    null|514583.5|         514583.5|         514583.5|    null|    null|     null|     null|    null|     null|      0.0|      0.0|      0.0|      0.0|      0.0|1029167.0|      0.0|      0.0|      0.0|1029167.0|1029167.0| 514584.0| 514584.0|      null|      null|      null|1029167.0| 59744.0|128406.0|1.3386748779531557|133.60794488188338|1.0805488324926336|6.747149989782027|2.8766782482438202|4.539048286811655E7|\n",
      "|                1|     null|    null|     null|    null|      null|        null|      null|     null|       null| 450000.0| 402750.0|     null| 37500.0|     null|    null|     null|      null|      null|      null|       null|      null|     null|     null|      null|     null|    null|      null|     null|     null|     null|500000.0|    null|   null|     null|       null|      null|      null|   null|    null|    null|     null|      null|     null|130000.0|  10833.0| 140833.0|    null|     null|     null|   null|    null|   null|    null|      null|     null|     null|    37500.0|      null|  487500.0|  440250.0|  487500.0|  440250.0| 487500.0| 440250.0|     null|     null|     null|     null|     null|  487500.0|  440250.0|500000.0|140833.0|        403958.25|        380333.25|    null|    null| 487500.0| 440250.0|    null|     null|1267500.0|1144650.0|      0.0|      0.0|1040000.0| 140833.0|      0.0|1267500.0|1144650.0|2448333.0|2325483.0| 612083.0| 581371.0| 1144650.0|      null|      null| 140833.0| 59744.0|128406.0|1.3386748779531557|133.60794488188338|1.0805488324926336|6.747149989782027|2.8766782482438202|4.539048286811655E7|\n",
      "|                0|     null|    null|     null|    null|      null|        null|      null|     null|       null| 380000.0| 340100.0|     null|    null|     null|    null|     null|      null|      null|      null|       null|      null|     null|     null|      null|     null|    null|      null|     null|     null|     null|    null|    null|   null|     null|       null|      null|      null|   null|    null|    null|     null|      null|     null|    null|     null|     null|    null|     null|     null|   null|    null|   null|    null|      null|     null|     null|       null|      null|  380000.0|  340100.0|  380000.0|  340100.0| 380000.0| 340100.0|     null|     null|     null|     null|     null|  380000.0|  340100.0|    null|    null|         380000.0|         340100.0|    null|    null| 380000.0| 340100.0|    null|     null| 494000.0| 442130.0|      0.0|      0.0|      0.0|      0.0|      0.0| 494000.0| 442130.0| 494000.0| 442130.0| 164667.0| 147377.0|  442130.0|      null|      null|     null| 59744.0|128406.0|1.3386748779531557|133.60794488188338|1.0805488324926336|6.747149989782027|2.8766782482438202|4.539048286811655E7|\n",
      "|                1|1500000.0|    null|1000000.0|     0.0|      null|        null|      null|     null|       null| 280000.0| 250600.0|     null| 35000.0|     null|    null|     null|   50000.0|  100000.0|      null|       null|      null|     null|     null|      null|     null|    null|      null|     null|     null|     null|    null|    null|   null|     null|       null|      null|      null|   null|    null|    null|     null|      null|     null|    null|     null|     null|    null|     null|     null|   null|300000.0|   null|    null|      null|2500000.0|2500000.0|    35000.0|  150000.0|  315000.0|  285600.0|  465000.0|  435600.0|1482500.0|1467800.0|     null|     null|     null|     null|     null| 1482500.0| 1467800.0|    null|300000.0|        1632500.0|        1617800.0|    null|    null| 465000.0| 435600.0|    null|2500000.0|3250000.0|3250000.0|      0.0|      0.0|      0.0| 300000.0|      0.0|3250000.0|3250000.0|3550000.0|3550000.0|1183333.0|1183333.0|      null| 3250000.0|      null| 300000.0| 59744.0|128406.0|1.3386748779531557|133.60794488188338|1.0805488324926336|6.747149989782027|2.8766782482438202|4.539048286811655E7|\n",
      "|                1|     null|    null|     null|    null|      null|        null|      null|     null|       null|     null|     null|     null|    null|     null|    null|     null|      null|      null|      null|       null|      null|     null|     null|      null|     null|    null|      null|     null|     null|     null|600000.0|    null|   null|     null|       null|      null|      null|   null|    null|    null|     null|      null|     null|    null|     null|     null|    null|     null|     null|   null|    null|   null|    null|      null|     null|     null|       null|      null|      null|      null|      null|      null|     null|     null|     null|     null|     null|     null|     null|      null|      null|600000.0|    null|         600000.0|         600000.0|    null|    null|     null|     null|    null|     null|      0.0|      0.0|      0.0|      0.0|1248000.0|      0.0|      0.0|      0.0|      0.0|1248000.0|1248000.0| 416000.0| 416000.0|      null|      null|      null|     null| 59744.0|128406.0|1.3386748779531557|133.60794488188338|1.0805488324926336|6.747149989782027|2.8766782482438202|4.539048286811655E7|\n",
      "|                1|     null|    null|     null|    null|      null|        null|      null|     null|       null| 600000.0| 537000.0|     null| 50000.0|     null|    null|     null|      null|      null|      null|       null|      null|     null|     null|      null|     null|    null|      null|     null|     null|     null|    null|    null|   null|     null|       null|      null|      null|   null|    null|    null|     null|      null|     null|600000.0|  50000.0| 650000.0|    null|     null|     null|   null|    null|   null|    null|      null|     null|     null|    50000.0|      null|  650000.0|  587000.0|  650000.0|  587000.0| 650000.0| 587000.0|     null|     null|     null|     null|     null|  650000.0|  587000.0|    null|650000.0|         650000.0|         618500.0|    null|    null| 650000.0| 587000.0|    null|     null| 845000.0| 763100.0|      0.0|      0.0|      0.0| 650000.0|      0.0| 845000.0| 763100.0|1495000.0|1413100.0| 747500.0| 706550.0|  763100.0|      null|      null| 650000.0| 59744.0|128406.0|1.3386748779531557|133.60794488188338|1.0805488324926336|6.747149989782027|2.8766782482438202|4.539048286811655E7|\n",
      "|                1|     null|    null|     null|    null|      null|        null|      null|     null|       null|     null|     null|     null|    null|     null|    null|     null|      null|      null|      null|       null|      null|     null|     null|      null|     null|    null|      null|     null|     null|     null|    null|    null|   null|     null|       null|      null|      null|   null|    null|    null|     null|      null|     null|796000.0|  66333.0| 862333.0|    null|     null|     null|   null|    null|   null|    null|      null|     null|     null|       null|      null|      null|      null|      null|      null|     null|     null|     null|     null|     null|     null|     null|      null|      null|    null|862333.0|         862333.0|         862333.0|    null|    null|     null|     null|    null|     null|      0.0|      0.0|      0.0|      0.0|      0.0| 862333.0|      0.0|      0.0|      0.0| 862333.0| 862333.0| 862333.0| 862333.0|      null|      null|      null| 862333.0| 59744.0|128406.0|1.3386748779531557|133.60794488188338|1.0805488324926336|6.747149989782027|2.8766782482438202|4.539048286811655E7|\n",
      "|                0|     null|    null|     null|    null|      null|        null|      null|     null|       null| 500000.0| 447500.0|     null| 41667.0|     null|    null|     null|      null|      null|      null|       null|      null|     null|     null|      null|     null|    null|      null|     null|     null|     null|    null|    null|   null|     null|       null|      null|      null|   null|    null|    null|     null|      null|     null|    null|     null|     null|    null|     null|     null|   null|    null|   null|    null|      null|     null|     null|    41667.0|      null|  541667.0|  489167.0|  541667.0|  489167.0| 541667.0| 489167.0|     null|     null|     null|     null|     null|  541667.0|  489167.0|    null|    null|         541667.0|         489167.0|    null|    null| 541667.0| 489167.0|    null|     null| 704167.0| 635917.0|      0.0|      0.0|      0.0|      0.0|      0.0| 704167.0| 635917.0| 704167.0| 635917.0| 176042.0| 158979.0|  635917.0|      null|      null|     null| 59744.0|128406.0|1.3386748779531557|133.60794488188338|1.0805488324926336|6.747149989782027|2.8766782482438202|4.539048286811655E7|\n",
      "|                0|     null|    null|     null|    null|   50000.0|        null|      null|     null|       null| 360000.0| 322200.0|     null| 30000.0|     null|    null|     null|      null|      null|      null|       null|      null|     null|     null|      null|     null|    null|      null|     null|     null|     null|    null|    null|   null|     null|       null|      null|      null|   null|    null|    null|     null|      null|     null|    null|     null|     null|    null|     null|     null|   null|    null|   null|    null|      null|  50000.0|  50000.0|    30000.0|      null|  390000.0|  352200.0|  390000.0|  352200.0| 220000.0| 201100.0|     null|     null|     null|     null|     null|  220000.0|  201100.0|    null|    null|         220000.0|         201100.0|    null|    null| 390000.0| 352200.0|    null|  50000.0| 572000.0| 522860.0|      0.0|      0.0|      0.0|      0.0|      0.0| 572000.0| 522860.0| 572000.0| 522860.0| 114400.0| 104572.0|  457860.0|   65000.0|      null|     null| 59744.0|128406.0|1.3386748779531557|133.60794488188338|1.0805488324926336|6.747149989782027|2.8766782482438202|4.539048286811655E7|\n",
      "|                0|     null|    null|     null|    null|  250000.0|        null|      null|     null|       null|     null|     null|     null|    null|     null|    null|     null|      null|      null|      null|       null|      null|     null|     null|      null|     null|    null|      null|     null|     null|     null|    null|    null|   null|     null|       null|      null|      null|   null|    null|    null|     null|      null|     null|    null|     null|     null|    null|     null|     null|   null|    null|   null|    null|      null| 250000.0| 250000.0|       null|      null|      null|      null|      null|      null| 250000.0| 250000.0|     null|     null|     null|     null|     null|  250000.0|  250000.0|    null|    null|         250000.0|         250000.0|    null|    null|     null|     null|    null| 250000.0| 325000.0| 325000.0|      0.0|      0.0|      0.0|      0.0|      0.0| 325000.0| 325000.0| 325000.0| 325000.0|  81250.0|  81250.0|      null|  325000.0|      null|     null| 59744.0|128406.0|1.3386748779531557|133.60794488188338|1.0805488324926336|6.747149989782027|2.8766782482438202|4.539048286811655E7|\n",
      "|                1|     null|    null|     null|    null|      null|        null|      null|     null|       null|     null|     null|     null|    null|     null|    null|     null|      null|      null|      null|       null|      null|     null|     null|      null|     null|    null|      null|     null|     null|     null|    null|    null|   null|     null|       null|      null|      null|   null|    null|    null|     null|      null|     null|    null|     null|     null|    null|     null|     null|   null|100000.0|30000.0|    null|      null|     null|     null|       null|      null|      null|      null|      null|      null|     null|     null|     null|     null|     null|     null|     null|      null|      null|    null| 65000.0|          65000.0|          65000.0|    null|    null|     null|     null|    null|     null|      0.0|      0.0|      0.0|      0.0|      0.0| 130000.0|      0.0|      0.0|      0.0| 130000.0| 130000.0|  65000.0|  65000.0|      null|      null|      null| 130000.0| 59744.0|128406.0|1.3386748779531557|133.60794488188338|1.0805488324926336|6.747149989782027|2.8766782482438202|4.539048286811655E7|\n",
      "|                1|     null|    null|     null|    null|      null|        null|      null|     null|       null|1000000.0| 881300.0|     null| 83333.0|  83333.0|    null|     null|      null|      null|      null|       null|      null|     null|     null|      null|     null|    null|      null|     null|     null|     null|    null|    null|   null|     null|       null|      null|      null|   null|    null|    null|     null|      null|     null|    null|     null|     null|    null|     null|     null|   null|    null|   null|    null|      null|     null|     null|   166666.0|      null| 1166666.0| 1047966.0| 1166666.0| 1047966.0|1166666.0|1047966.0|     null|     null|     null|     null|     null| 1166666.0| 1047966.0|    null|    null|        1166666.0|        1047966.0|    null|    null|1166666.0|1047966.0|    null|     null|1516666.0|1362356.0|      0.0|      0.0|      0.0|      0.0|      0.0|1516666.0|1362356.0|1516666.0|1362356.0|1516666.0|1362356.0| 1362356.0|      null|      null|     null| 59744.0|128406.0|1.3386748779531557|133.60794488188338|1.0805488324926336|6.747149989782027|2.8766782482438202|4.539048286811655E7|\n",
      "|                0|     null|    null|     null|    null|      null|        null|      null|     null|       null| 400000.0| 358000.0|     null|    null|     null|    null|     null|      null|      null|      null|       null|      null|     null|     null|      null|     null|    null|      null|     null|     null|     null|    null|    null|   null|     null|       null|      null|      null|   null|    null|    null|     null|      null|     null|    null|     null|     null|    null|     null|     null|   null|    null|   null|    null|      null|     null|     null|       null|      null|  400000.0|  358000.0|  400000.0|  358000.0| 400000.0| 358000.0|     null|     null|     null|     null|     null|  400000.0|  358000.0|    null|    null|         400000.0|         358000.0|    null|    null| 400000.0| 358000.0|    null|     null| 520000.0| 465400.0|      0.0|      0.0|      0.0|      0.0|      0.0| 520000.0| 465400.0| 520000.0| 465400.0| 520000.0| 465400.0|  465400.0|      null|      null|     null| 59744.0|128406.0|1.3386748779531557|133.60794488188338|1.0805488324926336|6.747149989782027|2.8766782482438202|4.539048286811655E7|\n",
      "|                1|     null|    null|     null|    null|  300000.0|        null|      null|     null|       null| 167452.0| 156272.5|     null| 26260.0|     null|    null|     null|  102000.0|      null|      null|       null|      null|     null|     null|      null|     null|    null|      null|     null|     null|     null|370000.0|    null|   null|     null|       null|      null|      null|   null|    null|    null|     null|      null|     null|    null|     null|     null|    null|     null|     null|   null|    null|   null|    null|      null| 300000.0| 300000.0|    26260.0|  102000.0|  180582.0|  169402.5|  282582.0|  271402.5| 288388.0| 280935.0|     null|     null|     null|     null|     null|  288388.0|  280935.0|370000.0|    null|411721.3333333333|404268.3333333333|    null|    null| 282582.0| 271402.5|    null| 300000.0|1124713.0|1095647.0|      0.0|      0.0| 769600.0|      0.0|      0.0|1124713.0|1095647.0|1894313.0|1865247.0| 473578.0| 466312.0|  705647.0|  390000.0|      null|     null| 59744.0|128406.0|1.3386748779531557|133.60794488188338|1.0805488324926336|6.747149989782027|2.8766782482438202|4.539048286811655E7|\n",
      "|                0|     null|    null|     null|    null|  600000.0|        null|      null|     null|       null|1550000.0|1304400.0|     null|129167.0| 100000.0|    null|     null|   70000.0|      null|      null|       null|      null|     null|     null|      null|     null|    null|      null|     null|     null|     null|    null|    null|   null|     null|       null|      null|      null|   null|    null|    null|     null|      null|     null|    null|     null|     null|    null|     null|     null|   null|    null|   null|    null|      null| 600000.0| 600000.0|   229167.0|   70000.0| 1779167.0| 1533567.0| 1849167.0| 1603567.0|1224583.5|1101783.5|     null|     null|     null|     null|     null| 1224583.5| 1101783.5|    null|    null|        1224583.5|        1101783.5|    null|    null|1849167.0|1603567.0|    null| 600000.0|3183917.0|2864637.0|      0.0|      0.0|      0.0|      0.0|      0.0|3183917.0|2864637.0|3183917.0|2864637.0| 795979.0| 716159.0| 2084637.0|  780000.0|      null|     null| 59744.0|128406.0|1.3386748779531557|133.60794488188338|1.0805488324926336|6.747149989782027|2.8766782482438202|4.539048286811655E7|\n",
      "|                0|     null|    null|     null|    null|      null|        null|      null|     null|       null| 440000.0| 425300.0|     null|  7500.0|   5000.0|  5000.0|     null|      null|      null|      null|       null|      null|     null|     null|      null|     null|    null|      null|     null|     null|     null|    null|    null|   null|     null|       null|      null|      null|   null|    null|    null|     null|      null|     null|    null|     null|     null|    null|     null|     null|   null|    null|   null|    null|      null|     null|     null|    17500.0|      null|  448750.0|  434050.0|  448750.0|  434050.0| 448750.0| 434050.0|     null|     null|     null|     null|     null|  448750.0|  434050.0|    null|    null|         448750.0|         434050.0|    null|    null| 448750.0| 434050.0|    null|     null|1166750.0|1128530.0|      0.0|      0.0|      0.0|      0.0|      0.0|1166750.0|1128530.0|1166750.0|1128530.0| 388917.0| 376177.0| 1128530.0|      null|      null|     null| 59744.0|128406.0|1.3386748779531557|133.60794488188338|1.0805488324926336|6.747149989782027|2.8766782482438202|4.539048286811655E7|\n",
      "|                0|     null|    null|     null|    null|   80000.0|        null|      null|     null|       null|     null|     null|     null|    null|     null|    null|     null|      null|      null|      null|       null|      null|     null|     null|      null|     null|    null|      null|     null|     null|     null|    null|    null|   null|     null|       null|      null|      null|   null|    null|    null|     null|      null|     null|    null|     null|     null|    null|     null|     null|   null|    null|   null|    null|      null|  80000.0|  80000.0|       null|      null|      null|      null|      null|      null|  80000.0|  80000.0|     null|     null|     null|     null|     null|   80000.0|   80000.0|    null|    null|          80000.0|          80000.0|    null|    null|     null|     null|    null|  80000.0| 104000.0| 104000.0|      0.0|      0.0|      0.0|      0.0|      0.0| 104000.0| 104000.0| 104000.0| 104000.0|  34667.0|  34667.0|      null|  104000.0|      null|     null| 59744.0|128406.0|1.3386748779531557|133.60794488188338|1.0805488324926336|6.747149989782027|2.8766782482438202|4.539048286811655E7|\n",
      "|                1|     null|    null|     null|    null|      null|        null|      null|     null|       null| 230000.0| 230000.0|     null|    null|     null|    null|     null|   61115.0|  129333.0|      null|       null|      null|     null|     null|      null|     null|    null|      null|     null|     null|     null|471535.0|    null|   null|     null|       null|      null|      null|   null|    null|    null|     null|      null|     null|739272.0|  62100.0| 801372.0|    null|     null|     null|   null|    null|   null|    null|      null|     null|     null|       null|  190448.0|  230000.0|  230000.0|  420448.0|  420448.0| 420448.0| 420448.0|     null|     null|     null|     null|     null|  420448.0|  420448.0|471535.0|801372.0|         846677.5|         846677.5|    null|    null| 420448.0| 420448.0|    null|     null|      0.0|      0.0|      0.0|      0.0| 980793.0| 801372.0|      0.0|      0.0|      0.0|1782165.0|1782165.0|1782165.0|1782165.0|      null|      null|      null| 801372.0| 59744.0|128406.0|1.3386748779531557|133.60794488188338|1.0805488324926336|6.747149989782027|2.8766782482438202|4.539048286811655E7|\n",
      "|                0|     null|    null|     null|    null|      null|        null|      null|     null|       null| 240000.0| 240000.0|     null|    null|     null|    null|     null|      null|      null|      null|       null|      null|     null|     null|      null|     null|    null|      null|     null|     null|     null|    null|    null|   null|     null|       null|      null|      null|   null|    null|    null|     null|      null|     null|    null|     null|     null|    null|     null|     null|   null|    null|   null|    null|      null|     null|     null|       null|      null|  240000.0|  240000.0|  240000.0|  240000.0| 240000.0| 240000.0|     null|     null|     null|     null|     null|  240000.0|  240000.0|    null|    null|         240000.0|         240000.0|    null|    null| 240000.0| 240000.0|    null|     null| 312000.0| 312000.0|      0.0|      0.0|      0.0|      0.0|      0.0| 312000.0| 312000.0| 312000.0| 312000.0|  78000.0|  78000.0|  312000.0|      null|      null|     null| 59744.0|128406.0|1.3386748779531557|133.60794488188338|1.0805488324926336|6.747149989782027|2.8766782482438202|4.539048286811655E7|\n",
      "|                0|     null|    null|     null|    null|  300000.0|        null|      null|     null|       null| 300000.0| 300000.0|     null| 25000.0|     null|    null|     null|      null|      null|      null|       null|      null|     null|     null|      null|     null|    null|      null|     null|     null|     null|    null|150000.0|   null|     null|       null|      null|      null|   null|    null| 80000.0|   6667.0|      null|  86667.0|    null|     null|     null|    null|     null|     null|   null|    null|   null|    null|      null| 300000.0| 300000.0|    25000.0|      null|  325000.0|  325000.0|  325000.0|  325000.0| 312500.0| 312500.0|     null|     null|     null|     null|     null|  312500.0|  312500.0|150000.0| 86667.0|         430833.5|         430833.5|    null|    null| 325000.0| 325000.0|    null| 300000.0| 812500.0| 812500.0|      0.0|      0.0| 312000.0|  86667.0|      0.0| 812500.0| 812500.0|1211167.0|1211167.0| 403722.0| 403722.0|  422500.0|  390000.0|      null|  86667.0| 59744.0|128406.0|1.3386748779531557|133.60794488188338|1.0805488324926336|6.747149989782027|2.8766782482438202|4.539048286811655E7|\n",
      "+-----------------+---------+--------+---------+--------+----------+------------+----------+---------+-----------+---------+---------+---------+--------+---------+--------+---------+----------+----------+----------+-----------+----------+---------+---------+----------+---------+--------+----------+---------+---------+---------+--------+--------+-------+---------+-----------+----------+----------+-------+--------+--------+---------+----------+---------+--------+---------+---------+--------+---------+---------+-------+--------+-------+--------+----------+---------+---------+-----------+----------+----------+----------+----------+----------+---------+---------+---------+---------+---------+---------+---------+----------+----------+--------+--------+-----------------+-----------------+--------+--------+---------+---------+--------+---------+---------+---------+---------+---------+---------+---------+---------+---------+---------+---------+---------+---------+---------+----------+----------+----------+---------+--------+--------+------------------+------------------+------------------+-----------------+------------------+-------------------+\n",
      "only showing top 20 rows\n",
      "\n"
     ]
    },
    {
     "name": "stderr",
     "output_type": "stream",
     "text": [
      "                                                                                \r"
     ]
    }
   ],
   "source": [
    "tenencia_vivienda_df = unir_datos(enaho_2022,construccion_prom_region_2022)\n",
    "\n",
    "tenencia_vivienda_df.show()"
   ]
  },
  {
   "cell_type": "code",
   "execution_count": 28,
   "id": "61a37841",
   "metadata": {},
   "outputs": [],
   "source": [
    "def guardar_a_postgres(construccion,enaho,base_unida):\n",
    "    construccion \\\n",
    "    .write \\\n",
    "    .format(\"jdbc\") \\\n",
    "    .mode('overwrite') \\\n",
    "    .option(\"url\", \"jdbc:postgresql://host.docker.internal:5433/postgres\") \\\n",
    "    .option(\"user\", \"postgres\") \\\n",
    "    .option(\"password\", \"testPassword\") \\\n",
    "    .option(\"dbtable\", \"construccion_df_\") \\\n",
    "    .save()\n",
    "    \n",
    "    enaho \\\n",
    "    .write \\\n",
    "    .format(\"jdbc\") \\\n",
    "    .mode('overwrite') \\\n",
    "    .option(\"url\", \"jdbc:postgresql://host.docker.internal:5433/postgres\") \\\n",
    "    .option(\"user\", \"postgres\") \\\n",
    "    .option(\"password\", \"testPassword\") \\\n",
    "    .option(\"dbtable\", \"enaho_df_1\") \\\n",
    "    .save()\n",
    "    \n",
    "    base_unida \\\n",
    "    .write \\\n",
    "    .format(\"jdbc\") \\\n",
    "    .mode('overwrite') \\\n",
    "    .option(\"url\", \"jdbc:postgresql://host.docker.internal:5433/postgres\") \\\n",
    "    .option(\"user\", \"postgres\") \\\n",
    "    .option(\"password\", \"testPassword\") \\\n",
    "    .option(\"dbtable\", \"tenencia_vivienda_df_1\") \\\n",
    "    .save()"
   ]
  },
  {
   "cell_type": "code",
   "execution_count": 29,
   "id": "176363a5",
   "metadata": {},
   "outputs": [
    {
     "name": "stderr",
     "output_type": "stream",
     "text": [
      "24/05/11 23:49:36 WARN WindowExec: No Partition Defined for Window operation! Moving all data to a single partition, this can cause serious performance degradation.\n",
      "24/05/11 23:49:36 WARN WindowExec: No Partition Defined for Window operation! Moving all data to a single partition, this can cause serious performance degradation.\n",
      "24/05/11 23:49:36 WARN WindowExec: No Partition Defined for Window operation! Moving all data to a single partition, this can cause serious performance degradation.\n",
      "24/05/11 23:49:36 WARN WindowExec: No Partition Defined for Window operation! Moving all data to a single partition, this can cause serious performance degradation.\n",
      "24/05/11 23:49:40 WARN WindowExec: No Partition Defined for Window operation! Moving all data to a single partition, this can cause serious performance degradation.\n",
      "24/05/11 23:49:40 WARN WindowExec: No Partition Defined for Window operation! Moving all data to a single partition, this can cause serious performance degradation.\n",
      "24/05/11 23:49:40 WARN WindowExec: No Partition Defined for Window operation! Moving all data to a single partition, this can cause serious performance degradation.\n",
      "24/05/11 23:49:40 WARN WindowExec: No Partition Defined for Window operation! Moving all data to a single partition, this can cause serious performance degradation.\n",
      "24/05/11 23:49:40 WARN WindowExec: No Partition Defined for Window operation! Moving all data to a single partition, this can cause serious performance degradation.\n",
      "24/05/11 23:49:40 WARN WindowExec: No Partition Defined for Window operation! Moving all data to a single partition, this can cause serious performance degradation.\n",
      "24/05/11 23:49:40 WARN WindowExec: No Partition Defined for Window operation! Moving all data to a single partition, this can cause serious performance degradation.\n",
      "24/05/11 23:49:40 WARN WindowExec: No Partition Defined for Window operation! Moving all data to a single partition, this can cause serious performance degradation.\n",
      "                                                                                \r"
     ]
    }
   ],
   "source": [
    "guardar_a_postgres(construccion_prom_region_2022,enaho_2022,tenencia_vivienda_df)"
   ]
  },
  {
   "cell_type": "code",
   "execution_count": 107,
   "id": "4898df9d",
   "metadata": {},
   "outputs": [
    {
     "name": "stdout",
     "output_type": "stream",
     "text": [
      "+----------------+------------------+------------------+------------------+-----------------+------------------+--------------------+-------------+\n",
      "|          REGION| reg_pro_num_obras|   reg_prom_arecon|   reg_prom_numviv|  reg_prom_numapo|   reg_prom_numdor|     reg_prom_valobr|Codigo_Region|\n",
      "+----------------+------------------+------------------+------------------+-----------------+------------------+--------------------+-------------+\n",
      "|    HUETAR NORTE|1.0503136153898356| 71.42357793198545|0.9486050771143969|4.714806704849421| 2.172745293336891|1.9334500496198073E7|            6|\n",
      "|   HUETAR CARIBE|1.1466133138681152|59.878152501614835|0.9699997159750016| 3.98014685977476|1.8833681343661388|1.5375398208581805E7|            5|\n",
      "|         CENTRAL|1.3386748779531557|133.60794488188338|1.0805488324926336|6.747149989782027|2.8766782482438202| 4.539048286811655E7|            1|\n",
      "|          BRUNCA|1.0385502365644046|  69.4399004299654|0.9254513138431006| 4.61359800403076| 2.096031027513646|1.8023986822832573E7|            4|\n",
      "|       CHOROTEGA|1.1046536969499103|102.69855013433109|0.9580642027386144| 5.60963460047087| 2.370261460804899|3.2070019149654135E7|            2|\n",
      "|PACIFICO CENTRAL|1.1240826124954184|103.30609098218119|1.0041328776592726|5.889435001900645|2.5637056232682403| 3.179532884968296E7|            3|\n",
      "+----------------+------------------+------------------+------------------+-----------------+------------------+--------------------+-------------+\n",
      "\n"
     ]
    }
   ],
   "source": [
    "construccion_df = spark \\\n",
    "    .read \\\n",
    "    .format(\"jdbc\") \\\n",
    "    .option(\"url\", \"jdbc:postgresql://host.docker.internal:5433/postgres\") \\\n",
    "    .option(\"user\", \"postgres\") \\\n",
    "    .option(\"password\", \"testPassword\") \\\n",
    "    .option(\"dbtable\", \"construccion_df\") \\\n",
    "    .load()\n",
    "\n",
    "construccion_df.show()"
   ]
  },
  {
   "cell_type": "code",
   "execution_count": 108,
   "id": "70d6682d",
   "metadata": {},
   "outputs": [
    {
     "name": "stdout",
     "output_type": "stream",
     "text": [
      "+---+----------+-----------------+-----------------+------------------+---------------------+----+-------------------+---------------------+-------------------------+\n",
      "| id|Region_Geo|Tenencia_Vivienda|Cantidad_Personas|Cantidad_vehiculos|Cantidad_Computadoras|ZONA|suma_escolari_hogar|suma_horas_trab_hogar|Ingreso_Total_Bruto_Hogar|\n",
      "+---+----------+-----------------+-----------------+------------------+---------------------+----+-------------------+---------------------+-------------------------+\n",
      "|  1|       1.0|                1|              2.0|               1.0|                 null| 1.0|               12.0|                 null|                1029167.0|\n",
      "|  2|       1.0|                1|              4.0|              null|                 null| 1.0|               46.0|                 47.5|                2448333.0|\n",
      "|  3|       1.0|                0|              3.0|              null|                 null| 1.0|               30.0|                 48.0|                 494000.0|\n",
      "|  4|       1.0|                1|              4.0|               2.0|                  2.0| 1.0|               50.0|                 44.0|                3550000.0|\n",
      "|  5|       1.0|                1|              3.0|               1.0|                  1.0| 1.0|               30.0|                 null|                1248000.0|\n",
      "|  6|       1.0|                1|              2.0|              null|                  1.0| 1.0|               30.0|                 40.0|                1495000.0|\n",
      "|  7|       1.0|                1|              1.0|               1.0|                  1.0| 1.0|               22.0|                 null|                 862333.0|\n",
      "|  8|       1.0|                0|              4.0|               1.0|                  1.0| 1.0|               22.0|                 50.0|                 704167.0|\n",
      "|  9|       1.0|                0|              5.0|              null|                 null| 1.0|               46.0|                 28.5|                 572000.0|\n",
      "| 10|       1.0|                0|              4.0|              null|                  1.0| 1.0|               35.0|                 40.0|                 325000.0|\n",
      "| 11|       1.0|                1|              2.0|              null|                 null| 1.0|               19.0|                 null|                 130000.0|\n",
      "| 12|       1.0|                1|              1.0|              null|                  3.0| 1.0|               22.0|                 10.0|                1516666.0|\n",
      "| 13|       1.0|                0|              1.0|              null|                 null| 1.0|                7.0|                 55.0|                 520000.0|\n",
      "| 14|       1.0|                1|              4.0|               1.0|                  2.0| 1.0|               31.0|   50.333333333333336|                1894313.0|\n",
      "| 15|       1.0|                0|              4.0|              null|                  4.0| 1.0|               50.0|                 60.0|                3183917.0|\n",
      "| 16|       1.0|                0|              3.0|              null|                 null| 1.0|               27.0|                 53.5|                1166750.0|\n",
      "| 17|       1.0|                0|              3.0|              null|                 null| 1.0|               25.0|                  3.0|                 104000.0|\n",
      "| 18|       1.0|                1|              2.0|              null|                 null| 1.0|               28.0|                 60.0|                1782165.0|\n",
      "| 19|       1.0|                0|              4.0|              null|                 null| 1.0|               23.0|                 60.0|                 312000.0|\n",
      "| 20|       1.0|                0|              3.0|               1.0|                 null| 1.0|               18.0|                 60.0|                1211167.0|\n",
      "+---+----------+-----------------+-----------------+------------------+---------------------+----+-------------------+---------------------+-------------------------+\n",
      "only showing top 20 rows\n",
      "\n"
     ]
    }
   ],
   "source": [
    "enaho_df = spark \\\n",
    "    .read \\\n",
    "    .format(\"jdbc\") \\\n",
    "    .option(\"url\", \"jdbc:postgresql://host.docker.internal:5433/postgres\") \\\n",
    "    .option(\"user\", \"postgres\") \\\n",
    "    .option(\"password\", \"testPassword\") \\\n",
    "    .option(\"dbtable\", \"enaho_df\") \\\n",
    "    .load()\n",
    "\n",
    "enaho_df.show()"
   ]
  },
  {
   "cell_type": "code",
   "execution_count": 31,
   "id": "e7ce92f4",
   "metadata": {},
   "outputs": [
    {
     "name": "stdout",
     "output_type": "stream",
     "text": [
      "+-----------------+---------+--------+---------+--------+----------+------------+----------+---------+-----------+---------+---------+---------+--------+---------+--------+---------+----------+----------+----------+-----------+----------+---------+---------+----------+---------+--------+----------+---------+---------+---------+--------+--------+-------+---------+-----------+----------+----------+-------+--------+--------+---------+----------+---------+--------+---------+---------+--------+---------+---------+-------+--------+-------+--------+----------+---------+---------+-----------+----------+----------+----------+----------+----------+---------+---------+---------+---------+---------+---------+---------+----------+----------+--------+--------+-----------------+-----------------+--------+--------+---------+---------+--------+---------+---------+---------+---------+---------+---------+---------+---------+---------+---------+---------+---------+---------+---------+----------+----------+----------+---------+--------+--------+------------------+------------------+------------------+-----------------+------------------+-------------------+\n",
      "|Tenencia_Vivienda|avg(spif)|avg(aif)|avg(gpif)|avg(dif)|avg(gpina)|avg(inmpina)|avg(gpsfi)|avg(gpia)|avg(inmpia)|avg(spmb)|avg(spmn)|avg(ipsp)|avg(asp)|avg(sesp)|avg(bsp)|avg(oisp)|avg(spnma)|avg(spnmv)|avg(spnmt)|avg(spnmvh)|avg(spnmo)|avg(ssif)|avg(asif)|avg(gpsif)|avg(dsif)|avg(gsi)|avg(inmsi)|avg(ssmb)|avg(ssmn)|avg(ssnm)| avg(ia)| avg(ii)|avg(ib)|avg(trnc)|avg(taprnc)|avg(ttrnc)|avg(timas)|avg(ts)|avg(tbc)|avg(tpa)|avg(tapa)|avg(tsepa)|avg(ttpa)|avg(tpn)|avg(tapn)|avg(ttpn)|avg(tpe)|avg(tape)|avg(ttpe)|avg(te)|avg(tdp)|avg(ot)|avg(tnm)|avg(ipinm)|avg(ipim)|avg(ipit)|avg(tormsp)|avg(tspnm)|avg(ipsmb)|avg(ipsmn)|avg(ipsbt)|avg(ipsnt)|avg(ipbt)|avg(ipnt)|avg(isit)|avg(issb)|avg(issn)|avg(isbt)|avg(isnt)|avg(itrbt)|avg(itrnt)|avg(irp)|avg(ttm)|        avg(itpb)|        avg(itpn)|avg(sab)|avg(san)|avg(snab)|avg(snan)|avg(iag)|avg(inag)|avg(ipbh)|avg(ipnh)|avg(isbh)|avg(isnh)|avg(irph)|avg(ttmh)|avg(tnmh)|avg(itbh)|avg(itnh)|avg(ithb)|avg(ithn)|avg(ipcb)|avg(ipcn)|avg(isanh)|avg(iaunh)|avg(tsebh)| avg(oth)|avg(cba)| avg(lp)| reg_pro_num_obras|   reg_prom_arecon|   reg_prom_numviv|  reg_prom_numapo|   reg_prom_numdor|    reg_prom_valobr|\n",
      "+-----------------+---------+--------+---------+--------+----------+------------+----------+---------+-----------+---------+---------+---------+--------+---------+--------+---------+----------+----------+----------+-----------+----------+---------+---------+----------+---------+--------+----------+---------+---------+---------+--------+--------+-------+---------+-----------+----------+----------+-------+--------+--------+---------+----------+---------+--------+---------+---------+--------+---------+---------+-------+--------+-------+--------+----------+---------+---------+-----------+----------+----------+----------+----------+----------+---------+---------+---------+---------+---------+---------+---------+----------+----------+--------+--------+-----------------+-----------------+--------+--------+---------+---------+--------+---------+---------+---------+---------+---------+---------+---------+---------+---------+---------+---------+---------+---------+---------+----------+----------+----------+---------+--------+--------+------------------+------------------+------------------+-----------------+------------------+-------------------+\n",
      "|                1|     null|    null|     null|    null|      null|        null|      null|     null|       null|     null|     null|     null|    null|     null|    null|     null|      null|      null|      null|       null|      null|     null|     null|      null|     null|    null|      null|     null|     null|     null|    null|    null|   null|     null|       null|      null|      null|   null|    null|    null|     null|      null|     null|475000.0|  39583.5| 514583.5|    null|     null|     null|   null|    null|   null|    null|      null|     null|     null|       null|      null|      null|      null|      null|      null|     null|     null|     null|     null|     null|     null|     null|      null|      null|    null|514583.5|         514583.5|         514583.5|    null|    null|     null|     null|    null|     null|      0.0|      0.0|      0.0|      0.0|      0.0|1029167.0|      0.0|      0.0|      0.0|1029167.0|1029167.0| 514584.0| 514584.0|      null|      null|      null|1029167.0| 59744.0|128406.0|1.3386748779531557|133.60794488188338|1.0805488324926336|6.747149989782027|2.8766782482438202|4.539048286811655E7|\n",
      "|                1|     null|    null|     null|    null|      null|        null|      null|     null|       null| 450000.0| 402750.0|     null| 37500.0|     null|    null|     null|      null|      null|      null|       null|      null|     null|     null|      null|     null|    null|      null|     null|     null|     null|500000.0|    null|   null|     null|       null|      null|      null|   null|    null|    null|     null|      null|     null|130000.0|  10833.0| 140833.0|    null|     null|     null|   null|    null|   null|    null|      null|     null|     null|    37500.0|      null|  487500.0|  440250.0|  487500.0|  440250.0| 487500.0| 440250.0|     null|     null|     null|     null|     null|  487500.0|  440250.0|500000.0|140833.0|        403958.25|        380333.25|    null|    null| 487500.0| 440250.0|    null|     null|1267500.0|1144650.0|      0.0|      0.0|1040000.0| 140833.0|      0.0|1267500.0|1144650.0|2448333.0|2325483.0| 612083.0| 581371.0| 1144650.0|      null|      null| 140833.0| 59744.0|128406.0|1.3386748779531557|133.60794488188338|1.0805488324926336|6.747149989782027|2.8766782482438202|4.539048286811655E7|\n",
      "|                0|     null|    null|     null|    null|      null|        null|      null|     null|       null| 380000.0| 340100.0|     null|    null|     null|    null|     null|      null|      null|      null|       null|      null|     null|     null|      null|     null|    null|      null|     null|     null|     null|    null|    null|   null|     null|       null|      null|      null|   null|    null|    null|     null|      null|     null|    null|     null|     null|    null|     null|     null|   null|    null|   null|    null|      null|     null|     null|       null|      null|  380000.0|  340100.0|  380000.0|  340100.0| 380000.0| 340100.0|     null|     null|     null|     null|     null|  380000.0|  340100.0|    null|    null|         380000.0|         340100.0|    null|    null| 380000.0| 340100.0|    null|     null| 494000.0| 442130.0|      0.0|      0.0|      0.0|      0.0|      0.0| 494000.0| 442130.0| 494000.0| 442130.0| 164667.0| 147377.0|  442130.0|      null|      null|     null| 59744.0|128406.0|1.3386748779531557|133.60794488188338|1.0805488324926336|6.747149989782027|2.8766782482438202|4.539048286811655E7|\n",
      "|                1|1500000.0|    null|1000000.0|     0.0|      null|        null|      null|     null|       null| 280000.0| 250600.0|     null| 35000.0|     null|    null|     null|   50000.0|  100000.0|      null|       null|      null|     null|     null|      null|     null|    null|      null|     null|     null|     null|    null|    null|   null|     null|       null|      null|      null|   null|    null|    null|     null|      null|     null|    null|     null|     null|    null|     null|     null|   null|300000.0|   null|    null|      null|2500000.0|2500000.0|    35000.0|  150000.0|  315000.0|  285600.0|  465000.0|  435600.0|1482500.0|1467800.0|     null|     null|     null|     null|     null| 1482500.0| 1467800.0|    null|300000.0|        1632500.0|        1617800.0|    null|    null| 465000.0| 435600.0|    null|2500000.0|3250000.0|3250000.0|      0.0|      0.0|      0.0| 300000.0|      0.0|3250000.0|3250000.0|3550000.0|3550000.0|1183333.0|1183333.0|      null| 3250000.0|      null| 300000.0| 59744.0|128406.0|1.3386748779531557|133.60794488188338|1.0805488324926336|6.747149989782027|2.8766782482438202|4.539048286811655E7|\n",
      "|                1|     null|    null|     null|    null|      null|        null|      null|     null|       null|     null|     null|     null|    null|     null|    null|     null|      null|      null|      null|       null|      null|     null|     null|      null|     null|    null|      null|     null|     null|     null|600000.0|    null|   null|     null|       null|      null|      null|   null|    null|    null|     null|      null|     null|    null|     null|     null|    null|     null|     null|   null|    null|   null|    null|      null|     null|     null|       null|      null|      null|      null|      null|      null|     null|     null|     null|     null|     null|     null|     null|      null|      null|600000.0|    null|         600000.0|         600000.0|    null|    null|     null|     null|    null|     null|      0.0|      0.0|      0.0|      0.0|1248000.0|      0.0|      0.0|      0.0|      0.0|1248000.0|1248000.0| 416000.0| 416000.0|      null|      null|      null|     null| 59744.0|128406.0|1.3386748779531557|133.60794488188338|1.0805488324926336|6.747149989782027|2.8766782482438202|4.539048286811655E7|\n",
      "|                1|     null|    null|     null|    null|      null|        null|      null|     null|       null| 600000.0| 537000.0|     null| 50000.0|     null|    null|     null|      null|      null|      null|       null|      null|     null|     null|      null|     null|    null|      null|     null|     null|     null|    null|    null|   null|     null|       null|      null|      null|   null|    null|    null|     null|      null|     null|600000.0|  50000.0| 650000.0|    null|     null|     null|   null|    null|   null|    null|      null|     null|     null|    50000.0|      null|  650000.0|  587000.0|  650000.0|  587000.0| 650000.0| 587000.0|     null|     null|     null|     null|     null|  650000.0|  587000.0|    null|650000.0|         650000.0|         618500.0|    null|    null| 650000.0| 587000.0|    null|     null| 845000.0| 763100.0|      0.0|      0.0|      0.0| 650000.0|      0.0| 845000.0| 763100.0|1495000.0|1413100.0| 747500.0| 706550.0|  763100.0|      null|      null| 650000.0| 59744.0|128406.0|1.3386748779531557|133.60794488188338|1.0805488324926336|6.747149989782027|2.8766782482438202|4.539048286811655E7|\n",
      "|                1|     null|    null|     null|    null|      null|        null|      null|     null|       null|     null|     null|     null|    null|     null|    null|     null|      null|      null|      null|       null|      null|     null|     null|      null|     null|    null|      null|     null|     null|     null|    null|    null|   null|     null|       null|      null|      null|   null|    null|    null|     null|      null|     null|796000.0|  66333.0| 862333.0|    null|     null|     null|   null|    null|   null|    null|      null|     null|     null|       null|      null|      null|      null|      null|      null|     null|     null|     null|     null|     null|     null|     null|      null|      null|    null|862333.0|         862333.0|         862333.0|    null|    null|     null|     null|    null|     null|      0.0|      0.0|      0.0|      0.0|      0.0| 862333.0|      0.0|      0.0|      0.0| 862333.0| 862333.0| 862333.0| 862333.0|      null|      null|      null| 862333.0| 59744.0|128406.0|1.3386748779531557|133.60794488188338|1.0805488324926336|6.747149989782027|2.8766782482438202|4.539048286811655E7|\n",
      "|                0|     null|    null|     null|    null|      null|        null|      null|     null|       null| 500000.0| 447500.0|     null| 41667.0|     null|    null|     null|      null|      null|      null|       null|      null|     null|     null|      null|     null|    null|      null|     null|     null|     null|    null|    null|   null|     null|       null|      null|      null|   null|    null|    null|     null|      null|     null|    null|     null|     null|    null|     null|     null|   null|    null|   null|    null|      null|     null|     null|    41667.0|      null|  541667.0|  489167.0|  541667.0|  489167.0| 541667.0| 489167.0|     null|     null|     null|     null|     null|  541667.0|  489167.0|    null|    null|         541667.0|         489167.0|    null|    null| 541667.0| 489167.0|    null|     null| 704167.0| 635917.0|      0.0|      0.0|      0.0|      0.0|      0.0| 704167.0| 635917.0| 704167.0| 635917.0| 176042.0| 158979.0|  635917.0|      null|      null|     null| 59744.0|128406.0|1.3386748779531557|133.60794488188338|1.0805488324926336|6.747149989782027|2.8766782482438202|4.539048286811655E7|\n",
      "|                0|     null|    null|     null|    null|   50000.0|        null|      null|     null|       null| 360000.0| 322200.0|     null| 30000.0|     null|    null|     null|      null|      null|      null|       null|      null|     null|     null|      null|     null|    null|      null|     null|     null|     null|    null|    null|   null|     null|       null|      null|      null|   null|    null|    null|     null|      null|     null|    null|     null|     null|    null|     null|     null|   null|    null|   null|    null|      null|  50000.0|  50000.0|    30000.0|      null|  390000.0|  352200.0|  390000.0|  352200.0| 220000.0| 201100.0|     null|     null|     null|     null|     null|  220000.0|  201100.0|    null|    null|         220000.0|         201100.0|    null|    null| 390000.0| 352200.0|    null|  50000.0| 572000.0| 522860.0|      0.0|      0.0|      0.0|      0.0|      0.0| 572000.0| 522860.0| 572000.0| 522860.0| 114400.0| 104572.0|  457860.0|   65000.0|      null|     null| 59744.0|128406.0|1.3386748779531557|133.60794488188338|1.0805488324926336|6.747149989782027|2.8766782482438202|4.539048286811655E7|\n",
      "|                0|     null|    null|     null|    null|  250000.0|        null|      null|     null|       null|     null|     null|     null|    null|     null|    null|     null|      null|      null|      null|       null|      null|     null|     null|      null|     null|    null|      null|     null|     null|     null|    null|    null|   null|     null|       null|      null|      null|   null|    null|    null|     null|      null|     null|    null|     null|     null|    null|     null|     null|   null|    null|   null|    null|      null| 250000.0| 250000.0|       null|      null|      null|      null|      null|      null| 250000.0| 250000.0|     null|     null|     null|     null|     null|  250000.0|  250000.0|    null|    null|         250000.0|         250000.0|    null|    null|     null|     null|    null| 250000.0| 325000.0| 325000.0|      0.0|      0.0|      0.0|      0.0|      0.0| 325000.0| 325000.0| 325000.0| 325000.0|  81250.0|  81250.0|      null|  325000.0|      null|     null| 59744.0|128406.0|1.3386748779531557|133.60794488188338|1.0805488324926336|6.747149989782027|2.8766782482438202|4.539048286811655E7|\n",
      "|                1|     null|    null|     null|    null|      null|        null|      null|     null|       null|     null|     null|     null|    null|     null|    null|     null|      null|      null|      null|       null|      null|     null|     null|      null|     null|    null|      null|     null|     null|     null|    null|    null|   null|     null|       null|      null|      null|   null|    null|    null|     null|      null|     null|    null|     null|     null|    null|     null|     null|   null|100000.0|30000.0|    null|      null|     null|     null|       null|      null|      null|      null|      null|      null|     null|     null|     null|     null|     null|     null|     null|      null|      null|    null| 65000.0|          65000.0|          65000.0|    null|    null|     null|     null|    null|     null|      0.0|      0.0|      0.0|      0.0|      0.0| 130000.0|      0.0|      0.0|      0.0| 130000.0| 130000.0|  65000.0|  65000.0|      null|      null|      null| 130000.0| 59744.0|128406.0|1.3386748779531557|133.60794488188338|1.0805488324926336|6.747149989782027|2.8766782482438202|4.539048286811655E7|\n",
      "|                1|     null|    null|     null|    null|      null|        null|      null|     null|       null|1000000.0| 881300.0|     null| 83333.0|  83333.0|    null|     null|      null|      null|      null|       null|      null|     null|     null|      null|     null|    null|      null|     null|     null|     null|    null|    null|   null|     null|       null|      null|      null|   null|    null|    null|     null|      null|     null|    null|     null|     null|    null|     null|     null|   null|    null|   null|    null|      null|     null|     null|   166666.0|      null| 1166666.0| 1047966.0| 1166666.0| 1047966.0|1166666.0|1047966.0|     null|     null|     null|     null|     null| 1166666.0| 1047966.0|    null|    null|        1166666.0|        1047966.0|    null|    null|1166666.0|1047966.0|    null|     null|1516666.0|1362356.0|      0.0|      0.0|      0.0|      0.0|      0.0|1516666.0|1362356.0|1516666.0|1362356.0|1516666.0|1362356.0| 1362356.0|      null|      null|     null| 59744.0|128406.0|1.3386748779531557|133.60794488188338|1.0805488324926336|6.747149989782027|2.8766782482438202|4.539048286811655E7|\n",
      "|                0|     null|    null|     null|    null|      null|        null|      null|     null|       null| 400000.0| 358000.0|     null|    null|     null|    null|     null|      null|      null|      null|       null|      null|     null|     null|      null|     null|    null|      null|     null|     null|     null|    null|    null|   null|     null|       null|      null|      null|   null|    null|    null|     null|      null|     null|    null|     null|     null|    null|     null|     null|   null|    null|   null|    null|      null|     null|     null|       null|      null|  400000.0|  358000.0|  400000.0|  358000.0| 400000.0| 358000.0|     null|     null|     null|     null|     null|  400000.0|  358000.0|    null|    null|         400000.0|         358000.0|    null|    null| 400000.0| 358000.0|    null|     null| 520000.0| 465400.0|      0.0|      0.0|      0.0|      0.0|      0.0| 520000.0| 465400.0| 520000.0| 465400.0| 520000.0| 465400.0|  465400.0|      null|      null|     null| 59744.0|128406.0|1.3386748779531557|133.60794488188338|1.0805488324926336|6.747149989782027|2.8766782482438202|4.539048286811655E7|\n",
      "|                1|     null|    null|     null|    null|  300000.0|        null|      null|     null|       null| 167452.0| 156272.5|     null| 26260.0|     null|    null|     null|  102000.0|      null|      null|       null|      null|     null|     null|      null|     null|    null|      null|     null|     null|     null|370000.0|    null|   null|     null|       null|      null|      null|   null|    null|    null|     null|      null|     null|    null|     null|     null|    null|     null|     null|   null|    null|   null|    null|      null| 300000.0| 300000.0|    26260.0|  102000.0|  180582.0|  169402.5|  282582.0|  271402.5| 288388.0| 280935.0|     null|     null|     null|     null|     null|  288388.0|  280935.0|370000.0|    null|411721.3333333333|404268.3333333333|    null|    null| 282582.0| 271402.5|    null| 300000.0|1124713.0|1095647.0|      0.0|      0.0| 769600.0|      0.0|      0.0|1124713.0|1095647.0|1894313.0|1865247.0| 473578.0| 466312.0|  705647.0|  390000.0|      null|     null| 59744.0|128406.0|1.3386748779531557|133.60794488188338|1.0805488324926336|6.747149989782027|2.8766782482438202|4.539048286811655E7|\n",
      "|                0|     null|    null|     null|    null|  600000.0|        null|      null|     null|       null|1550000.0|1304400.0|     null|129167.0| 100000.0|    null|     null|   70000.0|      null|      null|       null|      null|     null|     null|      null|     null|    null|      null|     null|     null|     null|    null|    null|   null|     null|       null|      null|      null|   null|    null|    null|     null|      null|     null|    null|     null|     null|    null|     null|     null|   null|    null|   null|    null|      null| 600000.0| 600000.0|   229167.0|   70000.0| 1779167.0| 1533567.0| 1849167.0| 1603567.0|1224583.5|1101783.5|     null|     null|     null|     null|     null| 1224583.5| 1101783.5|    null|    null|        1224583.5|        1101783.5|    null|    null|1849167.0|1603567.0|    null| 600000.0|3183917.0|2864637.0|      0.0|      0.0|      0.0|      0.0|      0.0|3183917.0|2864637.0|3183917.0|2864637.0| 795979.0| 716159.0| 2084637.0|  780000.0|      null|     null| 59744.0|128406.0|1.3386748779531557|133.60794488188338|1.0805488324926336|6.747149989782027|2.8766782482438202|4.539048286811655E7|\n",
      "|                0|     null|    null|     null|    null|      null|        null|      null|     null|       null| 440000.0| 425300.0|     null|  7500.0|   5000.0|  5000.0|     null|      null|      null|      null|       null|      null|     null|     null|      null|     null|    null|      null|     null|     null|     null|    null|    null|   null|     null|       null|      null|      null|   null|    null|    null|     null|      null|     null|    null|     null|     null|    null|     null|     null|   null|    null|   null|    null|      null|     null|     null|    17500.0|      null|  448750.0|  434050.0|  448750.0|  434050.0| 448750.0| 434050.0|     null|     null|     null|     null|     null|  448750.0|  434050.0|    null|    null|         448750.0|         434050.0|    null|    null| 448750.0| 434050.0|    null|     null|1166750.0|1128530.0|      0.0|      0.0|      0.0|      0.0|      0.0|1166750.0|1128530.0|1166750.0|1128530.0| 388917.0| 376177.0| 1128530.0|      null|      null|     null| 59744.0|128406.0|1.3386748779531557|133.60794488188338|1.0805488324926336|6.747149989782027|2.8766782482438202|4.539048286811655E7|\n",
      "|                0|     null|    null|     null|    null|   80000.0|        null|      null|     null|       null|     null|     null|     null|    null|     null|    null|     null|      null|      null|      null|       null|      null|     null|     null|      null|     null|    null|      null|     null|     null|     null|    null|    null|   null|     null|       null|      null|      null|   null|    null|    null|     null|      null|     null|    null|     null|     null|    null|     null|     null|   null|    null|   null|    null|      null|  80000.0|  80000.0|       null|      null|      null|      null|      null|      null|  80000.0|  80000.0|     null|     null|     null|     null|     null|   80000.0|   80000.0|    null|    null|          80000.0|          80000.0|    null|    null|     null|     null|    null|  80000.0| 104000.0| 104000.0|      0.0|      0.0|      0.0|      0.0|      0.0| 104000.0| 104000.0| 104000.0| 104000.0|  34667.0|  34667.0|      null|  104000.0|      null|     null| 59744.0|128406.0|1.3386748779531557|133.60794488188338|1.0805488324926336|6.747149989782027|2.8766782482438202|4.539048286811655E7|\n",
      "|                1|     null|    null|     null|    null|      null|        null|      null|     null|       null| 230000.0| 230000.0|     null|    null|     null|    null|     null|   61115.0|  129333.0|      null|       null|      null|     null|     null|      null|     null|    null|      null|     null|     null|     null|471535.0|    null|   null|     null|       null|      null|      null|   null|    null|    null|     null|      null|     null|739272.0|  62100.0| 801372.0|    null|     null|     null|   null|    null|   null|    null|      null|     null|     null|       null|  190448.0|  230000.0|  230000.0|  420448.0|  420448.0| 420448.0| 420448.0|     null|     null|     null|     null|     null|  420448.0|  420448.0|471535.0|801372.0|         846677.5|         846677.5|    null|    null| 420448.0| 420448.0|    null|     null|      0.0|      0.0|      0.0|      0.0| 980793.0| 801372.0|      0.0|      0.0|      0.0|1782165.0|1782165.0|1782165.0|1782165.0|      null|      null|      null| 801372.0| 59744.0|128406.0|1.3386748779531557|133.60794488188338|1.0805488324926336|6.747149989782027|2.8766782482438202|4.539048286811655E7|\n",
      "|                0|     null|    null|     null|    null|      null|        null|      null|     null|       null| 240000.0| 240000.0|     null|    null|     null|    null|     null|      null|      null|      null|       null|      null|     null|     null|      null|     null|    null|      null|     null|     null|     null|    null|    null|   null|     null|       null|      null|      null|   null|    null|    null|     null|      null|     null|    null|     null|     null|    null|     null|     null|   null|    null|   null|    null|      null|     null|     null|       null|      null|  240000.0|  240000.0|  240000.0|  240000.0| 240000.0| 240000.0|     null|     null|     null|     null|     null|  240000.0|  240000.0|    null|    null|         240000.0|         240000.0|    null|    null| 240000.0| 240000.0|    null|     null| 312000.0| 312000.0|      0.0|      0.0|      0.0|      0.0|      0.0| 312000.0| 312000.0| 312000.0| 312000.0|  78000.0|  78000.0|  312000.0|      null|      null|     null| 59744.0|128406.0|1.3386748779531557|133.60794488188338|1.0805488324926336|6.747149989782027|2.8766782482438202|4.539048286811655E7|\n",
      "|                0|     null|    null|     null|    null|  300000.0|        null|      null|     null|       null| 300000.0| 300000.0|     null| 25000.0|     null|    null|     null|      null|      null|      null|       null|      null|     null|     null|      null|     null|    null|      null|     null|     null|     null|    null|150000.0|   null|     null|       null|      null|      null|   null|    null| 80000.0|   6667.0|      null|  86667.0|    null|     null|     null|    null|     null|     null|   null|    null|   null|    null|      null| 300000.0| 300000.0|    25000.0|      null|  325000.0|  325000.0|  325000.0|  325000.0| 312500.0| 312500.0|     null|     null|     null|     null|     null|  312500.0|  312500.0|150000.0| 86667.0|         430833.5|         430833.5|    null|    null| 325000.0| 325000.0|    null| 300000.0| 812500.0| 812500.0|      0.0|      0.0| 312000.0|  86667.0|      0.0| 812500.0| 812500.0|1211167.0|1211167.0| 403722.0| 403722.0|  422500.0|  390000.0|      null|  86667.0| 59744.0|128406.0|1.3386748779531557|133.60794488188338|1.0805488324926336|6.747149989782027|2.8766782482438202|4.539048286811655E7|\n",
      "+-----------------+---------+--------+---------+--------+----------+------------+----------+---------+-----------+---------+---------+---------+--------+---------+--------+---------+----------+----------+----------+-----------+----------+---------+---------+----------+---------+--------+----------+---------+---------+---------+--------+--------+-------+---------+-----------+----------+----------+-------+--------+--------+---------+----------+---------+--------+---------+---------+--------+---------+---------+-------+--------+-------+--------+----------+---------+---------+-----------+----------+----------+----------+----------+----------+---------+---------+---------+---------+---------+---------+---------+----------+----------+--------+--------+-----------------+-----------------+--------+--------+---------+---------+--------+---------+---------+---------+---------+---------+---------+---------+---------+---------+---------+---------+---------+---------+---------+----------+----------+----------+---------+--------+--------+------------------+------------------+------------------+-----------------+------------------+-------------------+\n",
      "only showing top 20 rows\n",
      "\n"
     ]
    }
   ],
   "source": [
    "tenencia_vivienda_df = spark \\\n",
    "    .read \\\n",
    "    .format(\"jdbc\") \\\n",
    "    .option(\"url\", \"jdbc:postgresql://host.docker.internal:5433/postgres\") \\\n",
    "    .option(\"user\", \"postgres\") \\\n",
    "    .option(\"password\", \"testPassword\") \\\n",
    "    .option(\"dbtable\", \"tenencia_vivienda_df_1\") \\\n",
    "    .load()\n",
    "\n",
    "tenencia_vivienda_df.show()"
   ]
  },
  {
   "cell_type": "code",
   "execution_count": 39,
   "id": "a19a82c2",
   "metadata": {},
   "outputs": [],
   "source": [
    "def fillna_mean(df, include=set()): \n",
    "    means = df.agg(*(\n",
    "        F.mean(x).alias(x) for x in df.columns if x in include\n",
    "    ))\n",
    "    return df.fillna(means.first().asDict())"
   ]
  },
  {
   "cell_type": "code",
   "execution_count": 40,
   "id": "13fabdff",
   "metadata": {},
   "outputs": [
    {
     "name": "stderr",
     "output_type": "stream",
     "text": [
      "                                                                                \r"
     ]
    }
   ],
   "source": [
    "tenencia_vivienda_nonulls = fillna_mean(tenencia_vivienda_df,tenencia_vivienda_df.columns)"
   ]
  },
  {
   "cell_type": "code",
   "execution_count": 41,
   "id": "96482653",
   "metadata": {},
   "outputs": [
    {
     "name": "stdout",
     "output_type": "stream",
     "text": [
      "+-----------------+-----------------+------------------+------------------+-----------------+------------------+-----------------+----------+------------------+-----------------+-----------------+-----------------+-----------------+------------------+-----------------+------------------+-----------------+-----------------+------------------+-----------------+-----------+-----------------+---------+---------+----------+---------+-----------------+------------------+-----------------+------------------+---------+------------------+------------------+-----------------+-----------------+-----------------+-----------------+------------------+------------------+-----------------+------------------+-----------------+----------------+------------------+-----------------+------------------+-----------------+-----------------+---------+-----------------+-----------------+------------------+------------------+-----------------+------------------+-----------------+-----------------+-----------------+-----------------+-----------------+-----------------+-----------------+------------------+-----------------+-----------------+-----------------+------------------+-----------------+----------------+-----------------+-----------------+-----------------+------------------+------------------+-----------------+-----------------+----------------+------------------+----------------+-----------------+------------------+-----------------+---------+---------+---------+---------+---------+---------+---------+---------+---------+---------+---------+---------+---------+-----------------+-----------------+-----------------+------------------+--------+--------+------------------+------------------+------------------+-----------------+------------------+-------------------+\n",
      "|Tenencia_Vivienda|        avg(spif)|          avg(aif)|         avg(gpif)|         avg(dif)|        avg(gpina)|     avg(inmpina)|avg(gpsfi)|         avg(gpia)|      avg(inmpia)|        avg(spmb)|        avg(spmn)|        avg(ipsp)|          avg(asp)|        avg(sesp)|          avg(bsp)|        avg(oisp)|       avg(spnma)|        avg(spnmv)|       avg(spnmt)|avg(spnmvh)|       avg(spnmo)|avg(ssif)|avg(asif)|avg(gpsif)|avg(dsif)|         avg(gsi)|        avg(inmsi)|        avg(ssmb)|         avg(ssmn)|avg(ssnm)|           avg(ia)|           avg(ii)|          avg(ib)|        avg(trnc)|      avg(taprnc)|       avg(ttrnc)|        avg(timas)|           avg(ts)|         avg(tbc)|          avg(tpa)|        avg(tapa)|      avg(tsepa)|         avg(ttpa)|         avg(tpn)|         avg(tapn)|        avg(ttpn)|         avg(tpe)|avg(tape)|        avg(ttpe)|          avg(te)|          avg(tdp)|           avg(ot)|         avg(tnm)|        avg(ipinm)|        avg(ipim)|        avg(ipit)|      avg(tormsp)|       avg(tspnm)|       avg(ipsmb)|       avg(ipsmn)|       avg(ipsbt)|        avg(ipsnt)|        avg(ipbt)|        avg(ipnt)|        avg(isit)|         avg(issb)|        avg(issn)|       avg(isbt)|        avg(isnt)|       avg(itrbt)|       avg(itrnt)|          avg(irp)|          avg(ttm)|        avg(itpb)|        avg(itpn)|        avg(sab)|          avg(san)|       avg(snab)|        avg(snan)|          avg(iag)|        avg(inag)|avg(ipbh)|avg(ipnh)|avg(isbh)|avg(isnh)|avg(irph)|avg(ttmh)|avg(tnmh)|avg(itbh)|avg(itnh)|avg(ithb)|avg(ithn)|avg(ipcb)|avg(ipcn)|       avg(isanh)|       avg(iaunh)|       avg(tsebh)|          avg(oth)|avg(cba)| avg(lp)| reg_pro_num_obras|   reg_prom_arecon|   reg_prom_numviv|  reg_prom_numapo|   reg_prom_numdor|    reg_prom_valobr|\n",
      "+-----------------+-----------------+------------------+------------------+-----------------+------------------+-----------------+----------+------------------+-----------------+-----------------+-----------------+-----------------+------------------+-----------------+------------------+-----------------+-----------------+------------------+-----------------+-----------+-----------------+---------+---------+----------+---------+-----------------+------------------+-----------------+------------------+---------+------------------+------------------+-----------------+-----------------+-----------------+-----------------+------------------+------------------+-----------------+------------------+-----------------+----------------+------------------+-----------------+------------------+-----------------+-----------------+---------+-----------------+-----------------+------------------+------------------+-----------------+------------------+-----------------+-----------------+-----------------+-----------------+-----------------+-----------------+-----------------+------------------+-----------------+-----------------+-----------------+------------------+-----------------+----------------+-----------------+-----------------+-----------------+------------------+------------------+-----------------+-----------------+----------------+------------------+----------------+-----------------+------------------+-----------------+---------+---------+---------+---------+---------+---------+---------+---------+---------+---------+---------+---------+---------+-----------------+-----------------+-----------------+------------------+--------+--------+------------------+------------------+------------------+-----------------+------------------+-------------------+\n",
      "|                1|632512.5055555556|51866.846534653465|349177.57037037035|73395.65185185186|336736.04323122534|71757.31578947368|  150000.0|353049.69139465876|30715.39677419355|519756.5895473377|461734.8638867844|68032.69407894737|49290.994026043765|63109.33439597316|64474.162621359224|145596.0909090909|67082.63284518827|111408.37053571429|76561.20460704608|   143580.6|104053.1914893617| 381356.2|  37500.0|  189216.2|      0.0|319153.0449438202|33368.835820895525|242745.9076923077|229212.33076923076|  49600.0|333210.81451612903|231559.73129251698|34330.87223974764|85212.42013129103|7103.509433962264|92188.72921225383|30674.673047551165|108137.84210526316|75204.55161290323|111438.89351851853|9957.863452188005|9275.80894308943|123088.43981481482|         475000.0|           39583.5|         514583.5|892694.1063829787|  43817.0|913413.4893617021|237489.8805970149|117775.52356321839|213942.76612903227|77920.48282442748|55281.556282722515|390201.2828464719|388605.9676675885|69335.91085974353|90958.04087802312|569116.5417184501|511094.8160578966|581529.0274628494|523654.15017099364|533844.2728264012|490002.1645241635|342794.5925925926|244642.06153846154|231108.4846153846|302409.917721519|296883.8417721519|541534.6183017665|497543.7694903267|222845.84285714285|          514583.5|         514583.5|         514583.5|315503.953108253|293426.74571275455|615687.879585187|553436.7016414384|342293.24441687344|399749.5355251545|      0.0|      0.0|      0.0|      0.0|      0.0|1029167.0|      0.0|      0.0|      0.0|1029167.0|1029167.0| 514584.0| 514584.0|992137.2328995158|607414.3059360731|84117.37253254934|         1029167.0| 59744.0|128406.0|1.3386748779531557|133.60794488188338|1.0805488324926336|6.747149989782027|2.8766782482438202|4.539048286811655E7|\n",
      "|                1|632512.5055555556|51866.846534653465|349177.57037037035|73395.65185185186|336736.04323122534|71757.31578947368|  150000.0|353049.69139465876|30715.39677419355|         450000.0|         402750.0|68032.69407894737|           37500.0|63109.33439597316|64474.162621359224|145596.0909090909|67082.63284518827|111408.37053571429|76561.20460704608|   143580.6|104053.1914893617| 381356.2|  37500.0|  189216.2|      0.0|319153.0449438202|33368.835820895525|242745.9076923077|229212.33076923076|  49600.0|          500000.0|231559.73129251698|34330.87223974764|85212.42013129103|7103.509433962264|92188.72921225383|30674.673047551165|108137.84210526316|75204.55161290323|111438.89351851853|9957.863452188005|9275.80894308943|123088.43981481482|         130000.0|           10833.0|         140833.0|892694.1063829787|  43817.0|913413.4893617021|237489.8805970149|117775.52356321839|213942.76612903227|77920.48282442748|55281.556282722515|390201.2828464719|388605.9676675885|          37500.0|90958.04087802312|         487500.0|         440250.0|         487500.0|          440250.0|         487500.0|         440250.0|342794.5925925926|244642.06153846154|231108.4846153846|302409.917721519|296883.8417721519|         487500.0|         440250.0|          500000.0|          140833.0|        403958.25|        380333.25|315503.953108253|293426.74571275455|        487500.0|         440250.0|342293.24441687344|399749.5355251545|1267500.0|1144650.0|      0.0|      0.0|1040000.0| 140833.0|      0.0|1267500.0|1144650.0|2448333.0|2325483.0| 612083.0| 581371.0|        1144650.0|607414.3059360731|84117.37253254934|          140833.0| 59744.0|128406.0|1.3386748779531557|133.60794488188338|1.0805488324926336|6.747149989782027|2.8766782482438202|4.539048286811655E7|\n",
      "|                0|632512.5055555556|51866.846534653465|349177.57037037035|73395.65185185186|336736.04323122534|71757.31578947368|  150000.0|353049.69139465876|30715.39677419355|         380000.0|         340100.0|68032.69407894737|49290.994026043765|63109.33439597316|64474.162621359224|145596.0909090909|67082.63284518827|111408.37053571429|76561.20460704608|   143580.6|104053.1914893617| 381356.2|  37500.0|  189216.2|      0.0|319153.0449438202|33368.835820895525|242745.9076923077|229212.33076923076|  49600.0|333210.81451612903|231559.73129251698|34330.87223974764|85212.42013129103|7103.509433962264|92188.72921225383|30674.673047551165|108137.84210526316|75204.55161290323|111438.89351851853|9957.863452188005|9275.80894308943|123088.43981481482|377162.0241505195|31681.373396065013|408332.9420106712|892694.1063829787|  43817.0|913413.4893617021|237489.8805970149|117775.52356321839|213942.76612903227|77920.48282442748|55281.556282722515|390201.2828464719|388605.9676675885|69335.91085974353|90958.04087802312|         380000.0|         340100.0|         380000.0|          340100.0|         380000.0|         340100.0|342794.5925925926|244642.06153846154|231108.4846153846|302409.917721519|296883.8417721519|         380000.0|         340100.0|222845.84285714285|234096.29022405387|         380000.0|         340100.0|315503.953108253|293426.74571275455|        380000.0|         340100.0|342293.24441687344|399749.5355251545| 494000.0| 442130.0|      0.0|      0.0|      0.0|      0.0|      0.0| 494000.0| 442130.0| 494000.0| 442130.0| 164667.0| 147377.0|         442130.0|607414.3059360731|84117.37253254934|355247.78386167146| 59744.0|128406.0|1.3386748779531557|133.60794488188338|1.0805488324926336|6.747149989782027|2.8766782482438202|4.539048286811655E7|\n",
      "|                1|        1500000.0|51866.846534653465|         1000000.0|              0.0|336736.04323122534|71757.31578947368|  150000.0|353049.69139465876|30715.39677419355|         280000.0|         250600.0|68032.69407894737|           35000.0|63109.33439597316|64474.162621359224|145596.0909090909|          50000.0|          100000.0|76561.20460704608|   143580.6|104053.1914893617| 381356.2|  37500.0|  189216.2|      0.0|319153.0449438202|33368.835820895525|242745.9076923077|229212.33076923076|  49600.0|333210.81451612903|231559.73129251698|34330.87223974764|85212.42013129103|7103.509433962264|92188.72921225383|30674.673047551165|108137.84210526316|75204.55161290323|111438.89351851853|9957.863452188005|9275.80894308943|123088.43981481482|377162.0241505195|31681.373396065013|408332.9420106712|892694.1063829787|  43817.0|913413.4893617021|237489.8805970149|          300000.0|213942.76612903227|77920.48282442748|55281.556282722515|        2500000.0|        2500000.0|          35000.0|         150000.0|         315000.0|         285600.0|         465000.0|          435600.0|        1482500.0|        1467800.0|342794.5925925926|244642.06153846154|231108.4846153846|302409.917721519|296883.8417721519|        1482500.0|        1467800.0|222845.84285714285|          300000.0|        1632500.0|        1617800.0|315503.953108253|293426.74571275455|        465000.0|         435600.0|342293.24441687344|        2500000.0|3250000.0|3250000.0|      0.0|      0.0|      0.0| 300000.0|      0.0|3250000.0|3250000.0|3550000.0|3550000.0|1183333.0|1183333.0|992137.2328995158|        3250000.0|84117.37253254934|          300000.0| 59744.0|128406.0|1.3386748779531557|133.60794488188338|1.0805488324926336|6.747149989782027|2.8766782482438202|4.539048286811655E7|\n",
      "|                1|632512.5055555556|51866.846534653465|349177.57037037035|73395.65185185186|336736.04323122534|71757.31578947368|  150000.0|353049.69139465876|30715.39677419355|519756.5895473377|461734.8638867844|68032.69407894737|49290.994026043765|63109.33439597316|64474.162621359224|145596.0909090909|67082.63284518827|111408.37053571429|76561.20460704608|   143580.6|104053.1914893617| 381356.2|  37500.0|  189216.2|      0.0|319153.0449438202|33368.835820895525|242745.9076923077|229212.33076923076|  49600.0|          600000.0|231559.73129251698|34330.87223974764|85212.42013129103|7103.509433962264|92188.72921225383|30674.673047551165|108137.84210526316|75204.55161290323|111438.89351851853|9957.863452188005|9275.80894308943|123088.43981481482|377162.0241505195|31681.373396065013|408332.9420106712|892694.1063829787|  43817.0|913413.4893617021|237489.8805970149|117775.52356321839|213942.76612903227|77920.48282442748|55281.556282722515|390201.2828464719|388605.9676675885|69335.91085974353|90958.04087802312|569116.5417184501|511094.8160578966|581529.0274628494|523654.15017099364|533844.2728264012|490002.1645241635|342794.5925925926|244642.06153846154|231108.4846153846|302409.917721519|296883.8417721519|541534.6183017665|497543.7694903267|          600000.0|234096.29022405387|         600000.0|         600000.0|315503.953108253|293426.74571275455|615687.879585187|553436.7016414384|342293.24441687344|399749.5355251545|      0.0|      0.0|      0.0|      0.0|1248000.0|      0.0|      0.0|      0.0|      0.0|1248000.0|1248000.0| 416000.0| 416000.0|992137.2328995158|607414.3059360731|84117.37253254934|355247.78386167146| 59744.0|128406.0|1.3386748779531557|133.60794488188338|1.0805488324926336|6.747149989782027|2.8766782482438202|4.539048286811655E7|\n",
      "|                1|632512.5055555556|51866.846534653465|349177.57037037035|73395.65185185186|336736.04323122534|71757.31578947368|  150000.0|353049.69139465876|30715.39677419355|         600000.0|         537000.0|68032.69407894737|           50000.0|63109.33439597316|64474.162621359224|145596.0909090909|67082.63284518827|111408.37053571429|76561.20460704608|   143580.6|104053.1914893617| 381356.2|  37500.0|  189216.2|      0.0|319153.0449438202|33368.835820895525|242745.9076923077|229212.33076923076|  49600.0|333210.81451612903|231559.73129251698|34330.87223974764|85212.42013129103|7103.509433962264|92188.72921225383|30674.673047551165|108137.84210526316|75204.55161290323|111438.89351851853|9957.863452188005|9275.80894308943|123088.43981481482|         600000.0|           50000.0|         650000.0|892694.1063829787|  43817.0|913413.4893617021|237489.8805970149|117775.52356321839|213942.76612903227|77920.48282442748|55281.556282722515|390201.2828464719|388605.9676675885|          50000.0|90958.04087802312|         650000.0|         587000.0|         650000.0|          587000.0|         650000.0|         587000.0|342794.5925925926|244642.06153846154|231108.4846153846|302409.917721519|296883.8417721519|         650000.0|         587000.0|222845.84285714285|          650000.0|         650000.0|         618500.0|315503.953108253|293426.74571275455|        650000.0|         587000.0|342293.24441687344|399749.5355251545| 845000.0| 763100.0|      0.0|      0.0|      0.0| 650000.0|      0.0| 845000.0| 763100.0|1495000.0|1413100.0| 747500.0| 706550.0|         763100.0|607414.3059360731|84117.37253254934|          650000.0| 59744.0|128406.0|1.3386748779531557|133.60794488188338|1.0805488324926336|6.747149989782027|2.8766782482438202|4.539048286811655E7|\n",
      "|                1|632512.5055555556|51866.846534653465|349177.57037037035|73395.65185185186|336736.04323122534|71757.31578947368|  150000.0|353049.69139465876|30715.39677419355|519756.5895473377|461734.8638867844|68032.69407894737|49290.994026043765|63109.33439597316|64474.162621359224|145596.0909090909|67082.63284518827|111408.37053571429|76561.20460704608|   143580.6|104053.1914893617| 381356.2|  37500.0|  189216.2|      0.0|319153.0449438202|33368.835820895525|242745.9076923077|229212.33076923076|  49600.0|333210.81451612903|231559.73129251698|34330.87223974764|85212.42013129103|7103.509433962264|92188.72921225383|30674.673047551165|108137.84210526316|75204.55161290323|111438.89351851853|9957.863452188005|9275.80894308943|123088.43981481482|         796000.0|           66333.0|         862333.0|892694.1063829787|  43817.0|913413.4893617021|237489.8805970149|117775.52356321839|213942.76612903227|77920.48282442748|55281.556282722515|390201.2828464719|388605.9676675885|69335.91085974353|90958.04087802312|569116.5417184501|511094.8160578966|581529.0274628494|523654.15017099364|533844.2728264012|490002.1645241635|342794.5925925926|244642.06153846154|231108.4846153846|302409.917721519|296883.8417721519|541534.6183017665|497543.7694903267|222845.84285714285|          862333.0|         862333.0|         862333.0|315503.953108253|293426.74571275455|615687.879585187|553436.7016414384|342293.24441687344|399749.5355251545|      0.0|      0.0|      0.0|      0.0|      0.0| 862333.0|      0.0|      0.0|      0.0| 862333.0| 862333.0| 862333.0| 862333.0|992137.2328995158|607414.3059360731|84117.37253254934|          862333.0| 59744.0|128406.0|1.3386748779531557|133.60794488188338|1.0805488324926336|6.747149989782027|2.8766782482438202|4.539048286811655E7|\n",
      "|                0|632512.5055555556|51866.846534653465|349177.57037037035|73395.65185185186|336736.04323122534|71757.31578947368|  150000.0|353049.69139465876|30715.39677419355|         500000.0|         447500.0|68032.69407894737|           41667.0|63109.33439597316|64474.162621359224|145596.0909090909|67082.63284518827|111408.37053571429|76561.20460704608|   143580.6|104053.1914893617| 381356.2|  37500.0|  189216.2|      0.0|319153.0449438202|33368.835820895525|242745.9076923077|229212.33076923076|  49600.0|333210.81451612903|231559.73129251698|34330.87223974764|85212.42013129103|7103.509433962264|92188.72921225383|30674.673047551165|108137.84210526316|75204.55161290323|111438.89351851853|9957.863452188005|9275.80894308943|123088.43981481482|377162.0241505195|31681.373396065013|408332.9420106712|892694.1063829787|  43817.0|913413.4893617021|237489.8805970149|117775.52356321839|213942.76612903227|77920.48282442748|55281.556282722515|390201.2828464719|388605.9676675885|          41667.0|90958.04087802312|         541667.0|         489167.0|         541667.0|          489167.0|         541667.0|         489167.0|342794.5925925926|244642.06153846154|231108.4846153846|302409.917721519|296883.8417721519|         541667.0|         489167.0|222845.84285714285|234096.29022405387|         541667.0|         489167.0|315503.953108253|293426.74571275455|        541667.0|         489167.0|342293.24441687344|399749.5355251545| 704167.0| 635917.0|      0.0|      0.0|      0.0|      0.0|      0.0| 704167.0| 635917.0| 704167.0| 635917.0| 176042.0| 158979.0|         635917.0|607414.3059360731|84117.37253254934|355247.78386167146| 59744.0|128406.0|1.3386748779531557|133.60794488188338|1.0805488324926336|6.747149989782027|2.8766782482438202|4.539048286811655E7|\n",
      "|                0|632512.5055555556|51866.846534653465|349177.57037037035|73395.65185185186|           50000.0|71757.31578947368|  150000.0|353049.69139465876|30715.39677419355|         360000.0|         322200.0|68032.69407894737|           30000.0|63109.33439597316|64474.162621359224|145596.0909090909|67082.63284518827|111408.37053571429|76561.20460704608|   143580.6|104053.1914893617| 381356.2|  37500.0|  189216.2|      0.0|319153.0449438202|33368.835820895525|242745.9076923077|229212.33076923076|  49600.0|333210.81451612903|231559.73129251698|34330.87223974764|85212.42013129103|7103.509433962264|92188.72921225383|30674.673047551165|108137.84210526316|75204.55161290323|111438.89351851853|9957.863452188005|9275.80894308943|123088.43981481482|377162.0241505195|31681.373396065013|408332.9420106712|892694.1063829787|  43817.0|913413.4893617021|237489.8805970149|117775.52356321839|213942.76612903227|77920.48282442748|55281.556282722515|          50000.0|          50000.0|          30000.0|90958.04087802312|         390000.0|         352200.0|         390000.0|          352200.0|         220000.0|         201100.0|342794.5925925926|244642.06153846154|231108.4846153846|302409.917721519|296883.8417721519|         220000.0|         201100.0|222845.84285714285|234096.29022405387|         220000.0|         201100.0|315503.953108253|293426.74571275455|        390000.0|         352200.0|342293.24441687344|          50000.0| 572000.0| 522860.0|      0.0|      0.0|      0.0|      0.0|      0.0| 572000.0| 522860.0| 572000.0| 522860.0| 114400.0| 104572.0|         457860.0|          65000.0|84117.37253254934|355247.78386167146| 59744.0|128406.0|1.3386748779531557|133.60794488188338|1.0805488324926336|6.747149989782027|2.8766782482438202|4.539048286811655E7|\n",
      "|                0|632512.5055555556|51866.846534653465|349177.57037037035|73395.65185185186|          250000.0|71757.31578947368|  150000.0|353049.69139465876|30715.39677419355|519756.5895473377|461734.8638867844|68032.69407894737|49290.994026043765|63109.33439597316|64474.162621359224|145596.0909090909|67082.63284518827|111408.37053571429|76561.20460704608|   143580.6|104053.1914893617| 381356.2|  37500.0|  189216.2|      0.0|319153.0449438202|33368.835820895525|242745.9076923077|229212.33076923076|  49600.0|333210.81451612903|231559.73129251698|34330.87223974764|85212.42013129103|7103.509433962264|92188.72921225383|30674.673047551165|108137.84210526316|75204.55161290323|111438.89351851853|9957.863452188005|9275.80894308943|123088.43981481482|377162.0241505195|31681.373396065013|408332.9420106712|892694.1063829787|  43817.0|913413.4893617021|237489.8805970149|117775.52356321839|213942.76612903227|77920.48282442748|55281.556282722515|         250000.0|         250000.0|69335.91085974353|90958.04087802312|569116.5417184501|511094.8160578966|581529.0274628494|523654.15017099364|         250000.0|         250000.0|342794.5925925926|244642.06153846154|231108.4846153846|302409.917721519|296883.8417721519|         250000.0|         250000.0|222845.84285714285|234096.29022405387|         250000.0|         250000.0|315503.953108253|293426.74571275455|615687.879585187|553436.7016414384|342293.24441687344|         250000.0| 325000.0| 325000.0|      0.0|      0.0|      0.0|      0.0|      0.0| 325000.0| 325000.0| 325000.0| 325000.0|  81250.0|  81250.0|992137.2328995158|         325000.0|84117.37253254934|355247.78386167146| 59744.0|128406.0|1.3386748779531557|133.60794488188338|1.0805488324926336|6.747149989782027|2.8766782482438202|4.539048286811655E7|\n",
      "|                1|632512.5055555556|51866.846534653465|349177.57037037035|73395.65185185186|336736.04323122534|71757.31578947368|  150000.0|353049.69139465876|30715.39677419355|519756.5895473377|461734.8638867844|68032.69407894737|49290.994026043765|63109.33439597316|64474.162621359224|145596.0909090909|67082.63284518827|111408.37053571429|76561.20460704608|   143580.6|104053.1914893617| 381356.2|  37500.0|  189216.2|      0.0|319153.0449438202|33368.835820895525|242745.9076923077|229212.33076923076|  49600.0|333210.81451612903|231559.73129251698|34330.87223974764|85212.42013129103|7103.509433962264|92188.72921225383|30674.673047551165|108137.84210526316|75204.55161290323|111438.89351851853|9957.863452188005|9275.80894308943|123088.43981481482|377162.0241505195|31681.373396065013|408332.9420106712|892694.1063829787|  43817.0|913413.4893617021|237489.8805970149|          100000.0|           30000.0|77920.48282442748|55281.556282722515|390201.2828464719|388605.9676675885|69335.91085974353|90958.04087802312|569116.5417184501|511094.8160578966|581529.0274628494|523654.15017099364|533844.2728264012|490002.1645241635|342794.5925925926|244642.06153846154|231108.4846153846|302409.917721519|296883.8417721519|541534.6183017665|497543.7694903267|222845.84285714285|           65000.0|          65000.0|          65000.0|315503.953108253|293426.74571275455|615687.879585187|553436.7016414384|342293.24441687344|399749.5355251545|      0.0|      0.0|      0.0|      0.0|      0.0| 130000.0|      0.0|      0.0|      0.0| 130000.0| 130000.0|  65000.0|  65000.0|992137.2328995158|607414.3059360731|84117.37253254934|          130000.0| 59744.0|128406.0|1.3386748779531557|133.60794488188338|1.0805488324926336|6.747149989782027|2.8766782482438202|4.539048286811655E7|\n",
      "|                1|632512.5055555556|51866.846534653465|349177.57037037035|73395.65185185186|336736.04323122534|71757.31578947368|  150000.0|353049.69139465876|30715.39677419355|        1000000.0|         881300.0|68032.69407894737|           83333.0|          83333.0|64474.162621359224|145596.0909090909|67082.63284518827|111408.37053571429|76561.20460704608|   143580.6|104053.1914893617| 381356.2|  37500.0|  189216.2|      0.0|319153.0449438202|33368.835820895525|242745.9076923077|229212.33076923076|  49600.0|333210.81451612903|231559.73129251698|34330.87223974764|85212.42013129103|7103.509433962264|92188.72921225383|30674.673047551165|108137.84210526316|75204.55161290323|111438.89351851853|9957.863452188005|9275.80894308943|123088.43981481482|377162.0241505195|31681.373396065013|408332.9420106712|892694.1063829787|  43817.0|913413.4893617021|237489.8805970149|117775.52356321839|213942.76612903227|77920.48282442748|55281.556282722515|390201.2828464719|388605.9676675885|         166666.0|90958.04087802312|        1166666.0|        1047966.0|        1166666.0|         1047966.0|        1166666.0|        1047966.0|342794.5925925926|244642.06153846154|231108.4846153846|302409.917721519|296883.8417721519|        1166666.0|        1047966.0|222845.84285714285|234096.29022405387|        1166666.0|        1047966.0|315503.953108253|293426.74571275455|       1166666.0|        1047966.0|342293.24441687344|399749.5355251545|1516666.0|1362356.0|      0.0|      0.0|      0.0|      0.0|      0.0|1516666.0|1362356.0|1516666.0|1362356.0|1516666.0|1362356.0|        1362356.0|607414.3059360731|84117.37253254934|355247.78386167146| 59744.0|128406.0|1.3386748779531557|133.60794488188338|1.0805488324926336|6.747149989782027|2.8766782482438202|4.539048286811655E7|\n",
      "|                0|632512.5055555556|51866.846534653465|349177.57037037035|73395.65185185186|336736.04323122534|71757.31578947368|  150000.0|353049.69139465876|30715.39677419355|         400000.0|         358000.0|68032.69407894737|49290.994026043765|63109.33439597316|64474.162621359224|145596.0909090909|67082.63284518827|111408.37053571429|76561.20460704608|   143580.6|104053.1914893617| 381356.2|  37500.0|  189216.2|      0.0|319153.0449438202|33368.835820895525|242745.9076923077|229212.33076923076|  49600.0|333210.81451612903|231559.73129251698|34330.87223974764|85212.42013129103|7103.509433962264|92188.72921225383|30674.673047551165|108137.84210526316|75204.55161290323|111438.89351851853|9957.863452188005|9275.80894308943|123088.43981481482|377162.0241505195|31681.373396065013|408332.9420106712|892694.1063829787|  43817.0|913413.4893617021|237489.8805970149|117775.52356321839|213942.76612903227|77920.48282442748|55281.556282722515|390201.2828464719|388605.9676675885|69335.91085974353|90958.04087802312|         400000.0|         358000.0|         400000.0|          358000.0|         400000.0|         358000.0|342794.5925925926|244642.06153846154|231108.4846153846|302409.917721519|296883.8417721519|         400000.0|         358000.0|222845.84285714285|234096.29022405387|         400000.0|         358000.0|315503.953108253|293426.74571275455|        400000.0|         358000.0|342293.24441687344|399749.5355251545| 520000.0| 465400.0|      0.0|      0.0|      0.0|      0.0|      0.0| 520000.0| 465400.0| 520000.0| 465400.0| 520000.0| 465400.0|         465400.0|607414.3059360731|84117.37253254934|355247.78386167146| 59744.0|128406.0|1.3386748779531557|133.60794488188338|1.0805488324926336|6.747149989782027|2.8766782482438202|4.539048286811655E7|\n",
      "|                1|632512.5055555556|51866.846534653465|349177.57037037035|73395.65185185186|          300000.0|71757.31578947368|  150000.0|353049.69139465876|30715.39677419355|         167452.0|         156272.5|68032.69407894737|           26260.0|63109.33439597316|64474.162621359224|145596.0909090909|         102000.0|111408.37053571429|76561.20460704608|   143580.6|104053.1914893617| 381356.2|  37500.0|  189216.2|      0.0|319153.0449438202|33368.835820895525|242745.9076923077|229212.33076923076|  49600.0|          370000.0|231559.73129251698|34330.87223974764|85212.42013129103|7103.509433962264|92188.72921225383|30674.673047551165|108137.84210526316|75204.55161290323|111438.89351851853|9957.863452188005|9275.80894308943|123088.43981481482|377162.0241505195|31681.373396065013|408332.9420106712|892694.1063829787|  43817.0|913413.4893617021|237489.8805970149|117775.52356321839|213942.76612903227|77920.48282442748|55281.556282722515|         300000.0|         300000.0|          26260.0|         102000.0|         180582.0|         169402.5|         282582.0|          271402.5|         288388.0|         280935.0|342794.5925925926|244642.06153846154|231108.4846153846|302409.917721519|296883.8417721519|         288388.0|         280935.0|          370000.0|234096.29022405387|411721.3333333333|404268.3333333333|315503.953108253|293426.74571275455|        282582.0|         271402.5|342293.24441687344|         300000.0|1124713.0|1095647.0|      0.0|      0.0| 769600.0|      0.0|      0.0|1124713.0|1095647.0|1894313.0|1865247.0| 473578.0| 466312.0|         705647.0|         390000.0|84117.37253254934|355247.78386167146| 59744.0|128406.0|1.3386748779531557|133.60794488188338|1.0805488324926336|6.747149989782027|2.8766782482438202|4.539048286811655E7|\n",
      "|                0|632512.5055555556|51866.846534653465|349177.57037037035|73395.65185185186|          600000.0|71757.31578947368|  150000.0|353049.69139465876|30715.39677419355|        1550000.0|        1304400.0|68032.69407894737|          129167.0|         100000.0|64474.162621359224|145596.0909090909|          70000.0|111408.37053571429|76561.20460704608|   143580.6|104053.1914893617| 381356.2|  37500.0|  189216.2|      0.0|319153.0449438202|33368.835820895525|242745.9076923077|229212.33076923076|  49600.0|333210.81451612903|231559.73129251698|34330.87223974764|85212.42013129103|7103.509433962264|92188.72921225383|30674.673047551165|108137.84210526316|75204.55161290323|111438.89351851853|9957.863452188005|9275.80894308943|123088.43981481482|377162.0241505195|31681.373396065013|408332.9420106712|892694.1063829787|  43817.0|913413.4893617021|237489.8805970149|117775.52356321839|213942.76612903227|77920.48282442748|55281.556282722515|         600000.0|         600000.0|         229167.0|          70000.0|        1779167.0|        1533567.0|        1849167.0|         1603567.0|        1224583.5|        1101783.5|342794.5925925926|244642.06153846154|231108.4846153846|302409.917721519|296883.8417721519|        1224583.5|        1101783.5|222845.84285714285|234096.29022405387|        1224583.5|        1101783.5|315503.953108253|293426.74571275455|       1849167.0|        1603567.0|342293.24441687344|         600000.0|3183917.0|2864637.0|      0.0|      0.0|      0.0|      0.0|      0.0|3183917.0|2864637.0|3183917.0|2864637.0| 795979.0| 716159.0|        2084637.0|         780000.0|84117.37253254934|355247.78386167146| 59744.0|128406.0|1.3386748779531557|133.60794488188338|1.0805488324926336|6.747149989782027|2.8766782482438202|4.539048286811655E7|\n",
      "|                0|632512.5055555556|51866.846534653465|349177.57037037035|73395.65185185186|336736.04323122534|71757.31578947368|  150000.0|353049.69139465876|30715.39677419355|         440000.0|         425300.0|68032.69407894737|            7500.0|           5000.0|            5000.0|145596.0909090909|67082.63284518827|111408.37053571429|76561.20460704608|   143580.6|104053.1914893617| 381356.2|  37500.0|  189216.2|      0.0|319153.0449438202|33368.835820895525|242745.9076923077|229212.33076923076|  49600.0|333210.81451612903|231559.73129251698|34330.87223974764|85212.42013129103|7103.509433962264|92188.72921225383|30674.673047551165|108137.84210526316|75204.55161290323|111438.89351851853|9957.863452188005|9275.80894308943|123088.43981481482|377162.0241505195|31681.373396065013|408332.9420106712|892694.1063829787|  43817.0|913413.4893617021|237489.8805970149|117775.52356321839|213942.76612903227|77920.48282442748|55281.556282722515|390201.2828464719|388605.9676675885|          17500.0|90958.04087802312|         448750.0|         434050.0|         448750.0|          434050.0|         448750.0|         434050.0|342794.5925925926|244642.06153846154|231108.4846153846|302409.917721519|296883.8417721519|         448750.0|         434050.0|222845.84285714285|234096.29022405387|         448750.0|         434050.0|315503.953108253|293426.74571275455|        448750.0|         434050.0|342293.24441687344|399749.5355251545|1166750.0|1128530.0|      0.0|      0.0|      0.0|      0.0|      0.0|1166750.0|1128530.0|1166750.0|1128530.0| 388917.0| 376177.0|        1128530.0|607414.3059360731|84117.37253254934|355247.78386167146| 59744.0|128406.0|1.3386748779531557|133.60794488188338|1.0805488324926336|6.747149989782027|2.8766782482438202|4.539048286811655E7|\n",
      "|                0|632512.5055555556|51866.846534653465|349177.57037037035|73395.65185185186|           80000.0|71757.31578947368|  150000.0|353049.69139465876|30715.39677419355|519756.5895473377|461734.8638867844|68032.69407894737|49290.994026043765|63109.33439597316|64474.162621359224|145596.0909090909|67082.63284518827|111408.37053571429|76561.20460704608|   143580.6|104053.1914893617| 381356.2|  37500.0|  189216.2|      0.0|319153.0449438202|33368.835820895525|242745.9076923077|229212.33076923076|  49600.0|333210.81451612903|231559.73129251698|34330.87223974764|85212.42013129103|7103.509433962264|92188.72921225383|30674.673047551165|108137.84210526316|75204.55161290323|111438.89351851853|9957.863452188005|9275.80894308943|123088.43981481482|377162.0241505195|31681.373396065013|408332.9420106712|892694.1063829787|  43817.0|913413.4893617021|237489.8805970149|117775.52356321839|213942.76612903227|77920.48282442748|55281.556282722515|          80000.0|          80000.0|69335.91085974353|90958.04087802312|569116.5417184501|511094.8160578966|581529.0274628494|523654.15017099364|          80000.0|          80000.0|342794.5925925926|244642.06153846154|231108.4846153846|302409.917721519|296883.8417721519|          80000.0|          80000.0|222845.84285714285|234096.29022405387|          80000.0|          80000.0|315503.953108253|293426.74571275455|615687.879585187|553436.7016414384|342293.24441687344|          80000.0| 104000.0| 104000.0|      0.0|      0.0|      0.0|      0.0|      0.0| 104000.0| 104000.0| 104000.0| 104000.0|  34667.0|  34667.0|992137.2328995158|         104000.0|84117.37253254934|355247.78386167146| 59744.0|128406.0|1.3386748779531557|133.60794488188338|1.0805488324926336|6.747149989782027|2.8766782482438202|4.539048286811655E7|\n",
      "|                1|632512.5055555556|51866.846534653465|349177.57037037035|73395.65185185186|336736.04323122534|71757.31578947368|  150000.0|353049.69139465876|30715.39677419355|         230000.0|         230000.0|68032.69407894737|49290.994026043765|63109.33439597316|64474.162621359224|145596.0909090909|          61115.0|          129333.0|76561.20460704608|   143580.6|104053.1914893617| 381356.2|  37500.0|  189216.2|      0.0|319153.0449438202|33368.835820895525|242745.9076923077|229212.33076923076|  49600.0|          471535.0|231559.73129251698|34330.87223974764|85212.42013129103|7103.509433962264|92188.72921225383|30674.673047551165|108137.84210526316|75204.55161290323|111438.89351851853|9957.863452188005|9275.80894308943|123088.43981481482|         739272.0|           62100.0|         801372.0|892694.1063829787|  43817.0|913413.4893617021|237489.8805970149|117775.52356321839|213942.76612903227|77920.48282442748|55281.556282722515|390201.2828464719|388605.9676675885|69335.91085974353|         190448.0|         230000.0|         230000.0|         420448.0|          420448.0|         420448.0|         420448.0|342794.5925925926|244642.06153846154|231108.4846153846|302409.917721519|296883.8417721519|         420448.0|         420448.0|          471535.0|          801372.0|         846677.5|         846677.5|315503.953108253|293426.74571275455|        420448.0|         420448.0|342293.24441687344|399749.5355251545|      0.0|      0.0|      0.0|      0.0| 980793.0| 801372.0|      0.0|      0.0|      0.0|1782165.0|1782165.0|1782165.0|1782165.0|992137.2328995158|607414.3059360731|84117.37253254934|          801372.0| 59744.0|128406.0|1.3386748779531557|133.60794488188338|1.0805488324926336|6.747149989782027|2.8766782482438202|4.539048286811655E7|\n",
      "|                0|632512.5055555556|51866.846534653465|349177.57037037035|73395.65185185186|336736.04323122534|71757.31578947368|  150000.0|353049.69139465876|30715.39677419355|         240000.0|         240000.0|68032.69407894737|49290.994026043765|63109.33439597316|64474.162621359224|145596.0909090909|67082.63284518827|111408.37053571429|76561.20460704608|   143580.6|104053.1914893617| 381356.2|  37500.0|  189216.2|      0.0|319153.0449438202|33368.835820895525|242745.9076923077|229212.33076923076|  49600.0|333210.81451612903|231559.73129251698|34330.87223974764|85212.42013129103|7103.509433962264|92188.72921225383|30674.673047551165|108137.84210526316|75204.55161290323|111438.89351851853|9957.863452188005|9275.80894308943|123088.43981481482|377162.0241505195|31681.373396065013|408332.9420106712|892694.1063829787|  43817.0|913413.4893617021|237489.8805970149|117775.52356321839|213942.76612903227|77920.48282442748|55281.556282722515|390201.2828464719|388605.9676675885|69335.91085974353|90958.04087802312|         240000.0|         240000.0|         240000.0|          240000.0|         240000.0|         240000.0|342794.5925925926|244642.06153846154|231108.4846153846|302409.917721519|296883.8417721519|         240000.0|         240000.0|222845.84285714285|234096.29022405387|         240000.0|         240000.0|315503.953108253|293426.74571275455|        240000.0|         240000.0|342293.24441687344|399749.5355251545| 312000.0| 312000.0|      0.0|      0.0|      0.0|      0.0|      0.0| 312000.0| 312000.0| 312000.0| 312000.0|  78000.0|  78000.0|         312000.0|607414.3059360731|84117.37253254934|355247.78386167146| 59744.0|128406.0|1.3386748779531557|133.60794488188338|1.0805488324926336|6.747149989782027|2.8766782482438202|4.539048286811655E7|\n",
      "|                0|632512.5055555556|51866.846534653465|349177.57037037035|73395.65185185186|          300000.0|71757.31578947368|  150000.0|353049.69139465876|30715.39677419355|         300000.0|         300000.0|68032.69407894737|           25000.0|63109.33439597316|64474.162621359224|145596.0909090909|67082.63284518827|111408.37053571429|76561.20460704608|   143580.6|104053.1914893617| 381356.2|  37500.0|  189216.2|      0.0|319153.0449438202|33368.835820895525|242745.9076923077|229212.33076923076|  49600.0|333210.81451612903|          150000.0|34330.87223974764|85212.42013129103|7103.509433962264|92188.72921225383|30674.673047551165|108137.84210526316|75204.55161290323|           80000.0|           6667.0|9275.80894308943|           86667.0|377162.0241505195|31681.373396065013|408332.9420106712|892694.1063829787|  43817.0|913413.4893617021|237489.8805970149|117775.52356321839|213942.76612903227|77920.48282442748|55281.556282722515|         300000.0|         300000.0|          25000.0|90958.04087802312|         325000.0|         325000.0|         325000.0|          325000.0|         312500.0|         312500.0|342794.5925925926|244642.06153846154|231108.4846153846|302409.917721519|296883.8417721519|         312500.0|         312500.0|          150000.0|           86667.0|         430833.5|         430833.5|315503.953108253|293426.74571275455|        325000.0|         325000.0|342293.24441687344|         300000.0| 812500.0| 812500.0|      0.0|      0.0| 312000.0|  86667.0|      0.0| 812500.0| 812500.0|1211167.0|1211167.0| 403722.0| 403722.0|         422500.0|         390000.0|84117.37253254934|           86667.0| 59744.0|128406.0|1.3386748779531557|133.60794488188338|1.0805488324926336|6.747149989782027|2.8766782482438202|4.539048286811655E7|\n",
      "+-----------------+-----------------+------------------+------------------+-----------------+------------------+-----------------+----------+------------------+-----------------+-----------------+-----------------+-----------------+------------------+-----------------+------------------+-----------------+-----------------+------------------+-----------------+-----------+-----------------+---------+---------+----------+---------+-----------------+------------------+-----------------+------------------+---------+------------------+------------------+-----------------+-----------------+-----------------+-----------------+------------------+------------------+-----------------+------------------+-----------------+----------------+------------------+-----------------+------------------+-----------------+-----------------+---------+-----------------+-----------------+------------------+------------------+-----------------+------------------+-----------------+-----------------+-----------------+-----------------+-----------------+-----------------+-----------------+------------------+-----------------+-----------------+-----------------+------------------+-----------------+----------------+-----------------+-----------------+-----------------+------------------+------------------+-----------------+-----------------+----------------+------------------+----------------+-----------------+------------------+-----------------+---------+---------+---------+---------+---------+---------+---------+---------+---------+---------+---------+---------+---------+-----------------+-----------------+-----------------+------------------+--------+--------+------------------+------------------+------------------+-----------------+------------------+-------------------+\n",
      "only showing top 20 rows\n",
      "\n"
     ]
    }
   ],
   "source": [
    "tenencia_vivienda_nonulls.show()"
   ]
  },
  {
   "cell_type": "code",
   "execution_count": 170,
   "id": "35ed12d2",
   "metadata": {},
   "outputs": [
    {
     "name": "stdout",
     "output_type": "stream",
     "text": [
      "+-----------------+-----------------+------------------+---------------------+----+-------------------+---------------------+-------------------------+------------------+------------------+------------------+-----------------+------------------+-------------------+\n",
      "|Tenencia_Vivienda|Cantidad_Personas|Cantidad_vehiculos|Cantidad_Computadoras|ZONA|suma_escolari_hogar|suma_horas_trab_hogar|Ingreso_Total_Bruto_Hogar| reg_pro_num_obras|   reg_prom_arecon|   reg_prom_numviv|  reg_prom_numapo|   reg_prom_numdor|    reg_prom_valobr|\n",
      "+-----------------+-----------------+------------------+---------------------+----+-------------------+---------------------+-------------------------+------------------+------------------+------------------+-----------------+------------------+-------------------+\n",
      "|                1|              4.0|               2.0|                  2.0| 1.0|               50.0|                 44.0|                3550000.0|1.3386748779531557|133.60794488188338|1.0805488324926336|6.747149989782027|2.8766782482438202|4.539048286811655E7|\n",
      "|                1|              3.0|               1.0|                  1.0| 1.0|               30.0|                  0.0|                1248000.0|1.3386748779531557|133.60794488188338|1.0805488324926336|6.747149989782027|2.8766782482438202|4.539048286811655E7|\n",
      "|                1|              1.0|               1.0|                  1.0| 1.0|               22.0|                  0.0|                 862333.0|1.3386748779531557|133.60794488188338|1.0805488324926336|6.747149989782027|2.8766782482438202|4.539048286811655E7|\n",
      "|                0|              4.0|               1.0|                  1.0| 1.0|               22.0|                 50.0|                 704167.0|1.3386748779531557|133.60794488188338|1.0805488324926336|6.747149989782027|2.8766782482438202|4.539048286811655E7|\n",
      "|                1|              4.0|               1.0|                  2.0| 1.0|               31.0|   50.333333333333336|                1894313.0|1.3386748779531557|133.60794488188338|1.0805488324926336|6.747149989782027|2.8766782482438202|4.539048286811655E7|\n",
      "|                0|              5.0|               1.0|                  1.0| 1.0|               51.0|                 46.5|                1509584.0|1.3386748779531557|133.60794488188338|1.0805488324926336|6.747149989782027|2.8766782482438202|4.539048286811655E7|\n",
      "|                1|              3.0|               1.0|                  2.0| 1.0|               45.0|                 24.0|                1700833.0|1.3386748779531557|133.60794488188338|1.0805488324926336|6.747149989782027|2.8766782482438202|4.539048286811655E7|\n",
      "|                1|              4.0|               1.0|                  1.0| 1.0|               58.0|                 24.0|                2531750.0|1.3386748779531557|133.60794488188338|1.0805488324926336|6.747149989782027|2.8766782482438202|4.539048286811655E7|\n",
      "|                1|              3.0|               2.0|                  2.0| 1.0|               47.0|                 46.5|                6413333.0|1.3386748779531557|133.60794488188338|1.0805488324926336|6.747149989782027|2.8766782482438202|4.539048286811655E7|\n",
      "|                0|              5.0|               1.0|                  1.0| 1.0|               42.0|                 19.0|                 733850.0|1.3386748779531557|133.60794488188338|1.0805488324926336|6.747149989782027|2.8766782482438202|4.539048286811655E7|\n",
      "|                0|              4.0|               1.0|                  1.0| 1.0|               46.0|   41.666666666666664|                2374666.0|1.3386748779531557|133.60794488188338|1.0805488324926336|6.747149989782027|2.8766782482438202|4.539048286811655E7|\n",
      "|                1|              4.0|               1.0|                  1.0| 1.0|               15.0|                 70.0|                1040000.0|1.3386748779531557|133.60794488188338|1.0805488324926336|6.747149989782027|2.8766782482438202|4.539048286811655E7|\n",
      "|                0|              2.0|               1.0|                  1.0| 1.0|               30.0|                 48.0|                1608333.0|1.3386748779531557|133.60794488188338|1.0805488324926336|6.747149989782027|2.8766782482438202|4.539048286811655E7|\n",
      "|                1|              3.0|               1.0|                  1.0| 1.0|               36.0|                  0.0|                 650000.0|1.3386748779531557|133.60794488188338|1.0805488324926336|6.747149989782027|2.8766782482438202|4.539048286811655E7|\n",
      "|                1|              4.0|               1.0|                  2.0| 1.0|               37.0|                 44.5|                1745917.0|1.3386748779531557|133.60794488188338|1.0805488324926336|6.747149989782027|2.8766782482438202|4.539048286811655E7|\n",
      "|                1|              2.0|               1.0|                  2.0| 1.0|               29.0|                 24.0|                2283450.0|1.3386748779531557|133.60794488188338|1.0805488324926336|6.747149989782027|2.8766782482438202|4.539048286811655E7|\n",
      "|                0|              3.0|               1.0|                  1.0| 1.0|               31.0|                  0.0|                      0.0|1.3386748779531557|133.60794488188338|1.0805488324926336|6.747149989782027|2.8766782482438202|4.539048286811655E7|\n",
      "|                1|              3.0|               1.0|                  2.0| 1.0|               40.0|                 30.0|                2303491.0|1.3386748779531557|133.60794488188338|1.0805488324926336|6.747149989782027|2.8766782482438202|4.539048286811655E7|\n",
      "|                1|              3.0|               1.0|                  1.0| 1.0|               40.0|                  0.0|                 803000.0|1.3386748779531557|133.60794488188338|1.0805488324926336|6.747149989782027|2.8766782482438202|4.539048286811655E7|\n",
      "|                0|              4.0|               2.0|                  2.0| 1.0|               41.0|                 51.0|                5535833.0|1.3386748779531557|133.60794488188338|1.0805488324926336|6.747149989782027|2.8766782482438202|4.539048286811655E7|\n",
      "+-----------------+-----------------+------------------+---------------------+----+-------------------+---------------------+-------------------------+------------------+------------------+------------------+-----------------+------------------+-------------------+\n",
      "only showing top 20 rows\n",
      "\n",
      "['Tenencia_Vivienda', 'Cantidad_Personas', 'Cantidad_vehiculos', 'Cantidad_Computadoras', 'ZONA', 'suma_escolari_hogar', 'suma_horas_trab_hogar', 'Ingreso_Total_Bruto_Hogar', 'reg_pro_num_obras', 'reg_prom_arecon', 'reg_prom_numviv', 'reg_prom_numapo', 'reg_prom_numdor', 'reg_prom_valobr']\n"
     ]
    }
   ],
   "source": [
    "#Se remplazan las observaciones nulas con 0\n",
    "tenencia_vivienda_df_1 =tenencia_vivienda_df.fillna(0)\n",
    "\n",
    "tenencia_vivienda_df_1.show()\n",
    "\n",
    "print(tenencia_vivienda_df_1.columns)"
   ]
  },
  {
   "cell_type": "code",
   "execution_count": 42,
   "id": "715c6384",
   "metadata": {},
   "outputs": [
    {
     "name": "stdout",
     "output_type": "stream",
     "text": [
      "+--------------------+-----------------+\n",
      "|            features|Tenencia_Vivienda|\n",
      "+--------------------+-----------------+\n",
      "|[632512.505555555...|                1|\n",
      "|[632512.505555555...|                1|\n",
      "|[632512.505555555...|                0|\n",
      "|[1500000.0,51866....|                1|\n",
      "|[632512.505555555...|                1|\n",
      "|[632512.505555555...|                1|\n",
      "|[632512.505555555...|                1|\n",
      "|[632512.505555555...|                0|\n",
      "|[632512.505555555...|                0|\n",
      "|[632512.505555555...|                0|\n",
      "|[632512.505555555...|                1|\n",
      "|[632512.505555555...|                1|\n",
      "|[632512.505555555...|                0|\n",
      "|[632512.505555555...|                1|\n",
      "|[632512.505555555...|                0|\n",
      "|[632512.505555555...|                0|\n",
      "|[632512.505555555...|                0|\n",
      "|[632512.505555555...|                1|\n",
      "|[632512.505555555...|                0|\n",
      "|[632512.505555555...|                0|\n",
      "+--------------------+-----------------+\n",
      "only showing top 20 rows\n",
      "\n"
     ]
    },
    {
     "name": "stderr",
     "output_type": "stream",
     "text": [
      "                                                                                \r"
     ]
    }
   ],
   "source": [
    "feature_columns = [col for col in tenencia_vivienda_nonulls.columns if col !='Tenencia_Vivienda']\n",
    "assembler = VectorAssembler(inputCols=feature_columns, outputCol=\"features\")\n",
    "vector_df = assembler.transform(tenencia_vivienda_nonulls)\n",
    "vector_df = vector_df.select(['features','Tenencia_Vivienda'])\n",
    "vector_df.show()"
   ]
  },
  {
   "cell_type": "code",
   "execution_count": 43,
   "id": "c51b27e3",
   "metadata": {},
   "outputs": [
    {
     "name": "stderr",
     "output_type": "stream",
     "text": [
      "                                                                                \r"
     ]
    },
    {
     "name": "stdout",
     "output_type": "stream",
     "text": [
      "+--------------------+-----------------+\n",
      "|      columns_scaled|Tenencia_Vivienda|\n",
      "+--------------------+-----------------+\n",
      "|[9.85633252751066...|                1|\n",
      "|[9.85633252751066...|                1|\n",
      "|[9.85633252751066...|                0|\n",
      "|[23.3742394994709...|                1|\n",
      "|[9.85633252751066...|                1|\n",
      "|[9.85633252751066...|                1|\n",
      "|[9.85633252751066...|                1|\n",
      "|[9.85633252751066...|                0|\n",
      "|[9.85633252751066...|                0|\n",
      "|[9.85633252751066...|                0|\n",
      "|[9.85633252751066...|                1|\n",
      "|[9.85633252751066...|                1|\n",
      "|[9.85633252751066...|                0|\n",
      "|[9.85633252751066...|                1|\n",
      "|[9.85633252751066...|                0|\n",
      "|[9.85633252751066...|                0|\n",
      "|[9.85633252751066...|                0|\n",
      "|[9.85633252751066...|                1|\n",
      "|[9.85633252751066...|                0|\n",
      "|[9.85633252751066...|                0|\n",
      "+--------------------+-----------------+\n",
      "only showing top 20 rows\n",
      "\n",
      "root\n",
      " |-- columns_scaled: vector (nullable = true)\n",
      " |-- Tenencia_Vivienda: integer (nullable = true)\n",
      "\n"
     ]
    }
   ],
   "source": [
    "standard_scaler = StandardScaler(inputCol='features', outputCol='columns_scaled')\n",
    "scale_model = standard_scaler.fit(vector_df)\n",
    "\n",
    "scaled_df = scale_model.transform(vector_df)\n",
    "\n",
    "#Se muestran los resultados\n",
    "vector_scaled_df = scaled_df.select(['columns_scaled','Tenencia_Vivienda'])\n",
    "vector_scaled_df.show()\n",
    "vector_scaled_df.printSchema()"
   ]
  },
  {
   "cell_type": "code",
   "execution_count": 61,
   "id": "90e1d8fc",
   "metadata": {},
   "outputs": [
    {
     "name": "stderr",
     "output_type": "stream",
     "text": [
      "                                                                                \r"
     ]
    }
   ],
   "source": [
    "#Primer modelo (Regresion Logistica)\n",
    "\n",
    "# Division en entrenamiento y prueba\n",
    "train_data, test_data = vector_scaled_df.randomSplit([0.7, 0.3], seed=123)\n",
    "\n",
    "lr = LogisticRegression(featuresCol=\"columns_scaled\", labelCol=\"Tenencia_Vivienda\")\n",
    "\n",
    "#Parametros para validacion cruzada\n",
    "param_grid = ParamGridBuilder() \\\n",
    "    .addGrid(lr.regParam, [0.01, 0.1, 0.5]) \\\n",
    "    .addGrid(lr.elasticNetParam, [0.0, 0.5, 1.0]) \\\n",
    "    .build()\n",
    "\n",
    "#Validacion cruzada\n",
    "cv = CrossValidator(estimator=lr,\n",
    "                    estimatorParamMaps=paramGrid,\n",
    "                    evaluator=evaluator,\n",
    "                    numFolds=5)\n",
    "\n",
    "#Entrenamiento del modelo\n",
    "cv_model = cv.fit(train_data)\n",
    "\n",
    "#Prediccion en datos de prueba\n",
    "prediccion_lr = cv_model.transform(test_data)\n",
    "\n"
   ]
  },
  {
   "cell_type": "code",
   "execution_count": 64,
   "id": "7c6e9d13",
   "metadata": {},
   "outputs": [
    {
     "name": "stdout",
     "output_type": "stream",
     "text": [
      "Area Under ROC Curve: 0.6895022753128561\n"
     ]
    },
    {
     "name": "stderr",
     "output_type": "stream",
     "text": [
      "                                                                                \r"
     ]
    }
   ],
   "source": [
    "evaluator = BinaryClassificationEvaluator(labelCol='Tenencia_Vivienda')\n",
    "roc_lr = evaluator.evaluate(prediccion_lr)\n",
    "print(\"Area Under ROC Curve:\", area_under_curve)\n"
   ]
  },
  {
   "cell_type": "code",
   "execution_count": 46,
   "id": "ce5f7282",
   "metadata": {},
   "outputs": [
    {
     "name": "stderr",
     "output_type": "stream",
     "text": [
      "                                                                                \r"
     ]
    }
   ],
   "source": [
    "# Segundo Modelo (arbol de decision)\n",
    "\n",
    "# Division en entrenamiento y prueba\n",
    "train_data, test_data = vector_scaled_df.randomSplit([0.7, 0.3], seed=123)\n",
    "\n",
    "\n",
    "dt = DecisionTreeClassifier(featuresCol=\"columns_scaled\", labelCol=\"Tenencia_Vivienda\")\n",
    "\n",
    "#Parametros para validacion cruzada\n",
    "paramGrid = ParamGridBuilder() \\\n",
    "    .addGrid(dt.maxDepth, [5, 10]) \\\n",
    "    .addGrid(dt.maxBins, [20, 30]) \\\n",
    "    .build()\n",
    "\n",
    "\n",
    "\n",
    "#Validacion cruzada\n",
    "cv = CrossValidator(estimator=dt,\n",
    "                    estimatorParamMaps=paramGrid,\n",
    "                    evaluator=evaluator,\n",
    "                    numFolds=5)\n",
    "\n",
    "#Entrenamiento del modelo\n",
    "cvModel = cv.fit(train_data)\n",
    "\n",
    "#Prediccion en datos de prueba\n",
    "prediccion_dt = cvModel.transform(test_data)\n",
    "\n"
   ]
  },
  {
   "cell_type": "code",
   "execution_count": 204,
   "id": "ccf04ae8",
   "metadata": {},
   "outputs": [
    {
     "name": "stdout",
     "output_type": "stream",
     "text": [
      "Area bajo la curva ROC: 0.5696153330164866\n"
     ]
    }
   ],
   "source": [
    "evaluator = BinaryClassificationEvaluator(labelCol='Tenencia_Vivienda')\n",
    "roc_dt = evaluator.evaluate(prediccion_dt)\n",
    "print(f\"Area bajo la curva ROC: {roc_dt}\")"
   ]
  },
  {
   "cell_type": "code",
   "execution_count": 111,
   "id": "0fce9cfd",
   "metadata": {},
   "outputs": [
    {
     "name": "stderr",
     "output_type": "stream",
     "text": [
      "                                                                                \r"
     ]
    },
    {
     "name": "stdout",
     "output_type": "stream",
     "text": [
      "Accuracy: 0.7440833070369202\n",
      "Precision: 0.7492682926829268\n",
      "Recall: 0.9829351535836177\n",
      "F1 measure: 0.8503413914006274\n"
     ]
    }
   ],
   "source": [
    "# Metricas Primner Modelo\n",
    "tp = prediccion_lr.filter((F.col('Tenencia_Vivienda') == 1) & (F.col('prediction') == 1)).count()\n",
    "tn = prediccion_lr.filter((F.col('Tenencia_Vivienda') == 0) & (F.col('prediction') == 0)).count()\n",
    "fp = prediccion_lr.filter((F.col('Tenencia_Vivienda') == 0) & (F.col('prediction') == 1)).count()\n",
    "fn = prediccion_lr.filter((F.col('Tenencia_Vivienda') == 1) & (F.col('prediction') == 0)).count()\n",
    "\n",
    "# accuracy\n",
    "accuracy = (tp + tn) / (tp + tn + fp + fn)\n",
    "print(f\"Accuracy: {accuracy}\")\n",
    "\n",
    "# precision\n",
    "precision = tp / (tp + fp) if (tp + fp) != 0 else 0  \n",
    "print(f\"Precision: {precision}\")\n",
    "\n",
    "# recall\n",
    "recall = tp / (tp + fn) if (tp + fn) != 0 else 0.0  \n",
    "print(f\"Recall: {recall}\")\n",
    "\n",
    "# F1 measure\n",
    "f1_measure = 2 * (precision * recall) / (precision + recall) if (precision + recall) != 0 else 0.0  \n",
    "print(f\"F1 measure: {f1_measure}\")\n"
   ]
  },
  {
   "cell_type": "code",
   "execution_count": 112,
   "id": "e4ec6a9c",
   "metadata": {},
   "outputs": [
    {
     "name": "stderr",
     "output_type": "stream",
     "text": [
      "                                                                                \r"
     ]
    },
    {
     "name": "stdout",
     "output_type": "stream",
     "text": [
      "Accuracy: 0.7349321552540233\n",
      "Precision: 0.7605682605682605\n",
      "Recall: 0.9364334470989761\n",
      "F1 measure: 0.8393881453154876\n"
     ]
    },
    {
     "name": "stderr",
     "output_type": "stream",
     "text": [
      "                                                                                \r"
     ]
    }
   ],
   "source": [
    "#Metricas Segundo Modelo\n",
    "\n",
    "tp = prediccion_dt.filter((F.col('Tenencia_Vivienda') == 1) & (F.col('prediction') == 1)).count()\n",
    "tn = prediccion_dt.filter((F.col('Tenencia_Vivienda') == 0) & (F.col('prediction') == 0)).count()\n",
    "fp = prediccion_dt.filter((F.col('Tenencia_Vivienda') == 0) & (F.col('prediction') == 1)).count()\n",
    "fn = prediccion_dt.filter((F.col('Tenencia_Vivienda') == 1) & (F.col('prediction') == 0)).count()\n",
    "\n",
    "# accuracy\n",
    "accuracy = (tp + tn) / (tp + tn + fp + fn)\n",
    "print(f\"Accuracy: {accuracy}\")\n",
    "\n",
    "# precision\n",
    "precision = tp / (tp + fp) if (tp + fp) != 0 else 0  \n",
    "print(f\"Precision: {precision}\")\n",
    "\n",
    "# recall\n",
    "recall = tp / (tp + fn) if (tp + fn) != 0 else 0.0  \n",
    "print(f\"Recall: {recall}\")\n",
    "\n",
    "# measure\n",
    "f1_measure = 2 * (precision * recall) / (precision + recall) if (precision + recall) != 0 else 0.0  \n",
    "print(f\"F1 measure: {f1_measure}\")\n"
   ]
  },
  {
   "cell_type": "code",
   "execution_count": null,
   "id": "597795bc",
   "metadata": {},
   "outputs": [],
   "source": []
  }
 ],
 "metadata": {
  "kernelspec": {
   "display_name": "Python 3 (ipykernel)",
   "language": "python",
   "name": "python3"
  },
  "language_info": {
   "codemirror_mode": {
    "name": "ipython",
    "version": 3
   },
   "file_extension": ".py",
   "mimetype": "text/x-python",
   "name": "python",
   "nbconvert_exporter": "python",
   "pygments_lexer": "ipython3",
   "version": "3.7.10"
  }
 },
 "nbformat": 4,
 "nbformat_minor": 5
}
