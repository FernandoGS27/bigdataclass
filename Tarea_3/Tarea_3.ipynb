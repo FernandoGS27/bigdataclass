{
 "cells": [
  {
   "cell_type": "code",
   "execution_count": 89,
   "id": "6866d90b",
   "metadata": {},
   "outputs": [],
   "source": [
    "from pyspark.sql.types import (StringType, IntegerType, FloatType, \n",
    "                               DecimalType, StructField, StructType)\n",
    "from pyspark.sql import SparkSession\n",
    "from pyspark.ml.feature import StringIndexer, OneHotEncoder,VectorAssembler, StandardScaler\n",
    "from pyspark.ml import Pipeline\n",
    "from pyspark.sql.functions import col,count,when,isnull\n",
    "from pyspark.ml.stat import Correlation\n",
    "import seaborn as sns\n",
    "import matplotlib.pyplot as plt\n",
    "import pandas as pd\n",
    "from pyspark.ml.functions import vector_to_array\n",
    "from pyspark.ml.classification import LogisticRegression, DecisionTreeClassifier\n",
    "from pyspark.ml.evaluation import BinaryClassificationEvaluator\n",
    "from pyspark.ml.tuning import ParamGridBuilder, CrossValidator"
   ]
  },
  {
   "cell_type": "code",
   "execution_count": 90,
   "id": "1476396c",
   "metadata": {},
   "outputs": [
    {
     "name": "stdout",
     "output_type": "stream",
     "text": [
      "root\n",
      " |-- hotel: string (nullable = true)\n",
      " |-- is_canceled: string (nullable = true)\n",
      " |-- lead_time: integer (nullable = true)\n",
      " |-- arrival_date_year: string (nullable = true)\n",
      " |-- arrival_date_month: string (nullable = true)\n",
      " |-- arrival_date_week_number: integer (nullable = true)\n",
      " |-- arrival_date_day_of_month: integer (nullable = true)\n",
      " |-- stays_in_weekend_nights: integer (nullable = true)\n",
      " |-- stays_in_week_nights: integer (nullable = true)\n",
      " |-- adults: integer (nullable = true)\n",
      " |-- children: float (nullable = true)\n",
      " |-- babies: float (nullable = true)\n",
      " |-- meal: string (nullable = true)\n",
      " |-- country: string (nullable = true)\n",
      " |-- market_segment: string (nullable = true)\n",
      " |-- distribution_channel: string (nullable = true)\n",
      " |-- is_repeated_guest: string (nullable = true)\n",
      " |-- previous_cancellations: integer (nullable = true)\n",
      " |-- previous_bookings_not_canceled: integer (nullable = true)\n",
      " |-- reserved_room_type: string (nullable = true)\n",
      " |-- assigned_room_type: string (nullable = true)\n",
      " |-- booking_changes: integer (nullable = true)\n",
      " |-- deposit_type: string (nullable = true)\n",
      " |-- agent: float (nullable = true)\n",
      " |-- company: float (nullable = true)\n",
      " |-- days_in_waiting_list: integer (nullable = true)\n",
      " |-- customer_type: string (nullable = true)\n",
      " |-- adr: float (nullable = true)\n",
      " |-- required_car_parking_spaces: integer (nullable = true)\n",
      " |-- total_of_special_requests: integer (nullable = true)\n",
      " |-- reservation_status: string (nullable = true)\n",
      " |-- reservation_status_date: string (nullable = true)\n",
      " |-- name: string (nullable = true)\n",
      " |-- email: string (nullable = true)\n",
      " |-- phone-number: string (nullable = true)\n",
      " |-- credit_card: string (nullable = true)\n",
      "\n",
      "+------------+-----------+---------+-----------------+------------------+------------------------+-------------------------+-----------------------+--------------------+------+--------+------+----+-------+--------------+--------------------+-----------------+----------------------+------------------------------+------------------+------------------+---------------+------------+-----+-------+--------------------+-------------+------+---------------------------+-------------------------+------------------+-----------------------+--------------------+--------------------+------------+----------------+\n",
      "|       hotel|is_canceled|lead_time|arrival_date_year|arrival_date_month|arrival_date_week_number|arrival_date_day_of_month|stays_in_weekend_nights|stays_in_week_nights|adults|children|babies|meal|country|market_segment|distribution_channel|is_repeated_guest|previous_cancellations|previous_bookings_not_canceled|reserved_room_type|assigned_room_type|booking_changes|deposit_type|agent|company|days_in_waiting_list|customer_type|   adr|required_car_parking_spaces|total_of_special_requests|reservation_status|reservation_status_date|                name|               email|phone-number|     credit_card|\n",
      "+------------+-----------+---------+-----------------+------------------+------------------------+-------------------------+-----------------------+--------------------+------+--------+------+----+-------+--------------+--------------------+-----------------+----------------------+------------------------------+------------------+------------------+---------------+------------+-----+-------+--------------------+-------------+------+---------------------------+-------------------------+------------------+-----------------------+--------------------+--------------------+------------+----------------+\n",
      "|Resort Hotel|          0|      342|             2015|              July|                      27|                        1|                      0|                   0|     2|     0.0|   0.0|  BB|    PRT|        Direct|              Direct|                0|                     0|                             0|                 C|                 C|              3|  No Deposit| null|   null|                   0|    Transient|   0.0|                          0|                        0|         Check-Out|             2015-07-01|       Ernest Barnes|Ernest.Barnes31@o...|669-792-1661|************4322|\n",
      "|Resort Hotel|          0|      737|             2015|              July|                      27|                        1|                      0|                   0|     2|     0.0|   0.0|  BB|    PRT|        Direct|              Direct|                0|                     0|                             0|                 C|                 C|              4|  No Deposit| null|   null|                   0|    Transient|   0.0|                          0|                        0|         Check-Out|             2015-07-01|        Andrea Baker|Andrea_Baker94@ao...|858-637-6955|************9157|\n",
      "|Resort Hotel|          0|        7|             2015|              July|                      27|                        1|                      0|                   1|     1|     0.0|   0.0|  BB|    GBR|        Direct|              Direct|                0|                     0|                             0|                 A|                 C|              0|  No Deposit| null|   null|                   0|    Transient|  75.0|                          0|                        0|         Check-Out|             2015-07-02|      Rebecca Parker|Rebecca_Parker@co...|652-885-2745|************3734|\n",
      "|Resort Hotel|          0|       13|             2015|              July|                      27|                        1|                      0|                   1|     1|     0.0|   0.0|  BB|    GBR|     Corporate|           Corporate|                0|                     0|                             0|                 A|                 A|              0|  No Deposit|304.0|   null|                   0|    Transient|  75.0|                          0|                        0|         Check-Out|             2015-07-02|        Laura Murray|   Laura_M@gmail.com|364-656-8427|************5677|\n",
      "|Resort Hotel|          0|       14|             2015|              July|                      27|                        1|                      0|                   2|     2|     0.0|   0.0|  BB|    GBR|     Online TA|               TA/TO|                0|                     0|                             0|                 A|                 A|              0|  No Deposit|240.0|   null|                   0|    Transient|  98.0|                          0|                        1|         Check-Out|             2015-07-03|         Linda Hines|  LHines@verizon.com|713-226-5883|************5498|\n",
      "|Resort Hotel|          0|       14|             2015|              July|                      27|                        1|                      0|                   2|     2|     0.0|   0.0|  BB|    GBR|     Online TA|               TA/TO|                0|                     0|                             0|                 A|                 A|              0|  No Deposit|240.0|   null|                   0|    Transient|  98.0|                          0|                        1|         Check-Out|             2015-07-03|    Jasmine Fletcher|JFletcher43@xfini...|190-271-6743|************9263|\n",
      "|Resort Hotel|          0|        0|             2015|              July|                      27|                        1|                      0|                   2|     2|     0.0|   0.0|  BB|    PRT|        Direct|              Direct|                0|                     0|                             0|                 C|                 C|              0|  No Deposit| null|   null|                   0|    Transient| 107.0|                          0|                        0|         Check-Out|             2015-07-03|        Dylan Rangel|Rangel.Dylan@comc...|420-332-5209|************6994|\n",
      "|Resort Hotel|          0|        9|             2015|              July|                      27|                        1|                      0|                   2|     2|     0.0|   0.0|  FB|    PRT|        Direct|              Direct|                0|                     0|                             0|                 C|                 C|              0|  No Deposit|303.0|   null|                   0|    Transient| 103.0|                          0|                        1|         Check-Out|             2015-07-03|       William Velez|Velez_William@mai...|286-669-4333|************8729|\n",
      "|Resort Hotel|          1|       85|             2015|              July|                      27|                        1|                      0|                   3|     2|     0.0|   0.0|  BB|    PRT|     Online TA|               TA/TO|                0|                     0|                             0|                 A|                 A|              0|  No Deposit|240.0|   null|                   0|    Transient|  82.0|                          0|                        1|          Canceled|             2015-05-06|       Steven Murphy|Steven.Murphy54@a...|341-726-5787|************3639|\n",
      "|Resort Hotel|          1|       75|             2015|              July|                      27|                        1|                      0|                   3|     2|     0.0|   0.0|  HB|    PRT| Offline TA/TO|               TA/TO|                0|                     0|                             0|                 D|                 D|              0|  No Deposit| 15.0|   null|                   0|    Transient| 105.5|                          0|                        0|          Canceled|             2015-04-22|       Michael Moore|MichaelMoore81@ou...|316-648-6176|************9190|\n",
      "|Resort Hotel|          1|       23|             2015|              July|                      27|                        1|                      0|                   4|     2|     0.0|   0.0|  BB|    PRT|     Online TA|               TA/TO|                0|                     0|                             0|                 E|                 E|              0|  No Deposit|240.0|   null|                   0|    Transient| 123.0|                          0|                        0|          Canceled|             2015-06-23|Priscilla Collins...|PhD.Priscilla74@a...|833-887-7898|************4642|\n",
      "|Resort Hotel|          0|       35|             2015|              July|                      27|                        1|                      0|                   4|     2|     0.0|   0.0|  HB|    PRT|     Online TA|               TA/TO|                0|                     0|                             0|                 D|                 D|              0|  No Deposit|240.0|   null|                   0|    Transient| 145.0|                          0|                        0|         Check-Out|             2015-07-05|        Laurie Smith|Smith.Laurie@att.com|804-383-4080|************5450|\n",
      "|Resort Hotel|          0|       68|             2015|              July|                      27|                        1|                      0|                   4|     2|     0.0|   0.0|  BB|    USA|     Online TA|               TA/TO|                0|                     0|                             0|                 D|                 E|              0|  No Deposit|240.0|   null|                   0|    Transient|  97.0|                          0|                        3|         Check-Out|             2015-07-05|        Casey Thomas|Casey_T78@outlook...|211-071-2173|************8518|\n",
      "|Resort Hotel|          0|       18|             2015|              July|                      27|                        1|                      0|                   4|     2|     1.0|   0.0|  HB|    ESP|     Online TA|               TA/TO|                0|                     0|                             0|                 G|                 G|              1|  No Deposit|241.0|   null|                   0|    Transient|154.77|                          0|                        1|         Check-Out|             2015-07-05|     Rachel Friedman|Rachel.F@protonma...|435-075-8409|************9767|\n",
      "|Resort Hotel|          0|       37|             2015|              July|                      27|                        1|                      0|                   4|     2|     0.0|   0.0|  BB|    PRT|     Online TA|               TA/TO|                0|                     0|                             0|                 E|                 E|              0|  No Deposit|241.0|   null|                   0|    Transient| 94.71|                          0|                        0|         Check-Out|             2015-07-05|       Edward Torres|   Edward.T@zoho.com|790-746-7471|************7719|\n",
      "|Resort Hotel|          0|       68|             2015|              July|                      27|                        1|                      0|                   4|     2|     0.0|   0.0|  BB|    IRL|     Online TA|               TA/TO|                0|                     0|                             0|                 D|                 E|              0|  No Deposit|240.0|   null|                   0|    Transient|  97.0|                          0|                        3|         Check-Out|             2015-07-05|       Samuel Zavala|Zavala_Samuel46@x...|649-384-5387|************7612|\n",
      "|Resort Hotel|          0|       37|             2015|              July|                      27|                        1|                      0|                   4|     2|     0.0|   0.0|  BB|    PRT| Offline TA/TO|               TA/TO|                0|                     0|                             0|                 E|                 E|              0|  No Deposit|  8.0|   null|                   0|     Contract|  97.5|                          0|                        0|         Check-Out|             2015-07-05|   Dr. Victor Martin|Dr.Martin@xfinity...|331-430-8824|************6279|\n",
      "|Resort Hotel|          0|       12|             2015|              July|                      27|                        1|                      0|                   1|     2|     0.0|   0.0|  BB|    IRL|     Online TA|               TA/TO|                0|                     0|                             0|                 A|                 E|              0|  No Deposit|240.0|   null|                   0|    Transient|  88.2|                          0|                        0|         Check-Out|             2015-07-02|            Sara Lee|  Sara.L@hotmail.com|573-306-9938|************8950|\n",
      "|Resort Hotel|          0|        0|             2015|              July|                      27|                        1|                      0|                   1|     2|     0.0|   0.0|  BB|    FRA|     Corporate|           Corporate|                0|                     0|                             0|                 A|                 G|              0|  No Deposit| null|  110.0|                   0|    Transient|107.42|                          0|                        0|         Check-Out|             2015-07-02|    Curtis Rodriguez|CRodriguez@verizo...|466-424-2102|************1179|\n",
      "|Resort Hotel|          0|        7|             2015|              July|                      27|                        1|                      0|                   4|     2|     0.0|   0.0|  BB|    GBR|        Direct|              Direct|                0|                     0|                             0|                 G|                 G|              0|  No Deposit|250.0|   null|                   0|    Transient| 153.0|                          0|                        1|         Check-Out|             2015-07-05|   Stephanie Schmidt|StephanieSchmidt@...|896-642-1049|************1110|\n",
      "+------------+-----------+---------+-----------------+------------------+------------------------+-------------------------+-----------------------+--------------------+------+--------+------+----+-------+--------------+--------------------+-----------------+----------------------+------------------------------+------------------+------------------+---------------+------------+-----+-------+--------------------+-------------+------+---------------------------+-------------------------+------------------+-----------------------+--------------------+--------------------+------------+----------------+\n",
      "only showing top 20 rows\n",
      "\n"
     ]
    }
   ],
   "source": [
    "# Cargar el conjunto de datos completo\n",
    "import findspark\n",
    "findspark.init('/usr/lib/python3.7/site-packages/pyspark')\n",
    "\n",
    "spark = SparkSession \\\n",
    "    .builder \\\n",
    "    .appName(\"Basic JDBC pipeline\") \\\n",
    "    .config(\"spark.driver.extraClassPath\", \"postgresql-42.2.14.jar\") \\\n",
    "    .config(\"spark.executor.extraClassPath\", \"postgresql-42.2.14.jar\") \\\n",
    "    .getOrCreate()\n",
    "\n",
    "hotels_df = spark \\\n",
    "    .read \\\n",
    "    .format(\"csv\") \\\n",
    "    .option(\"path\", \"hotel_booking.csv\") \\\n",
    "    .option(\"header\", True) \\\n",
    "    .schema(StructType([\n",
    "                StructField(\"hotel\", StringType()),\n",
    "                StructField(\"is_canceled\", StringType()),\n",
    "                StructField(\"lead_time\", IntegerType()),\n",
    "                StructField(\"arrival_date_year\", StringType()),\n",
    "                StructField(\"arrival_date_month\", StringType()),\n",
    "                StructField(\"arrival_date_week_number\", IntegerType()),\n",
    "                StructField(\"arrival_date_day_of_month\", IntegerType()),\n",
    "                StructField(\"stays_in_weekend_nights\", IntegerType()),\n",
    "                StructField(\"stays_in_week_nights\", IntegerType()),\n",
    "                StructField(\"adults\", IntegerType()),\n",
    "                StructField(\"children\", FloatType()),\n",
    "                StructField(\"babies\", FloatType()),\n",
    "                StructField(\"meal\", StringType()),\n",
    "                StructField(\"country\", StringType()),\n",
    "                StructField(\"market_segment\", StringType()),\n",
    "                StructField(\"distribution_channel\", StringType()),\n",
    "                StructField(\"is_repeated_guest\", StringType()),\n",
    "                StructField(\"previous_cancellations\", IntegerType()),\n",
    "                StructField(\"previous_bookings_not_canceled\", IntegerType()),\n",
    "                StructField(\"reserved_room_type\", StringType()),\n",
    "                StructField(\"assigned_room_type\", StringType()),\n",
    "                StructField(\"booking_changes\", IntegerType()),\n",
    "                StructField(\"deposit_type\", StringType()),\n",
    "                StructField(\"agent\", FloatType()),\n",
    "                StructField(\"company\", FloatType()),\n",
    "                StructField(\"days_in_waiting_list\", IntegerType()),\n",
    "                StructField(\"customer_type\", StringType()),\n",
    "                StructField(\"adr\", FloatType()),\n",
    "                StructField(\"required_car_parking_spaces\", IntegerType()),\n",
    "                StructField(\"total_of_special_requests\", IntegerType()),\n",
    "                StructField(\"reservation_status\", StringType()),\n",
    "                StructField(\"reservation_status_date\", StringType()),\n",
    "                StructField(\"name\", StringType()),\n",
    "                StructField(\"email\", StringType()),\n",
    "                StructField(\"phone-number\", StringType()),\n",
    "                StructField(\"credit_card\", StringType())])) \\\n",
    "    .load()\n",
    "\n",
    "hotels_df.printSchema()\n",
    "hotels_df.show()"
   ]
  },
  {
   "cell_type": "code",
   "execution_count": 91,
   "id": "89c1e72b",
   "metadata": {},
   "outputs": [],
   "source": [
    "# Se quita la informacion personal y fecha de reservacion del datset\n",
    "hotels_columns_df = hotels_df.drop(\"reservation_status_date\",\"name\",\"email\",\"phone-number\",\"credit_card\")"
   ]
  },
  {
   "cell_type": "code",
   "execution_count": 92,
   "id": "2976b396",
   "metadata": {},
   "outputs": [
    {
     "name": "stderr",
     "output_type": "stream",
     "text": [
      "                                                                                \r"
     ]
    },
    {
     "name": "stdout",
     "output_type": "stream",
     "text": [
      "+-------+------------+-------------------+------------------+------------------+------------------+------------------------+\n",
      "|summary|       hotel|        is_canceled|         lead_time| arrival_date_year|arrival_date_month|arrival_date_week_number|\n",
      "+-------+------------+-------------------+------------------+------------------+------------------+------------------------+\n",
      "|  count|      119390|             119390|            119390|            119390|            119390|                  119390|\n",
      "|   mean|        null|0.37041628277075134|104.01141636652986| 2016.156554150264|              null|       27.16517296255968|\n",
      "| stddev|        null| 0.4829182265925997|106.86309704798795|0.7074759445202426|              null|      13.605138355497651|\n",
      "|    min|  City Hotel|                  0|                 0|              2015|             April|                       1|\n",
      "|    25%|        null|                0.0|                18|            2016.0|              null|                      16|\n",
      "|    50%|        null|                0.0|                69|            2016.0|              null|                      28|\n",
      "|    75%|        null|                1.0|               160|            2017.0|              null|                      38|\n",
      "|    max|Resort Hotel|                  1|               737|              2017|         September|                      53|\n",
      "+-------+------------+-------------------+------------------+------------------+------------------+------------------------+\n",
      "\n",
      "+-------+-------------------------+-----------------------+--------------------+------------------+-------------------+\n",
      "|summary|arrival_date_day_of_month|stays_in_weekend_nights|stays_in_week_nights|            adults|           children|\n",
      "+-------+-------------------------+-----------------------+--------------------+------------------+-------------------+\n",
      "|  count|                   119390|                 119390|              119390|            119390|             119386|\n",
      "|   mean|       15.798241058715135|     0.9275986263506156|   2.500301532791691|1.8564033838679956|0.10388990333874994|\n",
      "| stddev|        8.780829470578345|     0.9986134945978777|   1.908285615047907|0.5792609988327554|0.39856144478644145|\n",
      "|    min|                        1|                      0|                   0|                 0|                0.0|\n",
      "|    25%|                        8|                      0|                   1|                 2|                0.0|\n",
      "|    50%|                       16|                      1|                   2|                 2|                0.0|\n",
      "|    75%|                       23|                      2|                   3|                 2|                0.0|\n",
      "|    max|                       31|                     19|                  50|                55|               10.0|\n",
      "+-------+-------------------------+-----------------------+--------------------+------------------+-------------------+\n",
      "\n"
     ]
    },
    {
     "name": "stderr",
     "output_type": "stream",
     "text": [
      "                                                                                \r"
     ]
    },
    {
     "name": "stdout",
     "output_type": "stream",
     "text": [
      "+-------+--------------------+---------+-------+--------------+--------------------+-------------------+----------------------+\n",
      "|summary|              babies|     meal|country|market_segment|distribution_channel|  is_repeated_guest|previous_cancellations|\n",
      "+-------+--------------------+---------+-------+--------------+--------------------+-------------------+----------------------+\n",
      "|  count|              119390|   119390| 118902|        119390|              119390|             119390|                119390|\n",
      "|   mean|0.007948739425412514|     null|   null|          null|                null|0.03191222045397437|   0.08711784906608594|\n",
      "| stddev|  0.0974361913012643|     null|   null|          null|                null| 0.1757671454106566|    0.8443363841545122|\n",
      "|    min|                 0.0|       BB|    ABW|      Aviation|           Corporate|                  0|                     0|\n",
      "|    25%|                 0.0|     null|   null|          null|                null|                0.0|                     0|\n",
      "|    50%|                 0.0|     null|   null|          null|                null|                0.0|                     0|\n",
      "|    75%|                 0.0|     null|   null|          null|                null|                0.0|                     0|\n",
      "|    max|                10.0|Undefined|    ZWE|     Undefined|           Undefined|                  1|                    26|\n",
      "+-------+--------------------+---------+-------+--------------+--------------------+-------------------+----------------------+\n",
      "\n"
     ]
    },
    {
     "name": "stderr",
     "output_type": "stream",
     "text": [
      "                                                                                \r"
     ]
    },
    {
     "name": "stdout",
     "output_type": "stream",
     "text": [
      "+-------+------------------------------+------------------+------------------+-------------------+------------+\n",
      "|summary|previous_bookings_not_canceled|reserved_room_type|assigned_room_type|    booking_changes|deposit_type|\n",
      "+-------+------------------------------+------------------+------------------+-------------------+------------+\n",
      "|  count|                        119390|            119390|            119390|             119390|      119390|\n",
      "|   mean|           0.13709690928888515|              null|              null|0.22112404724013737|        null|\n",
      "| stddev|             1.497436847707677|              null|              null| 0.6523055726747712|        null|\n",
      "|    min|                             0|                 A|                 A|                  0|  No Deposit|\n",
      "|    25%|                             0|              null|              null|                  0|        null|\n",
      "|    50%|                             0|              null|              null|                  0|        null|\n",
      "|    75%|                             0|              null|              null|                  0|        null|\n",
      "|    max|                            72|                 P|                 P|                 21|  Refundable|\n",
      "+-------+------------------------------+------------------+------------------+-------------------+------------+\n",
      "\n",
      "+-------+--------------------+---------------+------------------+---------------------------+-------------------------+\n",
      "|summary|days_in_waiting_list|  customer_type|               adr|required_car_parking_spaces|total_of_special_requests|\n",
      "+-------+--------------------+---------------+------------------+---------------------------+-------------------------+\n",
      "|  count|              119390|         119390|            119390|                     119390|                   119390|\n",
      "|   mean|   2.321149174972778|           null|101.83112154663662|        0.06251779881062065|       0.5713627607002262|\n",
      "| stddev|  17.594720878776197|           null| 50.53579031886051|         0.2452911474674937|       0.7927984228094128|\n",
      "|    min|                   0|       Contract|             -6.38|                          0|                        0|\n",
      "|    25%|                   0|           null|             69.22|                          0|                        0|\n",
      "|    50%|                   0|           null|              94.5|                          0|                        0|\n",
      "|    75%|                   0|           null|             126.0|                          0|                        1|\n",
      "|    max|                 391|Transient-Party|            5400.0|                          8|                        5|\n",
      "+-------+--------------------+---------------+------------------+---------------------------+-------------------------+\n",
      "\n",
      "+-------+------------------+\n",
      "|summary|reservation_status|\n",
      "+-------+------------------+\n",
      "|  count|            119390|\n",
      "|   mean|              null|\n",
      "| stddev|              null|\n",
      "|    min|          Canceled|\n",
      "|    25%|              null|\n",
      "|    50%|              null|\n",
      "|    75%|              null|\n",
      "|    max|           No-Show|\n",
      "+-------+------------------+\n",
      "\n"
     ]
    }
   ],
   "source": [
    "#Se muestra el resumen de cada variable en el dataset\n",
    "hotels_columns_df.select(['hotel',\"is_canceled\",\n",
    "              'lead_time','arrival_date_year','arrival_date_month','arrival_date_week_number'] ).summary().show()\n",
    "\n",
    "hotels_columns_df.select(['arrival_date_day_of_month','stays_in_weekend_nights',\n",
    "              'stays_in_week_nights','adults','children'] ).summary().show()\n",
    "\n",
    "hotels_columns_df.select(['babies','meal',\n",
    "              'country','market_segment','distribution_channel',\"is_repeated_guest\",\"previous_cancellations\"] ).summary().show()\n",
    "\n",
    "hotels_columns_df.select(['previous_bookings_not_canceled','reserved_room_type',\n",
    "              'assigned_room_type','booking_changes','deposit_type'] ).summary().show()\n",
    "\n",
    "hotels_columns_df.select(['days_in_waiting_list','customer_type',\n",
    "              'adr','required_car_parking_spaces','total_of_special_requests'] ).summary().show()\n",
    "\n",
    "hotels_columns_df.select(['reservation_status'] ).summary().show()"
   ]
  },
  {
   "cell_type": "code",
   "execution_count": 150,
   "id": "9e09514a",
   "metadata": {},
   "outputs": [
    {
     "name": "stdout",
     "output_type": "stream",
     "text": [
      "+------------+-----+-----------------+\n",
      "|       hotel|count|       porcentage|\n",
      "+------------+-----+-----------------+\n",
      "|Resort Hotel|40060|33.55389898651479|\n",
      "|  City Hotel|79330|66.44610101348522|\n",
      "+------------+-----+-----------------+\n",
      "\n"
     ]
    }
   ],
   "source": [
    "#Se chequea la distribucion de la variable objetivo\n",
    "value_counts = hotels_columns_df.groupBy('hotel').count()\n",
    "\n",
    "total_count = hotels_columns_df.count()\n",
    "\n",
    "value_counts_with_percentage = value_counts.withColumn('porcentage', (col('count') / total_count) * 100)\n",
    "\n",
    "value_counts_with_percentage.show()"
   ]
  },
  {
   "cell_type": "code",
   "execution_count": 93,
   "id": "5c690812",
   "metadata": {},
   "outputs": [
    {
     "data": {
      "text/plain": [
       "<AxesSubplot:>"
      ]
     },
     "execution_count": 93,
     "metadata": {},
     "output_type": "execute_result"
    },
    {
     "data": {
      "image/png": "[encoded data removed]",
      "text/plain": [
       "<Figure size 640x480 with 2 Axes>"
      ]
     },
     "metadata": {},
     "output_type": "display_data"
    }
   ],
   "source": [
    "#Se muestra una matriz de correlacion para las variables numericas en el dataset\n",
    "\n",
    "selected_columns = ['lead_time', 'arrival_date_week_number','arrival_date_day_of_month','stays_in_weekend_nights',\n",
    "              'stays_in_week_nights','adults','children','babies']  # Add your columns here\n",
    "\n",
    "# Assemble the selected columns into a single vector column\n",
    "assembler = VectorAssembler(inputCols=selected_columns, outputCol=\"features\")\n",
    "df_assembled = assembler.transform(df_hotels_bookings_clean).select(\"features\")\n",
    "pearson_matrix = Correlation.corr(df_assembled, 'features').collect()[0][0]\n",
    "\n",
    "sns.heatmap(pearson_matrix.toArray(), annot=True, fmt=\".2f\", cmap='viridis')\n"
   ]
  },
  {
   "cell_type": "code",
   "execution_count": 107,
   "id": "ca92f4b6",
   "metadata": {},
   "outputs": [],
   "source": [
    "#Se crea funcion para encontrar valores nulos en el dataframe\n",
    "def show_null_values(df):\n",
    "    null_counts = df.select([col(c).isNull().alias(c) for c in df.columns]) \\\n",
    "\n",
    "    count_ones = [null_counts.select([col(c).alias('value')]) \\\n",
    "                  .filter(col('value') == True) \\\n",
    "                  .count() for c in null_counts.columns]\n",
    "    \n",
    "\n",
    "    for i, col_name in enumerate(null_counts.columns):\n",
    "        \n",
    "        \n",
    "        prt=print(\"Column '{}': Count of Nulls = {}\".format(col_name, count_ones[i]))\n",
    "                      \n",
    "    return prt\n",
    "    "
   ]
  },
  {
   "cell_type": "code",
   "execution_count": 110,
   "id": "cc253970",
   "metadata": {},
   "outputs": [
    {
     "name": "stdout",
     "output_type": "stream",
     "text": [
      "Column 'hotel': Count of Nulls = 0\n",
      "Column 'is_canceled': Count of Nulls = 0\n",
      "Column 'lead_time': Count of Nulls = 0\n",
      "Column 'arrival_date_year': Count of Nulls = 0\n",
      "Column 'arrival_date_month': Count of Nulls = 0\n",
      "Column 'arrival_date_week_number': Count of Nulls = 0\n",
      "Column 'arrival_date_day_of_month': Count of Nulls = 0\n",
      "Column 'stays_in_weekend_nights': Count of Nulls = 0\n",
      "Column 'stays_in_week_nights': Count of Nulls = 0\n",
      "Column 'adults': Count of Nulls = 0\n",
      "Column 'children': Count of Nulls = 4\n",
      "Column 'babies': Count of Nulls = 0\n",
      "Column 'meal': Count of Nulls = 0\n",
      "Column 'country': Count of Nulls = 488\n",
      "Column 'market_segment': Count of Nulls = 0\n",
      "Column 'distribution_channel': Count of Nulls = 0\n",
      "Column 'is_repeated_guest': Count of Nulls = 0\n",
      "Column 'previous_cancellations': Count of Nulls = 0\n",
      "Column 'previous_bookings_not_canceled': Count of Nulls = 0\n",
      "Column 'reserved_room_type': Count of Nulls = 0\n",
      "Column 'assigned_room_type': Count of Nulls = 0\n",
      "Column 'booking_changes': Count of Nulls = 0\n",
      "Column 'deposit_type': Count of Nulls = 0\n",
      "Column 'agent': Count of Nulls = 16340\n",
      "Column 'company': Count of Nulls = 112593\n",
      "Column 'days_in_waiting_list': Count of Nulls = 0\n",
      "Column 'customer_type': Count of Nulls = 0\n",
      "Column 'adr': Count of Nulls = 0\n",
      "Column 'required_car_parking_spaces': Count of Nulls = 0\n",
      "Column 'total_of_special_requests': Count of Nulls = 0\n",
      "Column 'reservation_status': Count of Nulls = 0\n",
      "None\n"
     ]
    },
    {
     "data": {
      "text/plain": [
       "\"Elcodigo anterior muestra que hay cuatro columnas con valores nulos: children (4),country(488),agent(16340) y \\ncompany (112593).Se decide borrar todos las observaciones donde la variable 'country' es nulo y en el caso de las variables children, \\nagent and company se imputaran utilizando 0\""
      ]
     },
     "execution_count": 110,
     "metadata": {},
     "output_type": "execute_result"
    }
   ],
   "source": [
    "nulls= show_null_values(hotels_columns_df)\n",
    "print(nulls)\n",
    "\n",
    "\"\"\"Elcodigo anterior muestra que hay cuatro columnas con valores nulos: children (4),country(488),agent(16340) y \n",
    "company (112593).Se decide borrar todos las observaciones donde la variable 'country' es nulo y en el caso de las variables children, \n",
    "agent and company se imputaran utilizando 0\"\"\""
   ]
  },
  {
   "cell_type": "code",
   "execution_count": 111,
   "id": "b6583e97",
   "metadata": {},
   "outputs": [],
   "source": [
    "#Se eliminan las observaciones donde el pais es nulo\n",
    "df_without_country_nulls = hotels_columns_df.na.drop(subset=['country'])\n",
    "\n",
    "#Se inputan como 0 el resto de valores nulos\n",
    "df_hotels_imputed = df_without_country_nulls.na.fill(0)"
   ]
  },
  {
   "cell_type": "code",
   "execution_count": 114,
   "id": "ac6a203b",
   "metadata": {},
   "outputs": [
    {
     "name": "stdout",
     "output_type": "stream",
     "text": [
      "Column 'hotel': Count of Nulls = 0\n",
      "Column 'is_canceled': Count of Nulls = 0\n",
      "Column 'lead_time': Count of Nulls = 0\n",
      "Column 'arrival_date_year': Count of Nulls = 0\n",
      "Column 'arrival_date_month': Count of Nulls = 0\n",
      "Column 'arrival_date_week_number': Count of Nulls = 0\n",
      "Column 'arrival_date_day_of_month': Count of Nulls = 0\n",
      "Column 'stays_in_weekend_nights': Count of Nulls = 0\n",
      "Column 'stays_in_week_nights': Count of Nulls = 0\n",
      "Column 'adults': Count of Nulls = 0\n",
      "Column 'children': Count of Nulls = 0\n",
      "Column 'babies': Count of Nulls = 0\n",
      "Column 'meal': Count of Nulls = 0\n",
      "Column 'country': Count of Nulls = 0\n",
      "Column 'market_segment': Count of Nulls = 0\n",
      "Column 'distribution_channel': Count of Nulls = 0\n",
      "Column 'is_repeated_guest': Count of Nulls = 0\n",
      "Column 'previous_cancellations': Count of Nulls = 0\n",
      "Column 'previous_bookings_not_canceled': Count of Nulls = 0\n",
      "Column 'reserved_room_type': Count of Nulls = 0\n",
      "Column 'assigned_room_type': Count of Nulls = 0\n",
      "Column 'booking_changes': Count of Nulls = 0\n",
      "Column 'deposit_type': Count of Nulls = 0\n",
      "Column 'agent': Count of Nulls = 0\n",
      "Column 'company': Count of Nulls = 0\n",
      "Column 'days_in_waiting_list': Count of Nulls = 0\n",
      "Column 'customer_type': Count of Nulls = 0\n",
      "Column 'adr': Count of Nulls = 0\n",
      "Column 'required_car_parking_spaces': Count of Nulls = 0\n",
      "Column 'total_of_special_requests': Count of Nulls = 0\n",
      "Column 'reservation_status': Count of Nulls = 0\n",
      "None\n"
     ]
    },
    {
     "data": {
      "text/plain": [
       "'Puede notarse que no quedan valores nulos en el dataframe'"
      ]
     },
     "execution_count": 114,
     "metadata": {},
     "output_type": "execute_result"
    }
   ],
   "source": [
    "no_nulls= show_null_values(df_hotels_imputed)\n",
    "print(no_nulls)\n",
    "\n",
    "\"\"\"Puede notarse que no quedan valores nulos en el dataframe\"\"\""
   ]
  },
  {
   "cell_type": "code",
   "execution_count": 115,
   "id": "715e2b6d",
   "metadata": {},
   "outputs": [
    {
     "data": {
      "text/plain": [
       "[('hotel', 'string'),\n",
       " ('is_canceled', 'string'),\n",
       " ('lead_time', 'int'),\n",
       " ('arrival_date_year', 'string'),\n",
       " ('arrival_date_month', 'string'),\n",
       " ('arrival_date_week_number', 'int'),\n",
       " ('arrival_date_day_of_month', 'int'),\n",
       " ('stays_in_weekend_nights', 'int'),\n",
       " ('stays_in_week_nights', 'int'),\n",
       " ('adults', 'int'),\n",
       " ('children', 'float'),\n",
       " ('babies', 'float'),\n",
       " ('meal', 'string'),\n",
       " ('country', 'string'),\n",
       " ('market_segment', 'string'),\n",
       " ('distribution_channel', 'string'),\n",
       " ('is_repeated_guest', 'string'),\n",
       " ('previous_cancellations', 'int'),\n",
       " ('previous_bookings_not_canceled', 'int'),\n",
       " ('reserved_room_type', 'string'),\n",
       " ('assigned_room_type', 'string'),\n",
       " ('booking_changes', 'int'),\n",
       " ('deposit_type', 'string'),\n",
       " ('agent', 'float'),\n",
       " ('company', 'float'),\n",
       " ('days_in_waiting_list', 'int'),\n",
       " ('customer_type', 'string'),\n",
       " ('adr', 'float'),\n",
       " ('required_car_parking_spaces', 'int'),\n",
       " ('total_of_special_requests', 'int'),\n",
       " ('reservation_status', 'string')]"
      ]
     },
     "execution_count": 115,
     "metadata": {},
     "output_type": "execute_result"
    }
   ],
   "source": [
    "#Se muestra el tipo de dato de cada variable resultante\n",
    "df_hotels_imputed.dtypes\n"
   ]
  },
  {
   "cell_type": "code",
   "execution_count": 118,
   "id": "a233030b",
   "metadata": {},
   "outputs": [
    {
     "data": {
      "text/plain": [
       "[('hotel', 'string'),\n",
       " ('is_canceled', 'string'),\n",
       " ('lead_time', 'int'),\n",
       " ('arrival_date_year', 'string'),\n",
       " ('arrival_date_month', 'string'),\n",
       " ('arrival_date_week_number', 'int'),\n",
       " ('arrival_date_day_of_month', 'int'),\n",
       " ('stays_in_weekend_nights', 'int'),\n",
       " ('stays_in_week_nights', 'int'),\n",
       " ('adults', 'int'),\n",
       " ('children', 'float'),\n",
       " ('babies', 'float'),\n",
       " ('meal', 'string'),\n",
       " ('country', 'string'),\n",
       " ('market_segment', 'string'),\n",
       " ('distribution_channel', 'string'),\n",
       " ('is_repeated_guest', 'string'),\n",
       " ('previous_cancellations', 'int'),\n",
       " ('previous_bookings_not_canceled', 'int'),\n",
       " ('reserved_room_type', 'string'),\n",
       " ('assigned_room_type', 'string'),\n",
       " ('booking_changes', 'int'),\n",
       " ('deposit_type', 'string'),\n",
       " ('agent', 'float'),\n",
       " ('company', 'float'),\n",
       " ('days_in_waiting_list', 'int'),\n",
       " ('customer_type', 'string'),\n",
       " ('adr', 'float'),\n",
       " ('required_car_parking_spaces', 'int'),\n",
       " ('total_of_special_requests', 'int'),\n",
       " ('reservation_status', 'string'),\n",
       " ('is_canceled_index', 'double'),\n",
       " ('arrival_date_year_index', 'double'),\n",
       " ('arrival_date_month_index', 'double'),\n",
       " ('meal_index', 'double'),\n",
       " ('country_index', 'double'),\n",
       " ('market_segment_index', 'double'),\n",
       " ('distribution_channel_index', 'double'),\n",
       " ('reserved_room_type_index', 'double'),\n",
       " ('assigned_room_type_index', 'double'),\n",
       " ('deposit_type_index', 'double'),\n",
       " ('customer_type_index', 'double'),\n",
       " ('reservation_status_index', 'double'),\n",
       " ('is_repeated_guest_index', 'double'),\n",
       " ('is_canceled_index_vec', 'vector'),\n",
       " ('arrival_date_year_index_vec', 'vector'),\n",
       " ('arrival_date_month_index_vec', 'vector'),\n",
       " ('meal_index_vec', 'vector'),\n",
       " ('country_index_vec', 'vector'),\n",
       " ('market_segment_index_vec', 'vector'),\n",
       " ('distribution_channel_index_vec', 'vector'),\n",
       " ('reserved_room_type_index_vec', 'vector'),\n",
       " ('assigned_room_type_index_vec', 'vector'),\n",
       " ('deposit_type_index_vec', 'vector'),\n",
       " ('customer_type_index_vec', 'vector'),\n",
       " ('reservation_status_index_vec', 'vector'),\n",
       " ('is_repeated_guest_index_vec', 'vector'),\n",
       " ('label', 'double')]"
      ]
     },
     "execution_count": 118,
     "metadata": {},
     "output_type": "execute_result"
    }
   ],
   "source": [
    "#Se hace el 'One Hot Encoding' para las variables categoricas del dataset\n",
    "\n",
    "categorical_col = [\"is_canceled\",\"arrival_date_year\",\"arrival_date_month\",\"meal\",\"country\",\"market_segment\",\"distribution_channel\",\n",
    "                  \"reserved_room_type\",\"assigned_room_type\",\"deposit_type\",\"customer_type\",\"reservation_status\",\n",
    "                   \"is_repeated_guest\"]\n",
    "\n",
    "indexers = [StringIndexer(inputCol=col, outputCol=\"{0}_index\".format(col)) for col in categorical_col]\n",
    "\n",
    "\n",
    "encoders = [OneHotEncoder(inputCol=indexer.getOutputCol(), outputCol=\"{0}_vec\".format(indexer.getOutputCol())) for indexer in indexers]\n",
    "\n",
    "\n",
    "pipeline = Pipeline(stages=indexers+encoders)\n",
    "\n",
    "\n",
    "model = pipeline.fit(df_hotels_bookings_clean)\n",
    "\n",
    "\n",
    "transformed_df = model.transform(df_hotels_bookings_clean)\n",
    "\n",
    "#Se transforma la variable objetivo 'hotel' en 1s y 0s\n",
    "indexer_label = StringIndexer(inputCol='hotel',outputCol='label')\n",
    "df_label = indexer_label.fit(transformed_df).transform(transformed_df)\n",
    "\n",
    "#Se muestra la nueva estructura de los datos\n",
    "df_label.dtypes\n"
   ]
  },
  {
   "cell_type": "code",
   "execution_count": 119,
   "id": "df0a5c42",
   "metadata": {},
   "outputs": [
    {
     "name": "stdout",
     "output_type": "stream",
     "text": [
      "+--------------------+-----+\n",
      "|            features|label|\n",
      "+--------------------+-----+\n",
      "|(241,[0,1,2,5,8,1...|  1.0|\n",
      "|(241,[0,1,2,5,8,1...|  1.0|\n",
      "|(241,[0,1,2,4,5,8...|  1.0|\n",
      "|(241,[0,1,2,4,5,8...|  1.0|\n",
      "|(241,[0,1,2,4,5,8...|  1.0|\n",
      "|(241,[0,1,2,4,5,8...|  1.0|\n",
      "|(241,[1,2,4,5,8,1...|  1.0|\n",
      "|(241,[0,1,2,4,5,8...|  1.0|\n",
      "|(241,[0,1,2,4,5,1...|  1.0|\n",
      "|(241,[0,1,2,4,5,1...|  1.0|\n",
      "|(241,[0,1,2,4,5,1...|  1.0|\n",
      "|(241,[0,1,2,4,5,8...|  1.0|\n",
      "|(241,[0,1,2,4,5,8...|  1.0|\n",
      "|(241,[0,1,2,4,5,6...|  1.0|\n",
      "|(241,[0,1,2,4,5,8...|  1.0|\n",
      "|(241,[0,1,2,4,5,8...|  1.0|\n",
      "|(241,[0,1,2,4,5,8...|  1.0|\n",
      "|(241,[0,1,2,4,5,8...|  1.0|\n",
      "|(241,[1,2,4,5,8,1...|  1.0|\n",
      "|(241,[0,1,2,4,5,8...|  1.0|\n",
      "+--------------------+-----+\n",
      "only showing top 20 rows\n",
      "\n"
     ]
    }
   ],
   "source": [
    "#Se crea el vector de features\n",
    "assembler = VectorAssembler(\n",
    "    inputCols=['lead_time', 'arrival_date_week_number','arrival_date_day_of_month','stays_in_weekend_nights',\n",
    "              'stays_in_week_nights','adults','children','babies',\"is_canceled_index_vec\",\"arrival_date_year_index_vec\",\n",
    "              \"arrival_date_month_index_vec\",\"meal_index_vec\",\"country_index_vec\",\"market_segment_index_vec\",\n",
    "               \"distribution_channel_index_vec\",\"reserved_room_type_index_vec\",\"assigned_room_type_index_vec\",\n",
    "               \"deposit_type_index_vec\",\"customer_type_index_vec\",\"reservation_status_index_vec\",\"is_repeated_guest_index_vec\"]\n",
    "    ,outputCol='features',handleInvalid='keep')\n",
    "\n",
    "vector_df = assembler.transform(df_label)\n",
    "vector_df = vector_df.select(['features','label'])\n",
    "vector_df.show()"
   ]
  },
  {
   "cell_type": "code",
   "execution_count": 120,
   "id": "b9a6be9b",
   "metadata": {},
   "outputs": [
    {
     "name": "stderr",
     "output_type": "stream",
     "text": [
      "                                                                                \r"
     ]
    },
    {
     "name": "stdout",
     "output_type": "stream",
     "text": [
      "+--------------------+-----+--------------------+\n",
      "|            features|label|      columns_scaled|\n",
      "+--------------------+-----+--------------------+\n",
      "|(241,[0,1,2,5,8,1...|  1.0|(241,[0,1,2,5,8,1...|\n",
      "|(241,[0,1,2,5,8,1...|  1.0|(241,[0,1,2,5,8,1...|\n",
      "|(241,[0,1,2,4,5,8...|  1.0|(241,[0,1,2,4,5,8...|\n",
      "|(241,[0,1,2,4,5,8...|  1.0|(241,[0,1,2,4,5,8...|\n",
      "|(241,[0,1,2,4,5,8...|  1.0|(241,[0,1,2,4,5,8...|\n",
      "|(241,[0,1,2,4,5,8...|  1.0|(241,[0,1,2,4,5,8...|\n",
      "|(241,[1,2,4,5,8,1...|  1.0|(241,[1,2,4,5,8,1...|\n",
      "|(241,[0,1,2,4,5,8...|  1.0|(241,[0,1,2,4,5,8...|\n",
      "|(241,[0,1,2,4,5,1...|  1.0|(241,[0,1,2,4,5,1...|\n",
      "|(241,[0,1,2,4,5,1...|  1.0|(241,[0,1,2,4,5,1...|\n",
      "|(241,[0,1,2,4,5,1...|  1.0|(241,[0,1,2,4,5,1...|\n",
      "|(241,[0,1,2,4,5,8...|  1.0|(241,[0,1,2,4,5,8...|\n",
      "|(241,[0,1,2,4,5,8...|  1.0|(241,[0,1,2,4,5,8...|\n",
      "|(241,[0,1,2,4,5,6...|  1.0|(241,[0,1,2,4,5,6...|\n",
      "|(241,[0,1,2,4,5,8...|  1.0|(241,[0,1,2,4,5,8...|\n",
      "|(241,[0,1,2,4,5,8...|  1.0|(241,[0,1,2,4,5,8...|\n",
      "|(241,[0,1,2,4,5,8...|  1.0|(241,[0,1,2,4,5,8...|\n",
      "|(241,[0,1,2,4,5,8...|  1.0|(241,[0,1,2,4,5,8...|\n",
      "|(241,[1,2,4,5,8,1...|  1.0|(241,[1,2,4,5,8,1...|\n",
      "|(241,[0,1,2,4,5,8...|  1.0|(241,[0,1,2,4,5,8...|\n",
      "+--------------------+-----+--------------------+\n",
      "only showing top 20 rows\n",
      "\n"
     ]
    }
   ],
   "source": [
    "# Se aplica estandarizacion a las variables predictorias\n",
    "standard_scaler = StandardScaler(inputCol='features', outputCol='columns_scaled')\n",
    "scale_model = standard_scaler.fit(vector_df)\n",
    "\n",
    "scaled_df = scale_model.transform(vector_df)\n",
    "\n",
    "#Se muestran los resultados\n",
    "scaled_df.show()"
   ]
  },
  {
   "cell_type": "code",
   "execution_count": 123,
   "id": "acc82a2b",
   "metadata": {},
   "outputs": [
    {
     "name": "stdout",
     "output_type": "stream",
     "text": [
      "filas:  118902\n",
      "columnas:  242\n"
     ]
    }
   ],
   "source": [
    "#Tranformar el vector en columnas para guardar como dataframe en la base de datos\n",
    "hotels_df_clean=scaled_df.withColumn(\"columns_scaled\", vector_to_array(\"columns_scaled\")).select([\"label\"] + [col(\"columns_scaled\")[i] for i in range(241)])\n",
    "\n",
    "#Se verifican las dimensiones del dataframe\n",
    "print('filas: ', hotels_df_clean.count())\n",
    "print('columnas: ', len(hotels_df_clean.columns))"
   ]
  },
  {
   "cell_type": "code",
   "execution_count": 124,
   "id": "95f78e29",
   "metadata": {},
   "outputs": [
    {
     "name": "stderr",
     "output_type": "stream",
     "text": [
      "                                                                                \r"
     ]
    }
   ],
   "source": [
    "#Guardar el dataset a la base de datos\n",
    "hotels_df_clean \\\n",
    "    .write \\\n",
    "    .format(\"jdbc\") \\\n",
    "    .mode('overwrite') \\\n",
    "    .option(\"url\", \"jdbc:postgresql://host.docker.internal:5433/postgres\") \\\n",
    "    .option(\"user\", \"postgres\") \\\n",
    "    .option(\"password\", \"testPassword\") \\\n",
    "    .option(\"dbtable\", \"Tarea3\") \\\n",
    "    .save()"
   ]
  },
  {
   "cell_type": "code",
   "execution_count": 125,
   "id": "5f302711",
   "metadata": {},
   "outputs": [
    {
     "name": "stderr",
     "output_type": "stream",
     "text": [
      "                                                                                \r"
     ]
    },
    {
     "name": "stdout",
     "output_type": "stream",
     "text": [
      "+-----+-------------------+------------------+-------------------+-----------------+------------------+------------------+------------------+-----------------+-----------------+-----------------+------------------+------------------+------------------+------------------+------------------+------------------+------------------+------------------+------------------+------------------+------------------+------------------+------------------+------------------+------------------+------------------+------------------+------------------+------------------+------------------+------------------+------------------+------------------+------------------+------------------+------------------+------------------+------------------+------------------+------------------+------------------+------------------+------------------+------------------+------------------+------------------+------------------+------------------+------------------+------------------+------------------+------------------+------------------+------------------+------------------+------------------+------------------+------------------+------------------+------------------+------------------+------------------+------------------+------------------+------------------+------------------+------------------+------------------+------------------+------------------+------------------+------------------+------------------+------------------+------------------+------------------+------------------+------------------+------------------+------------------+------------------+------------------+------------------+------------------+------------------+------------------+------------------+------------------+------------------+------------------+------------------+------------------+------------------+------------------+------------------+------------------+------------------+------------------+------------------+------------------+-------------------+-------------------+-------------------+-------------------+-------------------+-------------------+-------------------+-------------------+-------------------+-------------------+-------------------+-------------------+-------------------+-------------------+-------------------+-------------------+-------------------+-------------------+-------------------+-------------------+-------------------+-------------------+-------------------+-------------------+-------------------+-------------------+-------------------+-------------------+-------------------+-------------------+-------------------+-------------------+-------------------+-------------------+-------------------+-------------------+-------------------+-------------------+-------------------+-------------------+-------------------+-------------------+-------------------+-------------------+-------------------+-------------------+-------------------+-------------------+-------------------+-------------------+-------------------+-------------------+-------------------+-------------------+-------------------+-------------------+-------------------+-------------------+-------------------+-------------------+-------------------+-------------------+-------------------+-------------------+-------------------+-------------------+-------------------+-------------------+-------------------+-------------------+-------------------+-------------------+-------------------+-------------------+-------------------+-------------------+-------------------+-------------------+-------------------+-------------------+-------------------+-------------------+-------------------+-------------------+-------------------+-------------------+-------------------+-------------------+-------------------+-------------------+-------------------+-------------------+-------------------+-------------------+-------------------+-------------------+-------------------+-------------------+-------------------+-------------------+-------------------+-------------------+-------------------+-------------------+-------------------+-------------------+-------------------+-------------------+-------------------+-------------------+-------------------+-------------------+-------------------+-------------------+-------------------+-------------------+-------------------+-------------------+-------------------+-------------------+-------------------+-------------------+-------------------+-------------------+-------------------+-------------------+-------------------+-------------------+-------------------+-------------------+-------------------+-------------------+-------------------+-------------------+-------------------+-------------------+-------------------+-------------------+-------------------+-------------------+-------------------+\n",
      "|label|  columns_scaled[0]| columns_scaled[1]|  columns_scaled[2]|columns_scaled[3]| columns_scaled[4]| columns_scaled[5]| columns_scaled[6]|columns_scaled[7]|columns_scaled[8]|columns_scaled[9]|columns_scaled[10]|columns_scaled[11]|columns_scaled[12]|columns_scaled[13]|columns_scaled[14]|columns_scaled[15]|columns_scaled[16]|columns_scaled[17]|columns_scaled[18]|columns_scaled[19]|columns_scaled[20]|columns_scaled[21]|columns_scaled[22]|columns_scaled[23]|columns_scaled[24]|columns_scaled[25]|columns_scaled[26]|columns_scaled[27]|columns_scaled[28]|columns_scaled[29]|columns_scaled[30]|columns_scaled[31]|columns_scaled[32]|columns_scaled[33]|columns_scaled[34]|columns_scaled[35]|columns_scaled[36]|columns_scaled[37]|columns_scaled[38]|columns_scaled[39]|columns_scaled[40]|columns_scaled[41]|columns_scaled[42]|columns_scaled[43]|columns_scaled[44]|columns_scaled[45]|columns_scaled[46]|columns_scaled[47]|columns_scaled[48]|columns_scaled[49]|columns_scaled[50]|columns_scaled[51]|columns_scaled[52]|columns_scaled[53]|columns_scaled[54]|columns_scaled[55]|columns_scaled[56]|columns_scaled[57]|columns_scaled[58]|columns_scaled[59]|columns_scaled[60]|columns_scaled[61]|columns_scaled[62]|columns_scaled[63]|columns_scaled[64]|columns_scaled[65]|columns_scaled[66]|columns_scaled[67]|columns_scaled[68]|columns_scaled[69]|columns_scaled[70]|columns_scaled[71]|columns_scaled[72]|columns_scaled[73]|columns_scaled[74]|columns_scaled[75]|columns_scaled[76]|columns_scaled[77]|columns_scaled[78]|columns_scaled[79]|columns_scaled[80]|columns_scaled[81]|columns_scaled[82]|columns_scaled[83]|columns_scaled[84]|columns_scaled[85]|columns_scaled[86]|columns_scaled[87]|columns_scaled[88]|columns_scaled[89]|columns_scaled[90]|columns_scaled[91]|columns_scaled[92]|columns_scaled[93]|columns_scaled[94]|columns_scaled[95]|columns_scaled[96]|columns_scaled[97]|columns_scaled[98]|columns_scaled[99]|columns_scaled[100]|columns_scaled[101]|columns_scaled[102]|columns_scaled[103]|columns_scaled[104]|columns_scaled[105]|columns_scaled[106]|columns_scaled[107]|columns_scaled[108]|columns_scaled[109]|columns_scaled[110]|columns_scaled[111]|columns_scaled[112]|columns_scaled[113]|columns_scaled[114]|columns_scaled[115]|columns_scaled[116]|columns_scaled[117]|columns_scaled[118]|columns_scaled[119]|columns_scaled[120]|columns_scaled[121]|columns_scaled[122]|columns_scaled[123]|columns_scaled[124]|columns_scaled[125]|columns_scaled[126]|columns_scaled[127]|columns_scaled[128]|columns_scaled[129]|columns_scaled[130]|columns_scaled[131]|columns_scaled[132]|columns_scaled[133]|columns_scaled[134]|columns_scaled[135]|columns_scaled[136]|columns_scaled[137]|columns_scaled[138]|columns_scaled[139]|columns_scaled[140]|columns_scaled[141]|columns_scaled[142]|columns_scaled[143]|columns_scaled[144]|columns_scaled[145]|columns_scaled[146]|columns_scaled[147]|columns_scaled[148]|columns_scaled[149]|columns_scaled[150]|columns_scaled[151]|columns_scaled[152]|columns_scaled[153]|columns_scaled[154]|columns_scaled[155]|columns_scaled[156]|columns_scaled[157]|columns_scaled[158]|columns_scaled[159]|columns_scaled[160]|columns_scaled[161]|columns_scaled[162]|columns_scaled[163]|columns_scaled[164]|columns_scaled[165]|columns_scaled[166]|columns_scaled[167]|columns_scaled[168]|columns_scaled[169]|columns_scaled[170]|columns_scaled[171]|columns_scaled[172]|columns_scaled[173]|columns_scaled[174]|columns_scaled[175]|columns_scaled[176]|columns_scaled[177]|columns_scaled[178]|columns_scaled[179]|columns_scaled[180]|columns_scaled[181]|columns_scaled[182]|columns_scaled[183]|columns_scaled[184]|columns_scaled[185]|columns_scaled[186]|columns_scaled[187]|columns_scaled[188]|columns_scaled[189]|columns_scaled[190]|columns_scaled[191]|columns_scaled[192]|columns_scaled[193]|columns_scaled[194]|columns_scaled[195]|columns_scaled[196]|columns_scaled[197]|columns_scaled[198]|columns_scaled[199]|columns_scaled[200]|columns_scaled[201]|columns_scaled[202]|columns_scaled[203]|columns_scaled[204]|columns_scaled[205]|columns_scaled[206]|columns_scaled[207]|columns_scaled[208]|columns_scaled[209]|columns_scaled[210]|columns_scaled[211]|columns_scaled[212]|columns_scaled[213]|columns_scaled[214]|columns_scaled[215]|columns_scaled[216]|columns_scaled[217]|columns_scaled[218]|columns_scaled[219]|columns_scaled[220]|columns_scaled[221]|columns_scaled[222]|columns_scaled[223]|columns_scaled[224]|columns_scaled[225]|columns_scaled[226]|columns_scaled[227]|columns_scaled[228]|columns_scaled[229]|columns_scaled[230]|columns_scaled[231]|columns_scaled[232]|columns_scaled[233]|columns_scaled[234]|columns_scaled[235]|columns_scaled[236]|columns_scaled[237]|columns_scaled[238]|columns_scaled[239]|columns_scaled[240]|\n",
      "+-----+-------------------+------------------+-------------------+-----------------+------------------+------------------+------------------+-----------------+-----------------+-----------------+------------------+------------------+------------------+------------------+------------------+------------------+------------------+------------------+------------------+------------------+------------------+------------------+------------------+------------------+------------------+------------------+------------------+------------------+------------------+------------------+------------------+------------------+------------------+------------------+------------------+------------------+------------------+------------------+------------------+------------------+------------------+------------------+------------------+------------------+------------------+------------------+------------------+------------------+------------------+------------------+------------------+------------------+------------------+------------------+------------------+------------------+------------------+------------------+------------------+------------------+------------------+------------------+------------------+------------------+------------------+------------------+------------------+------------------+------------------+------------------+------------------+------------------+------------------+------------------+------------------+------------------+------------------+------------------+------------------+------------------+------------------+------------------+------------------+------------------+------------------+------------------+------------------+------------------+------------------+------------------+------------------+------------------+------------------+------------------+------------------+------------------+------------------+------------------+------------------+------------------+-------------------+-------------------+-------------------+-------------------+-------------------+-------------------+-------------------+-------------------+-------------------+-------------------+-------------------+-------------------+-------------------+-------------------+-------------------+-------------------+-------------------+-------------------+-------------------+-------------------+-------------------+-------------------+-------------------+-------------------+-------------------+-------------------+-------------------+-------------------+-------------------+-------------------+-------------------+-------------------+-------------------+-------------------+-------------------+-------------------+-------------------+-------------------+-------------------+-------------------+-------------------+-------------------+-------------------+-------------------+-------------------+-------------------+-------------------+-------------------+-------------------+-------------------+-------------------+-------------------+-------------------+-------------------+-------------------+-------------------+-------------------+-------------------+-------------------+-------------------+-------------------+-------------------+-------------------+-------------------+-------------------+-------------------+-------------------+-------------------+-------------------+-------------------+-------------------+-------------------+-------------------+-------------------+-------------------+-------------------+-------------------+-------------------+-------------------+-------------------+-------------------+-------------------+-------------------+-------------------+-------------------+-------------------+-------------------+-------------------+-------------------+-------------------+-------------------+-------------------+-------------------+-------------------+-------------------+-------------------+-------------------+-------------------+-------------------+-------------------+-------------------+-------------------+-------------------+-------------------+-------------------+-------------------+-------------------+-------------------+-------------------+-------------------+-------------------+-------------------+-------------------+-------------------+-------------------+-------------------+-------------------+-------------------+-------------------+-------------------+-------------------+-------------------+-------------------+-------------------+-------------------+-------------------+-------------------+-------------------+-------------------+-------------------+-------------------+-------------------+-------------------+-------------------+-------------------+-------------------+-------------------+-------------------+-------------------+-------------------+-------------------+\n",
      "|  1.0| 3.1991580468115486|1.9867879427049515|0.11389040788896043|              0.0|               0.0| 3.456764356407291|               0.0|              0.0|2.069647962960444|              0.0|               0.0|               0.0|3.2456862324169853|               0.0|               0.0|               0.0|               0.0|               0.0|               0.0|               0.0|               0.0|               0.0|2.3858568316570437|               0.0|               0.0|               0.0| 2.034225800333691|               0.0|               0.0|               0.0|               0.0|               0.0|               0.0|               0.0|               0.0|               0.0|               0.0|               0.0|               0.0|               0.0|               0.0|               0.0|               0.0|               0.0|               0.0|               0.0|               0.0|               0.0|               0.0|               0.0|               0.0|               0.0|               0.0|               0.0|               0.0|               0.0|               0.0|               0.0|               0.0|               0.0|               0.0|               0.0|               0.0|               0.0|               0.0|               0.0|               0.0|               0.0|               0.0|               0.0|               0.0|               0.0|               0.0|               0.0|               0.0|               0.0|               0.0|               0.0|               0.0|               0.0|               0.0|               0.0|               0.0|               0.0|               0.0|               0.0|               0.0|               0.0|               0.0|               0.0|               0.0|               0.0|               0.0|               0.0|               0.0|               0.0|               0.0|               0.0|               0.0|               0.0|                0.0|                0.0|                0.0|                0.0|                0.0|                0.0|                0.0|                0.0|                0.0|                0.0|                0.0|                0.0|                0.0|                0.0|                0.0|                0.0|                0.0|                0.0|                0.0|                0.0|                0.0|                0.0|                0.0|                0.0|                0.0|                0.0|                0.0|                0.0|                0.0|                0.0|                0.0|                0.0|                0.0|                0.0|                0.0|                0.0|                0.0|                0.0|                0.0|                0.0|                0.0|                0.0|                0.0|                0.0|                0.0|                0.0|                0.0|                0.0|                0.0|                0.0|                0.0|                0.0|                0.0|                0.0|                0.0|                0.0|                0.0|                0.0|                0.0|                0.0|                0.0|                0.0|                0.0|                0.0|                0.0|                0.0|                0.0|                0.0|                0.0|                0.0|                0.0|                0.0|                0.0|                0.0|                0.0|                0.0|                0.0|                0.0|                0.0|                0.0|                0.0|                0.0|                0.0|                0.0|                0.0|                0.0|                0.0|                0.0|                0.0|                0.0|                0.0|                0.0|                0.0|                0.0|                0.0|                0.0|                0.0|                0.0|                0.0|                0.0|                0.0|                0.0|                0.0|                0.0|                0.0| 3.2661877641766544|                0.0|                0.0|                0.0|                0.0| 3.0575129367673086|                0.0|                0.0|                0.0|                0.0|                0.0|                0.0|                0.0|                0.0| 11.345531935250168|                0.0|                0.0|                0.0|                0.0|                0.0|                0.0|                0.0|   7.17846672477478|                0.0|                0.0|                0.0|                0.0|                0.0| 3.0349195626211642|                0.0| 2.3093266286684373|                0.0|                0.0|  2.069647962960444|                0.0|  5.680974321213032|\n",
      "|  1.0|   6.89409204824594|1.9867879427049515|0.11389040788896043|              0.0|               0.0| 3.456764356407291|               0.0|              0.0|2.069647962960444|              0.0|               0.0|               0.0|3.2456862324169853|               0.0|               0.0|               0.0|               0.0|               0.0|               0.0|               0.0|               0.0|               0.0|2.3858568316570437|               0.0|               0.0|               0.0| 2.034225800333691|               0.0|               0.0|               0.0|               0.0|               0.0|               0.0|               0.0|               0.0|               0.0|               0.0|               0.0|               0.0|               0.0|               0.0|               0.0|               0.0|               0.0|               0.0|               0.0|               0.0|               0.0|               0.0|               0.0|               0.0|               0.0|               0.0|               0.0|               0.0|               0.0|               0.0|               0.0|               0.0|               0.0|               0.0|               0.0|               0.0|               0.0|               0.0|               0.0|               0.0|               0.0|               0.0|               0.0|               0.0|               0.0|               0.0|               0.0|               0.0|               0.0|               0.0|               0.0|               0.0|               0.0|               0.0|               0.0|               0.0|               0.0|               0.0|               0.0|               0.0|               0.0|               0.0|               0.0|               0.0|               0.0|               0.0|               0.0|               0.0|               0.0|               0.0|               0.0|               0.0|               0.0|                0.0|                0.0|                0.0|                0.0|                0.0|                0.0|                0.0|                0.0|                0.0|                0.0|                0.0|                0.0|                0.0|                0.0|                0.0|                0.0|                0.0|                0.0|                0.0|                0.0|                0.0|                0.0|                0.0|                0.0|                0.0|                0.0|                0.0|                0.0|                0.0|                0.0|                0.0|                0.0|                0.0|                0.0|                0.0|                0.0|                0.0|                0.0|                0.0|                0.0|                0.0|                0.0|                0.0|                0.0|                0.0|                0.0|                0.0|                0.0|                0.0|                0.0|                0.0|                0.0|                0.0|                0.0|                0.0|                0.0|                0.0|                0.0|                0.0|                0.0|                0.0|                0.0|                0.0|                0.0|                0.0|                0.0|                0.0|                0.0|                0.0|                0.0|                0.0|                0.0|                0.0|                0.0|                0.0|                0.0|                0.0|                0.0|                0.0|                0.0|                0.0|                0.0|                0.0|                0.0|                0.0|                0.0|                0.0|                0.0|                0.0|                0.0|                0.0|                0.0|                0.0|                0.0|                0.0|                0.0|                0.0|                0.0|                0.0|                0.0|                0.0|                0.0|                0.0|                0.0|                0.0| 3.2661877641766544|                0.0|                0.0|                0.0|                0.0| 3.0575129367673086|                0.0|                0.0|                0.0|                0.0|                0.0|                0.0|                0.0|                0.0| 11.345531935250168|                0.0|                0.0|                0.0|                0.0|                0.0|                0.0|                0.0|   7.17846672477478|                0.0|                0.0|                0.0|                0.0|                0.0| 3.0349195626211642|                0.0| 2.3093266286684373|                0.0|                0.0|  2.069647962960444|                0.0|  5.680974321213032|\n",
      "|  1.0|0.06547984306339427|1.9867879427049515|0.11389040788896043|              0.0|0.5262702138020837|1.7283821782036455|               0.0|              0.0|2.069647962960444|              0.0|               0.0|               0.0|3.2456862324169853|               0.0|               0.0|               0.0|               0.0|               0.0|               0.0|               0.0|               0.0|               0.0|2.3858568316570437|               0.0|               0.0|               0.0|               0.0|3.3040309954376843|               0.0|               0.0|               0.0|               0.0|               0.0|               0.0|               0.0|               0.0|               0.0|               0.0|               0.0|               0.0|               0.0|               0.0|               0.0|               0.0|               0.0|               0.0|               0.0|               0.0|               0.0|               0.0|               0.0|               0.0|               0.0|               0.0|               0.0|               0.0|               0.0|               0.0|               0.0|               0.0|               0.0|               0.0|               0.0|               0.0|               0.0|               0.0|               0.0|               0.0|               0.0|               0.0|               0.0|               0.0|               0.0|               0.0|               0.0|               0.0|               0.0|               0.0|               0.0|               0.0|               0.0|               0.0|               0.0|               0.0|               0.0|               0.0|               0.0|               0.0|               0.0|               0.0|               0.0|               0.0|               0.0|               0.0|               0.0|               0.0|               0.0|               0.0|               0.0|               0.0|                0.0|                0.0|                0.0|                0.0|                0.0|                0.0|                0.0|                0.0|                0.0|                0.0|                0.0|                0.0|                0.0|                0.0|                0.0|                0.0|                0.0|                0.0|                0.0|                0.0|                0.0|                0.0|                0.0|                0.0|                0.0|                0.0|                0.0|                0.0|                0.0|                0.0|                0.0|                0.0|                0.0|                0.0|                0.0|                0.0|                0.0|                0.0|                0.0|                0.0|                0.0|                0.0|                0.0|                0.0|                0.0|                0.0|                0.0|                0.0|                0.0|                0.0|                0.0|                0.0|                0.0|                0.0|                0.0|                0.0|                0.0|                0.0|                0.0|                0.0|                0.0|                0.0|                0.0|                0.0|                0.0|                0.0|                0.0|                0.0|                0.0|                0.0|                0.0|                0.0|                0.0|                0.0|                0.0|                0.0|                0.0|                0.0|                0.0|                0.0|                0.0|                0.0|                0.0|                0.0|                0.0|                0.0|                0.0|                0.0|                0.0|                0.0|                0.0|                0.0|                0.0|                0.0|                0.0|                0.0|                0.0|                0.0|                0.0|                0.0|                0.0|                0.0|                0.0|                0.0|                0.0| 3.2661877641766544|                0.0|                0.0|                0.0|                0.0| 3.0575129367673086|                0.0|                0.0|  2.226995178622579|                0.0|                0.0|                0.0|                0.0|                0.0|                0.0|                0.0|                0.0|                0.0|                0.0|                0.0|                0.0|                0.0|   7.17846672477478|                0.0|                0.0|                0.0|                0.0|                0.0| 3.0349195626211642|                0.0| 2.3093266286684373|                0.0|                0.0|  2.069647962960444|                0.0|  5.680974321213032|\n",
      "|  1.0|0.12160542283201793|1.9867879427049515|0.11389040788896043|              0.0|0.5262702138020837|1.7283821782036455|               0.0|              0.0|2.069647962960444|              0.0|               0.0|               0.0|3.2456862324169853|               0.0|               0.0|               0.0|               0.0|               0.0|               0.0|               0.0|               0.0|               0.0|2.3858568316570437|               0.0|               0.0|               0.0|               0.0|3.3040309954376843|               0.0|               0.0|               0.0|               0.0|               0.0|               0.0|               0.0|               0.0|               0.0|               0.0|               0.0|               0.0|               0.0|               0.0|               0.0|               0.0|               0.0|               0.0|               0.0|               0.0|               0.0|               0.0|               0.0|               0.0|               0.0|               0.0|               0.0|               0.0|               0.0|               0.0|               0.0|               0.0|               0.0|               0.0|               0.0|               0.0|               0.0|               0.0|               0.0|               0.0|               0.0|               0.0|               0.0|               0.0|               0.0|               0.0|               0.0|               0.0|               0.0|               0.0|               0.0|               0.0|               0.0|               0.0|               0.0|               0.0|               0.0|               0.0|               0.0|               0.0|               0.0|               0.0|               0.0|               0.0|               0.0|               0.0|               0.0|               0.0|               0.0|               0.0|               0.0|               0.0|                0.0|                0.0|                0.0|                0.0|                0.0|                0.0|                0.0|                0.0|                0.0|                0.0|                0.0|                0.0|                0.0|                0.0|                0.0|                0.0|                0.0|                0.0|                0.0|                0.0|                0.0|                0.0|                0.0|                0.0|                0.0|                0.0|                0.0|                0.0|                0.0|                0.0|                0.0|                0.0|                0.0|                0.0|                0.0|                0.0|                0.0|                0.0|                0.0|                0.0|                0.0|                0.0|                0.0|                0.0|                0.0|                0.0|                0.0|                0.0|                0.0|                0.0|                0.0|                0.0|                0.0|                0.0|                0.0|                0.0|                0.0|                0.0|                0.0|                0.0|                0.0|                0.0|                0.0|                0.0|                0.0|                0.0|                0.0|                0.0|                0.0|                0.0|                0.0|                0.0|                0.0|                0.0|                0.0|                0.0|                0.0|                0.0|                0.0|                0.0|                0.0|                0.0|                0.0|                0.0|                0.0|                0.0|                0.0|                0.0|                0.0|                0.0|                0.0|                0.0|                0.0|                0.0|                0.0|                0.0|                0.0|                0.0|                0.0|                0.0|                0.0|                0.0|                0.0|                0.0|                0.0|                0.0|  4.930380487824638|                0.0|                0.0|                0.0|                0.0|   4.40176774076848|                0.0|  2.226995178622579|                0.0|                0.0|                0.0|                0.0|                0.0|                0.0|                0.0|                0.0| 2.0614817404391617|                0.0|                0.0|                0.0|                0.0|                0.0|                0.0|                0.0|                0.0|                0.0|                0.0| 3.0349195626211642|                0.0| 2.3093266286684373|                0.0|                0.0|  2.069647962960444|                0.0|  5.680974321213032|\n",
      "|  1.0| 0.2899821621378889| 3.899991146791201|  3.416712236668813|              0.0|1.0525404276041674| 3.456764356407291|               0.0|              0.0|2.069647962960444|2.002570176713286|               0.0|               0.0|               0.0|               0.0|               0.0|               0.0|               0.0|               0.0|               0.0|               0.0|               0.0|4.3281094901863115|               0.0|3.0619799515718578|               0.0|               0.0| 2.034225800333691|               0.0|               0.0|               0.0|               0.0|               0.0|               0.0|               0.0|               0.0|               0.0|               0.0|               0.0|               0.0|               0.0|               0.0|               0.0|               0.0|               0.0|               0.0|               0.0|               0.0|               0.0|               0.0|               0.0|               0.0|               0.0|               0.0|               0.0|               0.0|               0.0|               0.0|               0.0|               0.0|               0.0|               0.0|               0.0|               0.0|               0.0|               0.0|               0.0|               0.0|               0.0|               0.0|               0.0|               0.0|               0.0|               0.0|               0.0|               0.0|               0.0|               0.0|               0.0|               0.0|               0.0|               0.0|               0.0|               0.0|               0.0|               0.0|               0.0|               0.0|               0.0|               0.0|               0.0|               0.0|               0.0|               0.0|               0.0|               0.0|               0.0|               0.0|               0.0|               0.0|               0.0|                0.0|                0.0|                0.0|                0.0|                0.0|                0.0|                0.0|                0.0|                0.0|                0.0|                0.0|                0.0|                0.0|                0.0|                0.0|                0.0|                0.0|                0.0|                0.0|                0.0|                0.0|                0.0|                0.0|                0.0|                0.0|                0.0|                0.0|                0.0|                0.0|                0.0|                0.0|                0.0|                0.0|                0.0|                0.0|                0.0|                0.0|                0.0|                0.0|                0.0|                0.0|                0.0|                0.0|                0.0|                0.0|                0.0|                0.0|                0.0|                0.0|                0.0|                0.0|                0.0|                0.0|                0.0|                0.0|                0.0|                0.0|                0.0|                0.0|                0.0|                0.0|                0.0|                0.0|                0.0|                0.0|                0.0|                0.0|                0.0|                0.0|                0.0|                0.0|                0.0|                0.0|                0.0|                0.0|                0.0|                0.0|                0.0|                0.0|                0.0|                0.0|                0.0|                0.0|                0.0|                0.0|                0.0|                0.0|                0.0|                0.0|                0.0|                0.0|                0.0|                0.0|                0.0|                0.0|                0.0|                0.0|                0.0|                0.0|                0.0|                0.0|                0.0|                0.0|                0.0| 2.6838663413809214|                0.0|                0.0|                0.0|                0.0|                0.0| 3.0575129367673086|                0.0|                0.0|  2.226995178622579|                0.0|                0.0|                0.0|                0.0|                0.0|                0.0|                0.0|                0.0| 2.0614817404391617|                0.0|                0.0|                0.0|                0.0|                0.0|                0.0|                0.0|                0.0|                0.0|                0.0| 3.0349195626211642|                0.0|                0.0|  2.451085932474828|                0.0|  2.069647962960444|                0.0|                0.0|\n",
      "|  1.0| 1.0476774890143083| 3.899991146791201|  3.416712236668813|              0.0| 1.578810641406251|1.7283821782036455|               0.0|              0.0|2.069647962960444|              0.0|               0.0|               0.0|               0.0|               0.0|               0.0|               0.0|               0.0|               0.0|               0.0|               0.0|               0.0|4.3281094901863115|               0.0|               0.0|               0.0|10.152380540928508| 2.034225800333691|               0.0|               0.0|               0.0|               0.0|               0.0|               0.0|               0.0|               0.0|               0.0|               0.0|               0.0|               0.0|               0.0|               0.0|               0.0|               0.0|               0.0|               0.0|               0.0|               0.0|               0.0|               0.0|               0.0|               0.0|               0.0|               0.0|               0.0|               0.0|               0.0|               0.0|               0.0|               0.0|               0.0|               0.0|               0.0|               0.0|               0.0|               0.0|               0.0|               0.0|               0.0|               0.0|               0.0|               0.0|               0.0|               0.0|               0.0|               0.0|               0.0|               0.0|               0.0|               0.0|               0.0|               0.0|               0.0|               0.0|               0.0|               0.0|               0.0|               0.0|               0.0|               0.0|               0.0|               0.0|               0.0|               0.0|               0.0|               0.0|               0.0|               0.0|               0.0|               0.0|               0.0|                0.0|                0.0|                0.0|                0.0|                0.0|                0.0|                0.0|                0.0|                0.0|                0.0|                0.0|                0.0|                0.0|                0.0|                0.0|                0.0|                0.0|                0.0|                0.0|                0.0|                0.0|                0.0|                0.0|                0.0|                0.0|                0.0|                0.0|                0.0|                0.0|                0.0|                0.0|                0.0|                0.0|                0.0|                0.0|                0.0|                0.0|                0.0|                0.0|                0.0|                0.0|                0.0|                0.0|                0.0|                0.0|                0.0|                0.0|                0.0|                0.0|                0.0|                0.0|                0.0|                0.0|                0.0|                0.0|                0.0|                0.0|                0.0|                0.0|                0.0|                0.0|                0.0|                0.0|                0.0|                0.0|                0.0|                0.0|                0.0|                0.0|                0.0|                0.0|                0.0|                0.0|                0.0|                0.0|                0.0|                0.0|                0.0|                0.0|                0.0|                0.0|                0.0|                0.0|                0.0|                0.0|                0.0|                0.0|                0.0|                0.0|                0.0|                0.0|                0.0|                0.0|                0.0|                0.0|                0.0|                0.0|                0.0|                0.0|                0.0|                0.0|                0.0|                0.0|                0.0| 2.6838663413809214|                0.0|                0.0|                0.0|                0.0|                0.0| 3.0575129367673086|                0.0|                0.0|  2.226995178622579|                0.0|                0.0|                0.0|                0.0|                0.0|                0.0|                0.0|                0.0| 2.0614817404391617|                0.0|                0.0|                0.0|                0.0|                0.0|                0.0|                0.0|                0.0|                0.0|                0.0| 3.0349195626211642|                0.0|                0.0|  2.451085932474828|                0.0|  2.069647962960444|                0.0|  5.680974321213032|\n",
      "|  1.0| 1.0476774890143083| 3.899991146791201|  3.416712236668813|              0.0| 1.578810641406251| 3.456764356407291|               0.0|              0.0|2.069647962960444|              0.0|               0.0|               0.0|               0.0|               0.0|               0.0|               0.0|               0.0|               0.0|               0.0|               0.0|               0.0|4.3281094901863115|               0.0|               0.0|               0.0|10.152380540928508| 2.034225800333691|               0.0|               0.0|               0.0|               0.0|               0.0|               0.0|               0.0|               0.0|               0.0|               0.0|               0.0|               0.0|               0.0|               0.0|               0.0|               0.0|               0.0|               0.0|               0.0|               0.0|               0.0|               0.0|               0.0|               0.0|               0.0|               0.0|               0.0|               0.0|               0.0|               0.0|               0.0|               0.0|               0.0|               0.0|               0.0|               0.0|               0.0|               0.0|               0.0|               0.0|               0.0|               0.0|               0.0|               0.0|               0.0|               0.0|               0.0|               0.0|               0.0|               0.0|               0.0|               0.0|               0.0|               0.0|               0.0|               0.0|               0.0|               0.0|               0.0|               0.0|               0.0|               0.0|               0.0|               0.0|               0.0|               0.0|               0.0|               0.0|               0.0|               0.0|               0.0|               0.0|               0.0|                0.0|                0.0|                0.0|                0.0|                0.0|                0.0|                0.0|                0.0|                0.0|                0.0|                0.0|                0.0|                0.0|                0.0|                0.0|                0.0|                0.0|                0.0|                0.0|                0.0|                0.0|                0.0|                0.0|                0.0|                0.0|                0.0|                0.0|                0.0|                0.0|                0.0|                0.0|                0.0|                0.0|                0.0|                0.0|                0.0|                0.0|                0.0|                0.0|                0.0|                0.0|                0.0|                0.0|                0.0|                0.0|                0.0|                0.0|                0.0|                0.0|                0.0|                0.0|                0.0|                0.0|                0.0|                0.0|                0.0|                0.0|                0.0|                0.0|                0.0|                0.0|                0.0|                0.0|                0.0|                0.0|                0.0|                0.0|                0.0|                0.0|                0.0|                0.0|                0.0|                0.0|                0.0|                0.0|                0.0|                0.0|                0.0|                0.0|                0.0|                0.0|                0.0|                0.0|                0.0|                0.0|                0.0|                0.0|                0.0|                0.0|                0.0|                0.0|                0.0|                0.0|                0.0|                0.0|                0.0|                0.0|                0.0|                0.0|                0.0|                0.0|                0.0|                0.0|                0.0| 2.6838663413809214|                0.0|                0.0|                0.0|                0.0|                0.0| 3.0575129367673086|                0.0|                0.0|  2.226995178622579|                0.0|                0.0|                0.0|                0.0|                0.0|                0.0|                0.0|                0.0| 2.0614817404391617|                0.0|                0.0|                0.0|                0.0|                0.0|                0.0|                0.0|                0.0|                0.0|                0.0| 3.0349195626211642|                0.0|                0.0|  2.451085932474828|                0.0|  2.069647962960444|                0.0|  5.680974321213032|\n",
      "|  1.0| 1.0476774890143083| 3.899991146791201|  3.416712236668813|              0.0| 1.578810641406251| 3.456764356407291|               0.0|              0.0|2.069647962960444|              0.0|               0.0|               0.0|               0.0|               0.0|               0.0|               0.0|               0.0|               0.0|               0.0|               0.0|               0.0|4.3281094901863115|               0.0|               0.0|               0.0|10.152380540928508| 2.034225800333691|               0.0|               0.0|               0.0|               0.0|               0.0|               0.0|               0.0|               0.0|               0.0|               0.0|               0.0|               0.0|               0.0|               0.0|               0.0|               0.0|               0.0|               0.0|               0.0|               0.0|               0.0|               0.0|               0.0|               0.0|               0.0|               0.0|               0.0|               0.0|               0.0|               0.0|               0.0|               0.0|               0.0|               0.0|               0.0|               0.0|               0.0|               0.0|               0.0|               0.0|               0.0|               0.0|               0.0|               0.0|               0.0|               0.0|               0.0|               0.0|               0.0|               0.0|               0.0|               0.0|               0.0|               0.0|               0.0|               0.0|               0.0|               0.0|               0.0|               0.0|               0.0|               0.0|               0.0|               0.0|               0.0|               0.0|               0.0|               0.0|               0.0|               0.0|               0.0|               0.0|               0.0|                0.0|                0.0|                0.0|                0.0|                0.0|                0.0|                0.0|                0.0|                0.0|                0.0|                0.0|                0.0|                0.0|                0.0|                0.0|                0.0|                0.0|                0.0|                0.0|                0.0|                0.0|                0.0|                0.0|                0.0|                0.0|                0.0|                0.0|                0.0|                0.0|                0.0|                0.0|                0.0|                0.0|                0.0|                0.0|                0.0|                0.0|                0.0|                0.0|                0.0|                0.0|                0.0|                0.0|                0.0|                0.0|                0.0|                0.0|                0.0|                0.0|                0.0|                0.0|                0.0|                0.0|                0.0|                0.0|                0.0|                0.0|                0.0|                0.0|                0.0|                0.0|                0.0|                0.0|                0.0|                0.0|                0.0|                0.0|                0.0|                0.0|                0.0|                0.0|                0.0|                0.0|                0.0|                0.0|                0.0|                0.0|                0.0|                0.0|                0.0|                0.0|                0.0|                0.0|                0.0|                0.0|                0.0|                0.0|                0.0|                0.0|                0.0|                0.0|                0.0|                0.0|                0.0|                0.0|                0.0|                0.0|                0.0|                0.0|                0.0|                0.0|                0.0|                0.0|                0.0| 2.6838663413809214|                0.0|                0.0|                0.0|                0.0|                0.0| 3.0575129367673086|                0.0|                0.0|  2.226995178622579|                0.0|                0.0|                0.0|                0.0|                0.0|                0.0|                0.0|                0.0| 2.0614817404391617|                0.0|                0.0|                0.0|                0.0|                0.0|                0.0|                0.0|                0.0|                0.0|                0.0| 3.0349195626211642|                0.0|                0.0|  2.451085932474828|                0.0|  2.069647962960444|                0.0|  5.680974321213032|\n",
      "|  1.0|0.13095968612678854|1.9867879427049515|0.11389040788896043|              0.0|1.0525404276041674| 3.456764356407291|               0.0|              0.0|2.069647962960444|              0.0|               0.0|               0.0|3.2456862324169853|               0.0|               0.0|               0.0|               0.0|               0.0|               0.0|               0.0|               0.0|               0.0|2.3858568316570437|               0.0|               0.0|               0.0|               0.0|3.3040309954376843|               0.0|               0.0|               0.0|               0.0|               0.0|               0.0|               0.0|               0.0|               0.0|               0.0|               0.0|               0.0|               0.0|               0.0|               0.0|               0.0|               0.0|               0.0|               0.0|               0.0|               0.0|               0.0|               0.0|               0.0|               0.0|               0.0|               0.0|               0.0|               0.0|               0.0|               0.0|               0.0|               0.0|               0.0|               0.0|               0.0|               0.0|               0.0|               0.0|               0.0|               0.0|               0.0|               0.0|               0.0|               0.0|               0.0|               0.0|               0.0|               0.0|               0.0|               0.0|               0.0|               0.0|               0.0|               0.0|               0.0|               0.0|               0.0|               0.0|               0.0|               0.0|               0.0|               0.0|               0.0|               0.0|               0.0|               0.0|               0.0|               0.0|               0.0|               0.0|               0.0|                0.0|                0.0|                0.0|                0.0|                0.0|                0.0|                0.0|                0.0|                0.0|                0.0|                0.0|                0.0|                0.0|                0.0|                0.0|                0.0|                0.0|                0.0|                0.0|                0.0|                0.0|                0.0|                0.0|                0.0|                0.0|                0.0|                0.0|                0.0|                0.0|                0.0|                0.0|                0.0|                0.0|                0.0|                0.0|                0.0|                0.0|                0.0|                0.0|                0.0|                0.0|                0.0|                0.0|                0.0|                0.0|                0.0|                0.0|                0.0|                0.0|                0.0|                0.0|                0.0|                0.0|                0.0|                0.0|                0.0|                0.0|                0.0|                0.0|                0.0|                0.0|                0.0|                0.0|                0.0|                0.0|                0.0|                0.0|                0.0|                0.0|                0.0|                0.0|                0.0|                0.0|                0.0|                0.0|                0.0|                0.0|                0.0|                0.0|                0.0|                0.0|                0.0|                0.0|                0.0|                0.0|                0.0|                0.0|                0.0|                0.0|                0.0|                0.0|                0.0|                0.0|                0.0|                0.0|                0.0|                0.0|                0.0|                0.0|                0.0|                0.0|                0.0|  2.002625293725868|                0.0|                0.0|                0.0|                0.0|                0.0|                0.0| 2.6139209012337967|                0.0|                0.0|                0.0|  2.226995178622579|                0.0|                0.0|                0.0|                0.0|                0.0|                0.0|                0.0|                0.0| 2.0614817404391617|                0.0|                0.0|                0.0|                0.0|                0.0|                0.0|                0.0|                0.0|                0.0|                0.0| 3.0349195626211642|                0.0| 2.3093266286684373|                0.0|                0.0|  2.069647962960444|                0.0|  5.680974321213032|\n",
      "|  1.0|0.13095968612678854|1.9867879427049515|0.11389040788896043|              0.0|1.0525404276041674| 3.456764356407291|               0.0|              0.0|2.069647962960444|              0.0|               0.0|               0.0|3.2456862324169853|               0.0|               0.0|               0.0|               0.0|               0.0|               0.0|               0.0|               0.0|               0.0|2.3858568316570437|               0.0|               0.0|               0.0|               0.0|3.3040309954376843|               0.0|               0.0|               0.0|               0.0|               0.0|               0.0|               0.0|               0.0|               0.0|               0.0|               0.0|               0.0|               0.0|               0.0|               0.0|               0.0|               0.0|               0.0|               0.0|               0.0|               0.0|               0.0|               0.0|               0.0|               0.0|               0.0|               0.0|               0.0|               0.0|               0.0|               0.0|               0.0|               0.0|               0.0|               0.0|               0.0|               0.0|               0.0|               0.0|               0.0|               0.0|               0.0|               0.0|               0.0|               0.0|               0.0|               0.0|               0.0|               0.0|               0.0|               0.0|               0.0|               0.0|               0.0|               0.0|               0.0|               0.0|               0.0|               0.0|               0.0|               0.0|               0.0|               0.0|               0.0|               0.0|               0.0|               0.0|               0.0|               0.0|               0.0|               0.0|               0.0|                0.0|                0.0|                0.0|                0.0|                0.0|                0.0|                0.0|                0.0|                0.0|                0.0|                0.0|                0.0|                0.0|                0.0|                0.0|                0.0|                0.0|                0.0|                0.0|                0.0|                0.0|                0.0|                0.0|                0.0|                0.0|                0.0|                0.0|                0.0|                0.0|                0.0|                0.0|                0.0|                0.0|                0.0|                0.0|                0.0|                0.0|                0.0|                0.0|                0.0|                0.0|                0.0|                0.0|                0.0|                0.0|                0.0|                0.0|                0.0|                0.0|                0.0|                0.0|                0.0|                0.0|                0.0|                0.0|                0.0|                0.0|                0.0|                0.0|                0.0|                0.0|                0.0|                0.0|                0.0|                0.0|                0.0|                0.0|                0.0|                0.0|                0.0|                0.0|                0.0|                0.0|                0.0|                0.0|                0.0|                0.0|                0.0|                0.0|                0.0|                0.0|                0.0|                0.0|                0.0|                0.0|                0.0|                0.0|                0.0|                0.0|                0.0|                0.0|                0.0|                0.0|                0.0|                0.0|                0.0|                0.0|                0.0|                0.0|                0.0|                0.0|                0.0|  2.002625293725868|                0.0|                0.0|                0.0|                0.0|                0.0|                0.0| 2.6139209012337967|                0.0|                0.0|                0.0|  2.226995178622579|                0.0|                0.0|                0.0|                0.0|                0.0|                0.0|                0.0|                0.0| 2.0614817404391617|                0.0|                0.0|                0.0|                0.0|                0.0|                0.0|                0.0|                0.0|                0.0|                0.0| 3.0349195626211642|                0.0| 2.3093266286684373|                0.0|                0.0|  2.069647962960444|                0.0|  5.680974321213032|\n",
      "|  1.0|                0.0|1.9867879427049515|0.11389040788896043|              0.0|1.0525404276041674| 3.456764356407291|               0.0|              0.0|2.069647962960444|              0.0|               0.0|               0.0|3.2456862324169853|               0.0|               0.0|               0.0|               0.0|               0.0|               0.0|               0.0|               0.0|               0.0|2.3858568316570437|               0.0|               0.0|               0.0| 2.034225800333691|               0.0|               0.0|               0.0|               0.0|               0.0|               0.0|               0.0|               0.0|               0.0|               0.0|               0.0|               0.0|               0.0|               0.0|               0.0|               0.0|               0.0|               0.0|               0.0|               0.0|               0.0|               0.0|               0.0|               0.0|               0.0|               0.0|               0.0|               0.0|               0.0|               0.0|               0.0|               0.0|               0.0|               0.0|               0.0|               0.0|               0.0|               0.0|               0.0|               0.0|               0.0|               0.0|               0.0|               0.0|               0.0|               0.0|               0.0|               0.0|               0.0|               0.0|               0.0|               0.0|               0.0|               0.0|               0.0|               0.0|               0.0|               0.0|               0.0|               0.0|               0.0|               0.0|               0.0|               0.0|               0.0|               0.0|               0.0|               0.0|               0.0|               0.0|               0.0|               0.0|               0.0|                0.0|                0.0|                0.0|                0.0|                0.0|                0.0|                0.0|                0.0|                0.0|                0.0|                0.0|                0.0|                0.0|                0.0|                0.0|                0.0|                0.0|                0.0|                0.0|                0.0|                0.0|                0.0|                0.0|                0.0|                0.0|                0.0|                0.0|                0.0|                0.0|                0.0|                0.0|                0.0|                0.0|                0.0|                0.0|                0.0|                0.0|                0.0|                0.0|                0.0|                0.0|                0.0|                0.0|                0.0|                0.0|                0.0|                0.0|                0.0|                0.0|                0.0|                0.0|                0.0|                0.0|                0.0|                0.0|                0.0|                0.0|                0.0|                0.0|                0.0|                0.0|                0.0|                0.0|                0.0|                0.0|                0.0|                0.0|                0.0|                0.0|                0.0|                0.0|                0.0|                0.0|                0.0|                0.0|                0.0|                0.0|                0.0|                0.0|                0.0|                0.0|                0.0|                0.0|                0.0|                0.0|                0.0|                0.0|                0.0|                0.0|                0.0|                0.0|                0.0|                0.0|                0.0|                0.0|                0.0|                0.0|                0.0|                0.0|                0.0|                0.0|                0.0|                0.0|                0.0|                0.0| 3.2661877641766544|                0.0|                0.0|                0.0|                0.0| 3.0575129367673086|                0.0|                0.0|                0.0|                0.0|                0.0|                0.0|                0.0|                0.0| 11.345531935250168|                0.0|                0.0|                0.0|                0.0|                0.0|                0.0|                0.0|   7.17846672477478|                0.0|                0.0|                0.0|                0.0|                0.0| 3.0349195626211642|                0.0| 2.3093266286684373|                0.0|                0.0|  2.069647962960444|                0.0|  5.680974321213032|\n",
      "|  1.0| 0.0841883696529355|1.9867879427049515|0.11389040788896043|              0.0|1.0525404276041674| 3.456764356407291|               0.0|              0.0|2.069647962960444|              0.0|               0.0|               0.0|3.2456862324169853|               0.0|               0.0|               0.0|               0.0|               0.0|               0.0|               0.0|               0.0|               0.0|               0.0|               0.0|               0.0|               0.0| 2.034225800333691|               0.0|               0.0|               0.0|               0.0|               0.0|               0.0|               0.0|               0.0|               0.0|               0.0|               0.0|               0.0|               0.0|               0.0|               0.0|               0.0|               0.0|               0.0|               0.0|               0.0|               0.0|               0.0|               0.0|               0.0|               0.0|               0.0|               0.0|               0.0|               0.0|               0.0|               0.0|               0.0|               0.0|               0.0|               0.0|               0.0|               0.0|               0.0|               0.0|               0.0|               0.0|               0.0|               0.0|               0.0|               0.0|               0.0|               0.0|               0.0|               0.0|               0.0|               0.0|               0.0|               0.0|               0.0|               0.0|               0.0|               0.0|               0.0|               0.0|               0.0|               0.0|               0.0|               0.0|               0.0|               0.0|               0.0|               0.0|               0.0|               0.0|               0.0|               0.0|               0.0|               0.0|                0.0|                0.0|                0.0|                0.0|                0.0|                0.0|                0.0|                0.0|                0.0|                0.0|                0.0|                0.0|                0.0|                0.0|                0.0|                0.0|                0.0|                0.0|                0.0|                0.0|                0.0|                0.0|                0.0|                0.0|                0.0|                0.0|                0.0|                0.0|                0.0|                0.0|                0.0|                0.0|                0.0|                0.0|                0.0|                0.0|                0.0|                0.0|                0.0|                0.0|                0.0|                0.0|                0.0|                0.0|                0.0|                0.0|                0.0|                0.0|                0.0|                0.0|                0.0|                0.0|                0.0|                0.0|                0.0|                0.0|                0.0|                0.0|                0.0|                0.0|                0.0|                0.0|                0.0|                0.0|                0.0|                0.0|                0.0|                0.0|                0.0|                0.0|                0.0|                0.0|                0.0|                0.0|                0.0|                0.0|                0.0|                0.0|                0.0|                0.0|                0.0|                0.0|                0.0|                0.0|                0.0|                0.0|                0.0|                0.0|                0.0|                0.0|                0.0|                0.0|                0.0|                0.0|                0.0|                0.0|                0.0|                0.0|                0.0|                0.0|                0.0|                0.0|                0.0|                0.0|                0.0| 3.2661877641766544|                0.0|                0.0|                0.0|                0.0| 3.0575129367673086|                0.0|                0.0|                0.0|                0.0|                0.0|                0.0|                0.0|                0.0| 11.345531935250168|                0.0|                0.0|                0.0|                0.0|                0.0|                0.0|                0.0|   7.17846672477478|                0.0|                0.0|                0.0|                0.0|                0.0| 3.0349195626211642|                0.0| 2.3093266286684373|                0.0|                0.0|  2.069647962960444|                0.0|  5.680974321213032|\n",
      "|  1.0| 0.7951123800555019|1.9867879427049515|0.11389040788896043|              0.0| 1.578810641406251| 3.456764356407291|               0.0|              0.0|              0.0|              0.0|               0.0|               0.0|3.2456862324169853|               0.0|               0.0|               0.0|               0.0|               0.0|               0.0|               0.0|               0.0|               0.0|2.3858568316570437|               0.0|               0.0|               0.0| 2.034225800333691|               0.0|               0.0|               0.0|               0.0|               0.0|               0.0|               0.0|               0.0|               0.0|               0.0|               0.0|               0.0|               0.0|               0.0|               0.0|               0.0|               0.0|               0.0|               0.0|               0.0|               0.0|               0.0|               0.0|               0.0|               0.0|               0.0|               0.0|               0.0|               0.0|               0.0|               0.0|               0.0|               0.0|               0.0|               0.0|               0.0|               0.0|               0.0|               0.0|               0.0|               0.0|               0.0|               0.0|               0.0|               0.0|               0.0|               0.0|               0.0|               0.0|               0.0|               0.0|               0.0|               0.0|               0.0|               0.0|               0.0|               0.0|               0.0|               0.0|               0.0|               0.0|               0.0|               0.0|               0.0|               0.0|               0.0|               0.0|               0.0|               0.0|               0.0|               0.0|               0.0|               0.0|                0.0|                0.0|                0.0|                0.0|                0.0|                0.0|                0.0|                0.0|                0.0|                0.0|                0.0|                0.0|                0.0|                0.0|                0.0|                0.0|                0.0|                0.0|                0.0|                0.0|                0.0|                0.0|                0.0|                0.0|                0.0|                0.0|                0.0|                0.0|                0.0|                0.0|                0.0|                0.0|                0.0|                0.0|                0.0|                0.0|                0.0|                0.0|                0.0|                0.0|                0.0|                0.0|                0.0|                0.0|                0.0|                0.0|                0.0|                0.0|                0.0|                0.0|                0.0|                0.0|                0.0|                0.0|                0.0|                0.0|                0.0|                0.0|                0.0|                0.0|                0.0|                0.0|                0.0|                0.0|                0.0|                0.0|                0.0|                0.0|                0.0|                0.0|                0.0|                0.0|                0.0|                0.0|                0.0|                0.0|                0.0|                0.0|                0.0|                0.0|                0.0|                0.0|                0.0|                0.0|                0.0|                0.0|                0.0|                0.0|                0.0|                0.0|                0.0|                0.0|                0.0|                0.0|                0.0|                0.0|                0.0|                0.0|                0.0|                0.0|                0.0|                0.0|  2.002625293725868|                0.0|                0.0|                0.0|                0.0|                0.0|                0.0| 2.6139209012337967|                0.0|                0.0|                0.0|  2.226995178622579|                0.0|                0.0|                0.0|                0.0|                0.0|                0.0|                0.0|                0.0| 2.0614817404391617|                0.0|                0.0|                0.0|                0.0|                0.0|                0.0|                0.0|                0.0|                0.0|                0.0| 3.0349195626211642|                0.0| 2.3093266286684373|                0.0|                0.0|                0.0| 2.0817441659168905|  5.680974321213032|\n",
      "|  1.0| 0.7015697471077957|1.9867879427049515|0.11389040788896043|              0.0| 1.578810641406251| 3.456764356407291|               0.0|              0.0|              0.0|              0.0|               0.0|               0.0|3.2456862324169853|               0.0|               0.0|               0.0|               0.0|               0.0|               0.0|               0.0|               0.0|               0.0|               0.0|3.0619799515718578|               0.0|               0.0| 2.034225800333691|               0.0|               0.0|               0.0|               0.0|               0.0|               0.0|               0.0|               0.0|               0.0|               0.0|               0.0|               0.0|               0.0|               0.0|               0.0|               0.0|               0.0|               0.0|               0.0|               0.0|               0.0|               0.0|               0.0|               0.0|               0.0|               0.0|               0.0|               0.0|               0.0|               0.0|               0.0|               0.0|               0.0|               0.0|               0.0|               0.0|               0.0|               0.0|               0.0|               0.0|               0.0|               0.0|               0.0|               0.0|               0.0|               0.0|               0.0|               0.0|               0.0|               0.0|               0.0|               0.0|               0.0|               0.0|               0.0|               0.0|               0.0|               0.0|               0.0|               0.0|               0.0|               0.0|               0.0|               0.0|               0.0|               0.0|               0.0|               0.0|               0.0|               0.0|               0.0|               0.0|               0.0|                0.0|                0.0|                0.0|                0.0|                0.0|                0.0|                0.0|                0.0|                0.0|                0.0|                0.0|                0.0|                0.0|                0.0|                0.0|                0.0|                0.0|                0.0|                0.0|                0.0|                0.0|                0.0|                0.0|                0.0|                0.0|                0.0|                0.0|                0.0|                0.0|                0.0|                0.0|                0.0|                0.0|                0.0|                0.0|                0.0|                0.0|                0.0|                0.0|                0.0|                0.0|                0.0|                0.0|                0.0|                0.0|                0.0|                0.0|                0.0|                0.0|                0.0|                0.0|                0.0|                0.0|                0.0|                0.0|                0.0|                0.0|                0.0|                0.0|                0.0|                0.0|                0.0|                0.0|                0.0|                0.0|                0.0|                0.0|                0.0|                0.0|                0.0|                0.0|                0.0|                0.0|                0.0|                0.0|                0.0|                0.0|                0.0|                0.0|                0.0|                0.0|                0.0|                0.0|                0.0|                0.0|                0.0|                0.0|                0.0|                0.0|                0.0|                0.0|                0.0|                0.0|                0.0|                0.0|                0.0|                0.0|                0.0|                0.0|                0.0|                0.0|                0.0|                0.0|  2.485235761467416|                0.0|                0.0|                0.0|                0.0|                0.0| 2.6139209012337967|                0.0|                0.0|                0.0|                0.0| 2.7191399785062464|                0.0|                0.0|                0.0|                0.0|                0.0|                0.0|                0.0|                0.0| 2.4480880214636263|                0.0|                0.0|                0.0|                0.0|                0.0|                0.0|                0.0|                0.0|                0.0| 3.0349195626211642|                0.0| 2.3093266286684373|                0.0|                0.0|                0.0| 2.0817441659168905|  5.680974321213032|\n",
      "|  1.0|0.21514805577972404|1.9867879427049515|0.11389040788896043|              0.0| 2.105080855208335| 3.456764356407291|               0.0|              0.0|              0.0|              0.0|               0.0|               0.0|3.2456862324169853|               0.0|               0.0|               0.0|               0.0|               0.0|               0.0|               0.0|               0.0|               0.0|2.3858568316570437|               0.0|               0.0|               0.0| 2.034225800333691|               0.0|               0.0|               0.0|               0.0|               0.0|               0.0|               0.0|               0.0|               0.0|               0.0|               0.0|               0.0|               0.0|               0.0|               0.0|               0.0|               0.0|               0.0|               0.0|               0.0|               0.0|               0.0|               0.0|               0.0|               0.0|               0.0|               0.0|               0.0|               0.0|               0.0|               0.0|               0.0|               0.0|               0.0|               0.0|               0.0|               0.0|               0.0|               0.0|               0.0|               0.0|               0.0|               0.0|               0.0|               0.0|               0.0|               0.0|               0.0|               0.0|               0.0|               0.0|               0.0|               0.0|               0.0|               0.0|               0.0|               0.0|               0.0|               0.0|               0.0|               0.0|               0.0|               0.0|               0.0|               0.0|               0.0|               0.0|               0.0|               0.0|               0.0|               0.0|               0.0|               0.0|                0.0|                0.0|                0.0|                0.0|                0.0|                0.0|                0.0|                0.0|                0.0|                0.0|                0.0|                0.0|                0.0|                0.0|                0.0|                0.0|                0.0|                0.0|                0.0|                0.0|                0.0|                0.0|                0.0|                0.0|                0.0|                0.0|                0.0|                0.0|                0.0|                0.0|                0.0|                0.0|                0.0|                0.0|                0.0|                0.0|                0.0|                0.0|                0.0|                0.0|                0.0|                0.0|                0.0|                0.0|                0.0|                0.0|                0.0|                0.0|                0.0|                0.0|                0.0|                0.0|                0.0|                0.0|                0.0|                0.0|                0.0|                0.0|                0.0|                0.0|                0.0|                0.0|                0.0|                0.0|                0.0|                0.0|                0.0|                0.0|                0.0|                0.0|                0.0|                0.0|                0.0|                0.0|                0.0|                0.0|                0.0|                0.0|                0.0|                0.0|                0.0|                0.0|                0.0|                0.0|                0.0|                0.0|                0.0|                0.0|                0.0|                0.0|                0.0|                0.0|                0.0|                0.0|                0.0|                0.0|                0.0|                0.0|                0.0|                0.0|                0.0|                0.0|  2.002625293725868|                0.0|                0.0|                0.0|                0.0|                0.0|                0.0| 2.6139209012337967|                0.0|                0.0|                0.0|                0.0|                0.0|  4.399852171944761|                0.0|                0.0|                0.0|                0.0|                0.0|                0.0|                0.0|                0.0|  4.054066684331552|                0.0|                0.0|                0.0|                0.0|                0.0|                0.0|                0.0|                0.0| 3.0349195626211642|                0.0| 2.3093266286684373|                0.0|                0.0|                0.0| 2.0817441659168905|  5.680974321213032|\n",
      "|  1.0|0.32739921531697136|1.9867879427049515|0.11389040788896043|              0.0| 2.105080855208335| 3.456764356407291|               0.0|              0.0|2.069647962960444|              0.0|               0.0|               0.0|3.2456862324169853|               0.0|               0.0|               0.0|               0.0|               0.0|               0.0|               0.0|               0.0|               0.0|               0.0|3.0619799515718578|               0.0|               0.0| 2.034225800333691|               0.0|               0.0|               0.0|               0.0|               0.0|               0.0|               0.0|               0.0|               0.0|               0.0|               0.0|               0.0|               0.0|               0.0|               0.0|               0.0|               0.0|               0.0|               0.0|               0.0|               0.0|               0.0|               0.0|               0.0|               0.0|               0.0|               0.0|               0.0|               0.0|               0.0|               0.0|               0.0|               0.0|               0.0|               0.0|               0.0|               0.0|               0.0|               0.0|               0.0|               0.0|               0.0|               0.0|               0.0|               0.0|               0.0|               0.0|               0.0|               0.0|               0.0|               0.0|               0.0|               0.0|               0.0|               0.0|               0.0|               0.0|               0.0|               0.0|               0.0|               0.0|               0.0|               0.0|               0.0|               0.0|               0.0|               0.0|               0.0|               0.0|               0.0|               0.0|               0.0|               0.0|                0.0|                0.0|                0.0|                0.0|                0.0|                0.0|                0.0|                0.0|                0.0|                0.0|                0.0|                0.0|                0.0|                0.0|                0.0|                0.0|                0.0|                0.0|                0.0|                0.0|                0.0|                0.0|                0.0|                0.0|                0.0|                0.0|                0.0|                0.0|                0.0|                0.0|                0.0|                0.0|                0.0|                0.0|                0.0|                0.0|                0.0|                0.0|                0.0|                0.0|                0.0|                0.0|                0.0|                0.0|                0.0|                0.0|                0.0|                0.0|                0.0|                0.0|                0.0|                0.0|                0.0|                0.0|                0.0|                0.0|                0.0|                0.0|                0.0|                0.0|                0.0|                0.0|                0.0|                0.0|                0.0|                0.0|                0.0|                0.0|                0.0|                0.0|                0.0|                0.0|                0.0|                0.0|                0.0|                0.0|                0.0|                0.0|                0.0|                0.0|                0.0|                0.0|                0.0|                0.0|                0.0|                0.0|                0.0|                0.0|                0.0|                0.0|                0.0|                0.0|                0.0|                0.0|                0.0|                0.0|                0.0|                0.0|                0.0|                0.0|                0.0|                0.0|  2.002625293725868|                0.0|                0.0|                0.0|                0.0|                0.0|                0.0| 2.6139209012337967|                0.0|                0.0|                0.0|                0.0| 2.7191399785062464|                0.0|                0.0|                0.0|                0.0|                0.0|                0.0|                0.0|                0.0| 2.4480880214636263|                0.0|                0.0|                0.0|                0.0|                0.0|                0.0|                0.0|                0.0|                0.0| 3.0349195626211642|                0.0| 2.3093266286684373|                0.0|                0.0|  2.069647962960444|                0.0|  5.680974321213032|\n",
      "|  1.0| 0.6360899040444015|1.9867879427049515|0.11389040788896043|              0.0| 2.105080855208335| 3.456764356407291|               0.0|              0.0|2.069647962960444|              0.0|               0.0|               0.0|3.2456862324169853|               0.0|               0.0|               0.0|               0.0|               0.0|               0.0|               0.0|               0.0|               0.0|2.3858568316570437|               0.0|               0.0|               0.0|               0.0|               0.0|               0.0|               0.0|               0.0|               0.0|               0.0|               0.0|               0.0|               0.0| 7.597267205792074|               0.0|               0.0|               0.0|               0.0|               0.0|               0.0|               0.0|               0.0|               0.0|               0.0|               0.0|               0.0|               0.0|               0.0|               0.0|               0.0|               0.0|               0.0|               0.0|               0.0|               0.0|               0.0|               0.0|               0.0|               0.0|               0.0|               0.0|               0.0|               0.0|               0.0|               0.0|               0.0|               0.0|               0.0|               0.0|               0.0|               0.0|               0.0|               0.0|               0.0|               0.0|               0.0|               0.0|               0.0|               0.0|               0.0|               0.0|               0.0|               0.0|               0.0|               0.0|               0.0|               0.0|               0.0|               0.0|               0.0|               0.0|               0.0|               0.0|               0.0|               0.0|               0.0|               0.0|                0.0|                0.0|                0.0|                0.0|                0.0|                0.0|                0.0|                0.0|                0.0|                0.0|                0.0|                0.0|                0.0|                0.0|                0.0|                0.0|                0.0|                0.0|                0.0|                0.0|                0.0|                0.0|                0.0|                0.0|                0.0|                0.0|                0.0|                0.0|                0.0|                0.0|                0.0|                0.0|                0.0|                0.0|                0.0|                0.0|                0.0|                0.0|                0.0|                0.0|                0.0|                0.0|                0.0|                0.0|                0.0|                0.0|                0.0|                0.0|                0.0|                0.0|                0.0|                0.0|                0.0|                0.0|                0.0|                0.0|                0.0|                0.0|                0.0|                0.0|                0.0|                0.0|                0.0|                0.0|                0.0|                0.0|                0.0|                0.0|                0.0|                0.0|                0.0|                0.0|                0.0|                0.0|                0.0|                0.0|                0.0|                0.0|                0.0|                0.0|                0.0|                0.0|                0.0|                0.0|                0.0|                0.0|                0.0|                0.0|                0.0|                0.0|                0.0|                0.0|                0.0|                0.0|                0.0|                0.0|                0.0|                0.0|                0.0|                0.0|                0.0|                0.0|  2.002625293725868|                0.0|                0.0|                0.0|                0.0|                0.0|                0.0| 2.6139209012337967|                0.0|                0.0|                0.0|                0.0| 2.7191399785062464|                0.0|                0.0|                0.0|                0.0|                0.0|                0.0|                0.0|                0.0|                0.0|  4.054066684331552|                0.0|                0.0|                0.0|                0.0|                0.0|                0.0|                0.0|                0.0| 3.0349195626211642|                0.0| 2.3093266286684373|                0.0|                0.0|  2.069647962960444|                0.0|  5.680974321213032|\n",
      "|  1.0|  0.168376739305871|1.9867879427049515|0.11389040788896043|              0.0| 2.105080855208335| 3.456764356407291|2.5052229177075156|              0.0|2.069647962960444|              0.0|               0.0|               0.0|3.2456862324169853|               0.0|               0.0|               0.0|               0.0|               0.0|               0.0|               0.0|               0.0|               0.0|               0.0|3.0619799515718578|               0.0|               0.0|               0.0|               0.0|               0.0|3.8671669634965915|               0.0|               0.0|               0.0|               0.0|               0.0|               0.0|               0.0|               0.0|               0.0|               0.0|               0.0|               0.0|               0.0|               0.0|               0.0|               0.0|               0.0|               0.0|               0.0|               0.0|               0.0|               0.0|               0.0|               0.0|               0.0|               0.0|               0.0|               0.0|               0.0|               0.0|               0.0|               0.0|               0.0|               0.0|               0.0|               0.0|               0.0|               0.0|               0.0|               0.0|               0.0|               0.0|               0.0|               0.0|               0.0|               0.0|               0.0|               0.0|               0.0|               0.0|               0.0|               0.0|               0.0|               0.0|               0.0|               0.0|               0.0|               0.0|               0.0|               0.0|               0.0|               0.0|               0.0|               0.0|               0.0|               0.0|               0.0|               0.0|               0.0|               0.0|                0.0|                0.0|                0.0|                0.0|                0.0|                0.0|                0.0|                0.0|                0.0|                0.0|                0.0|                0.0|                0.0|                0.0|                0.0|                0.0|                0.0|                0.0|                0.0|                0.0|                0.0|                0.0|                0.0|                0.0|                0.0|                0.0|                0.0|                0.0|                0.0|                0.0|                0.0|                0.0|                0.0|                0.0|                0.0|                0.0|                0.0|                0.0|                0.0|                0.0|                0.0|                0.0|                0.0|                0.0|                0.0|                0.0|                0.0|                0.0|                0.0|                0.0|                0.0|                0.0|                0.0|                0.0|                0.0|                0.0|                0.0|                0.0|                0.0|                0.0|                0.0|                0.0|                0.0|                0.0|                0.0|                0.0|                0.0|                0.0|                0.0|                0.0|                0.0|                0.0|                0.0|                0.0|                0.0|                0.0|                0.0|                0.0|                0.0|                0.0|                0.0|                0.0|                0.0|                0.0|                0.0|                0.0|                0.0|                0.0|                0.0|                0.0|                0.0|                0.0|                0.0|                0.0|                0.0|                0.0|                0.0|                0.0|                0.0|                0.0|                0.0|                0.0|  2.002625293725868|                0.0|                0.0|                0.0|                0.0|                0.0|                0.0| 2.6139209012337967|                0.0|                0.0|                0.0|                0.0|                0.0|                0.0|                0.0|  7.622298570730239|                0.0|                0.0|                0.0|                0.0|                0.0|                0.0|                0.0|                0.0|  6.917489814240074|                0.0|                0.0|                0.0|                0.0|                0.0|                0.0| 3.0349195626211642|                0.0| 2.3093266286684373|                0.0|                0.0|  2.069647962960444|                0.0|  5.680974321213032|\n",
      "|  1.0| 0.3461077419065126|1.9867879427049515|0.11389040788896043|              0.0| 2.105080855208335| 3.456764356407291|               0.0|              0.0|2.069647962960444|              0.0|               0.0|               0.0|3.2456862324169853|               0.0|               0.0|               0.0|               0.0|               0.0|               0.0|               0.0|               0.0|               0.0|2.3858568316570437|               0.0|               0.0|               0.0| 2.034225800333691|               0.0|               0.0|               0.0|               0.0|               0.0|               0.0|               0.0|               0.0|               0.0|               0.0|               0.0|               0.0|               0.0|               0.0|               0.0|               0.0|               0.0|               0.0|               0.0|               0.0|               0.0|               0.0|               0.0|               0.0|               0.0|               0.0|               0.0|               0.0|               0.0|               0.0|               0.0|               0.0|               0.0|               0.0|               0.0|               0.0|               0.0|               0.0|               0.0|               0.0|               0.0|               0.0|               0.0|               0.0|               0.0|               0.0|               0.0|               0.0|               0.0|               0.0|               0.0|               0.0|               0.0|               0.0|               0.0|               0.0|               0.0|               0.0|               0.0|               0.0|               0.0|               0.0|               0.0|               0.0|               0.0|               0.0|               0.0|               0.0|               0.0|               0.0|               0.0|               0.0|               0.0|                0.0|                0.0|                0.0|                0.0|                0.0|                0.0|                0.0|                0.0|                0.0|                0.0|                0.0|                0.0|                0.0|                0.0|                0.0|                0.0|                0.0|                0.0|                0.0|                0.0|                0.0|                0.0|                0.0|                0.0|                0.0|                0.0|                0.0|                0.0|                0.0|                0.0|                0.0|                0.0|                0.0|                0.0|                0.0|                0.0|                0.0|                0.0|                0.0|                0.0|                0.0|                0.0|                0.0|                0.0|                0.0|                0.0|                0.0|                0.0|                0.0|                0.0|                0.0|                0.0|                0.0|                0.0|                0.0|                0.0|                0.0|                0.0|                0.0|                0.0|                0.0|                0.0|                0.0|                0.0|                0.0|                0.0|                0.0|                0.0|                0.0|                0.0|                0.0|                0.0|                0.0|                0.0|                0.0|                0.0|                0.0|                0.0|                0.0|                0.0|                0.0|                0.0|                0.0|                0.0|                0.0|                0.0|                0.0|                0.0|                0.0|                0.0|                0.0|                0.0|                0.0|                0.0|                0.0|                0.0|                0.0|                0.0|                0.0|                0.0|                0.0|                0.0|  2.002625293725868|                0.0|                0.0|                0.0|                0.0|                0.0|                0.0| 2.6139209012337967|                0.0|                0.0|                0.0|                0.0|                0.0|  4.399852171944761|                0.0|                0.0|                0.0|                0.0|                0.0|                0.0|                0.0|                0.0|  4.054066684331552|                0.0|                0.0|                0.0|                0.0|                0.0|                0.0|                0.0|                0.0| 3.0349195626211642|                0.0| 2.3093266286684373|                0.0|                0.0|  2.069647962960444|                0.0|  5.680974321213032|\n",
      "|  1.0| 0.6360899040444015|1.9867879427049515|0.11389040788896043|              0.0| 2.105080855208335| 3.456764356407291|               0.0|              0.0|2.069647962960444|              0.0|               0.0|               0.0|3.2456862324169853|               0.0|               0.0|               0.0|               0.0|               0.0|               0.0|               0.0|               0.0|               0.0|2.3858568316570437|               0.0|               0.0|               0.0|               0.0|               0.0|               0.0|               0.0|               0.0|               0.0| 6.021555548189061|               0.0|               0.0|               0.0|               0.0|               0.0|               0.0|               0.0|               0.0|               0.0|               0.0|               0.0|               0.0|               0.0|               0.0|               0.0|               0.0|               0.0|               0.0|               0.0|               0.0|               0.0|               0.0|               0.0|               0.0|               0.0|               0.0|               0.0|               0.0|               0.0|               0.0|               0.0|               0.0|               0.0|               0.0|               0.0|               0.0|               0.0|               0.0|               0.0|               0.0|               0.0|               0.0|               0.0|               0.0|               0.0|               0.0|               0.0|               0.0|               0.0|               0.0|               0.0|               0.0|               0.0|               0.0|               0.0|               0.0|               0.0|               0.0|               0.0|               0.0|               0.0|               0.0|               0.0|               0.0|               0.0|               0.0|               0.0|                0.0|                0.0|                0.0|                0.0|                0.0|                0.0|                0.0|                0.0|                0.0|                0.0|                0.0|                0.0|                0.0|                0.0|                0.0|                0.0|                0.0|                0.0|                0.0|                0.0|                0.0|                0.0|                0.0|                0.0|                0.0|                0.0|                0.0|                0.0|                0.0|                0.0|                0.0|                0.0|                0.0|                0.0|                0.0|                0.0|                0.0|                0.0|                0.0|                0.0|                0.0|                0.0|                0.0|                0.0|                0.0|                0.0|                0.0|                0.0|                0.0|                0.0|                0.0|                0.0|                0.0|                0.0|                0.0|                0.0|                0.0|                0.0|                0.0|                0.0|                0.0|                0.0|                0.0|                0.0|                0.0|                0.0|                0.0|                0.0|                0.0|                0.0|                0.0|                0.0|                0.0|                0.0|                0.0|                0.0|                0.0|                0.0|                0.0|                0.0|                0.0|                0.0|                0.0|                0.0|                0.0|                0.0|                0.0|                0.0|                0.0|                0.0|                0.0|                0.0|                0.0|                0.0|                0.0|                0.0|                0.0|                0.0|                0.0|                0.0|                0.0|                0.0|  2.002625293725868|                0.0|                0.0|                0.0|                0.0|                0.0|                0.0| 2.6139209012337967|                0.0|                0.0|                0.0|                0.0| 2.7191399785062464|                0.0|                0.0|                0.0|                0.0|                0.0|                0.0|                0.0|                0.0|                0.0|  4.054066684331552|                0.0|                0.0|                0.0|                0.0|                0.0|                0.0|                0.0|                0.0| 3.0349195626211642|                0.0| 2.3093266286684373|                0.0|                0.0|  2.069647962960444|                0.0|  5.680974321213032|\n",
      "+-----+-------------------+------------------+-------------------+-----------------+------------------+------------------+------------------+-----------------+-----------------+-----------------+------------------+------------------+------------------+------------------+------------------+------------------+------------------+------------------+------------------+------------------+------------------+------------------+------------------+------------------+------------------+------------------+------------------+------------------+------------------+------------------+------------------+------------------+------------------+------------------+------------------+------------------+------------------+------------------+------------------+------------------+------------------+------------------+------------------+------------------+------------------+------------------+------------------+------------------+------------------+------------------+------------------+------------------+------------------+------------------+------------------+------------------+------------------+------------------+------------------+------------------+------------------+------------------+------------------+------------------+------------------+------------------+------------------+------------------+------------------+------------------+------------------+------------------+------------------+------------------+------------------+------------------+------------------+------------------+------------------+------------------+------------------+------------------+------------------+------------------+------------------+------------------+------------------+------------------+------------------+------------------+------------------+------------------+------------------+------------------+------------------+------------------+------------------+------------------+------------------+------------------+-------------------+-------------------+-------------------+-------------------+-------------------+-------------------+-------------------+-------------------+-------------------+-------------------+-------------------+-------------------+-------------------+-------------------+-------------------+-------------------+-------------------+-------------------+-------------------+-------------------+-------------------+-------------------+-------------------+-------------------+-------------------+-------------------+-------------------+-------------------+-------------------+-------------------+-------------------+-------------------+-------------------+-------------------+-------------------+-------------------+-------------------+-------------------+-------------------+-------------------+-------------------+-------------------+-------------------+-------------------+-------------------+-------------------+-------------------+-------------------+-------------------+-------------------+-------------------+-------------------+-------------------+-------------------+-------------------+-------------------+-------------------+-------------------+-------------------+-------------------+-------------------+-------------------+-------------------+-------------------+-------------------+-------------------+-------------------+-------------------+-------------------+-------------------+-------------------+-------------------+-------------------+-------------------+-------------------+-------------------+-------------------+-------------------+-------------------+-------------------+-------------------+-------------------+-------------------+-------------------+-------------------+-------------------+-------------------+-------------------+-------------------+-------------------+-------------------+-------------------+-------------------+-------------------+-------------------+-------------------+-------------------+-------------------+-------------------+-------------------+-------------------+-------------------+-------------------+-------------------+-------------------+-------------------+-------------------+-------------------+-------------------+-------------------+-------------------+-------------------+-------------------+-------------------+-------------------+-------------------+-------------------+-------------------+-------------------+-------------------+-------------------+-------------------+-------------------+-------------------+-------------------+-------------------+-------------------+-------------------+-------------------+-------------------+-------------------+-------------------+-------------------+-------------------+-------------------+-------------------+-------------------+-------------------+-------------------+-------------------+-------------------+\n",
      "only showing top 20 rows\n",
      "\n"
     ]
    }
   ],
   "source": [
    "#Leer de la base de datos\n",
    "df = spark \\\n",
    "    .read \\\n",
    "    .format(\"jdbc\") \\\n",
    "    .option(\"url\", \"jdbc:postgresql://host.docker.internal:5433/postgres\") \\\n",
    "    .option(\"user\", \"postgres\") \\\n",
    "    .option(\"password\", \"testPassword\") \\\n",
    "    .option(\"dbtable\", \"Tarea3\") \\\n",
    "    .load()\n",
    "\n",
    "df.show()"
   ]
  },
  {
   "cell_type": "code",
   "execution_count": 126,
   "id": "913b1346",
   "metadata": {},
   "outputs": [
    {
     "name": "stderr",
     "output_type": "stream",
     "text": [
      "[Stage 7573:>                                                       (0 + 1) / 1]\r"
     ]
    },
    {
     "name": "stdout",
     "output_type": "stream",
     "text": [
      "+--------------------+-----+\n",
      "|            features|label|\n",
      "+--------------------+-----+\n",
      "|(241,[0,1,2,5,8,1...|  1.0|\n",
      "|(241,[0,1,2,5,8,1...|  1.0|\n",
      "|(241,[0,1,2,4,5,8...|  1.0|\n",
      "|(241,[0,1,2,4,5,8...|  1.0|\n",
      "|(241,[0,1,2,4,5,8...|  1.0|\n",
      "|(241,[0,1,2,4,5,8...|  1.0|\n",
      "|(241,[0,1,2,4,5,8...|  1.0|\n",
      "|(241,[0,1,2,4,5,8...|  1.0|\n",
      "|(241,[0,1,2,4,5,8...|  1.0|\n",
      "|(241,[0,1,2,4,5,8...|  1.0|\n",
      "|(241,[1,2,4,5,8,1...|  1.0|\n",
      "|(241,[0,1,2,4,5,8...|  1.0|\n",
      "|(241,[0,1,2,4,5,1...|  1.0|\n",
      "|(241,[0,1,2,4,5,1...|  1.0|\n",
      "|(241,[0,1,2,4,5,1...|  1.0|\n",
      "|(241,[0,1,2,4,5,8...|  1.0|\n",
      "|(241,[0,1,2,4,5,8...|  1.0|\n",
      "|(241,[0,1,2,4,5,6...|  1.0|\n",
      "|(241,[0,1,2,4,5,8...|  1.0|\n",
      "|(241,[0,1,2,4,5,8...|  1.0|\n",
      "+--------------------+-----+\n",
      "only showing top 20 rows\n",
      "\n"
     ]
    },
    {
     "name": "stderr",
     "output_type": "stream",
     "text": [
      "                                                                                \r"
     ]
    }
   ],
   "source": [
    "#Volver a convertir el dataframe en columna de vectores para entrenar modelos\n",
    "feature_columns = [col for col in df.columns if col !='label']\n",
    "assembler = VectorAssembler(inputCols=feature_columns, outputCol=\"features\")\n",
    "vector_df = assembler.transform(df)\n",
    "vector_df = vector_df.select(['features','label'])\n",
    "vector_df.show()"
   ]
  },
  {
   "cell_type": "code",
   "execution_count": 127,
   "id": "d1042d2c",
   "metadata": {},
   "outputs": [
    {
     "name": "stderr",
     "output_type": "stream",
     "text": [
      "                                                                                \r"
     ]
    }
   ],
   "source": [
    "#Primer modelo (Regresion Logistica)\n",
    "\n",
    "# Division en entrenamiento y prueba\n",
    "train_data, test_data = vector_df.randomSplit([0.7, 0.3], seed=123)\n",
    "\n",
    "lr = LogisticRegression(featuresCol=\"features\", labelCol=\"label\")\n",
    "\n",
    "#Parametros para validacion cruzada\n",
    "param_grid = ParamGridBuilder() \\\n",
    "    .addGrid(lr.regParam, [0.01, 0.1, 0.5]) \\\n",
    "    .addGrid(lr.elasticNetParam, [0.0, 0.5, 1.0]) \\\n",
    "    .build()\n",
    "\n",
    "#Validacion cruzada\n",
    "crossval = CrossValidator(estimator=lr,\n",
    "                          estimatorParamMaps=param_grid,\n",
    "                          evaluator=BinaryClassificationEvaluator(),\n",
    "                          numFolds=5)\n",
    "\n",
    "#Entrenamiento del modelo\n",
    "cv_model = crossval.fit(train_data)\n",
    "\n",
    "#Prediccion en datos de prueba\n",
    "prediccion_lr = cv_model.transform(test_data)\n",
    "\n"
   ]
  },
  {
   "cell_type": "code",
   "execution_count": 128,
   "id": "db88e09c",
   "metadata": {},
   "outputs": [
    {
     "name": "stderr",
     "output_type": "stream",
     "text": [
      "[Stage 9752:>                                                       (0 + 1) / 1]\r"
     ]
    },
    {
     "name": "stdout",
     "output_type": "stream",
     "text": [
      "+--------------------+-----+--------------------+--------------------+----------+\n",
      "|            features|label|       rawPrediction|         probability|prediction|\n",
      "+--------------------+-----+--------------------+--------------------+----------+\n",
      "|(241,[0,1,2,3,4,5...|  1.0|[-3.6960027447276...|[0.02422131566595...|       1.0|\n",
      "|(241,[0,1,2,3,4,5...|  0.0|[-2.6667051858271...|[0.06496682919912...|       1.0|\n",
      "|(241,[0,1,2,3,4,5...|  0.0|[-0.9543866474369...|[0.27800348800897...|       1.0|\n",
      "|(241,[0,1,2,3,4,5...|  1.0|[-5.4512930109495...|[0.00427242120705...|       1.0|\n",
      "|(241,[0,1,2,3,4,5...|  1.0|[-1.7669045506221...|[0.14592770080142...|       1.0|\n",
      "|(241,[0,1,2,3,4,5...|  1.0|[-3.0150554432164...|[0.04675033422490...|       1.0|\n",
      "|(241,[0,1,2,3,4,5...|  1.0|[-0.6854964428328...|[0.33503565964441...|       1.0|\n",
      "|(241,[0,1,2,3,4,5...|  1.0|[-3.5578776364127...|[0.02770954518187...|       1.0|\n",
      "|(241,[0,1,2,3,4,5...|  1.0|[-0.2506271189701...|[0.43766914978518...|       1.0|\n",
      "|(241,[0,1,2,3,4,5...|  0.0|[0.51344417515321...|[0.62561352181351...|       0.0|\n",
      "|(241,[0,1,2,3,4,5...|  1.0|[-4.3963436993649...|[0.01217232058534...|       1.0|\n",
      "|(241,[0,1,2,3,4,5...|  1.0|[-1.1132171935664...|[0.24727159086857...|       1.0|\n",
      "|(241,[0,1,2,3,4,5...|  1.0|[-0.1573493530401...|[0.46074362346371...|       1.0|\n",
      "|(241,[0,1,2,3,4,5...|  0.0|[0.26712108144648...|[0.56638599860347...|       0.0|\n",
      "|(241,[0,1,2,3,4,5...|  1.0|[-5.0670320157455...|[0.00626163878858...|       1.0|\n",
      "|(241,[0,1,2,3,4,5...|  1.0|[0.02637027230367...|[0.50659218606796...|       0.0|\n",
      "|(241,[0,1,2,3,4,5...|  1.0|[-2.4461823230377...|[0.07971817713918...|       1.0|\n",
      "|(241,[0,1,2,3,4,5...|  1.0|[-1.5411635474615...|[0.17636619287546...|       1.0|\n",
      "|(241,[0,1,2,3,4,5...|  1.0|[-4.5493900788110...|[0.01046301919292...|       1.0|\n",
      "|(241,[0,1,2,3,4,5...|  1.0|[-2.4970565090769...|[0.07606478746602...|       1.0|\n",
      "+--------------------+-----+--------------------+--------------------+----------+\n",
      "only showing top 20 rows\n",
      "\n"
     ]
    },
    {
     "name": "stderr",
     "output_type": "stream",
     "text": [
      "                                                                                \r"
     ]
    }
   ],
   "source": [
    "#Se muestran los datos de la prediccion\n",
    "prediccion_lr.show()"
   ]
  },
  {
   "cell_type": "code",
   "execution_count": 129,
   "id": "03738381",
   "metadata": {},
   "outputs": [
    {
     "name": "stderr",
     "output_type": "stream",
     "text": [
      "[Stage 9753:>                                                       (0 + 1) / 1]\r"
     ]
    },
    {
     "name": "stdout",
     "output_type": "stream",
     "text": [
      "Area bajo la curva ROC: 0.8796280609020212\n"
     ]
    },
    {
     "name": "stderr",
     "output_type": "stream",
     "text": [
      "                                                                                \r"
     ]
    }
   ],
   "source": [
    "# Evaluacion del primer modelo curva ROC\n",
    "evaluator = BinaryClassificationEvaluator(labelCol='label')\n",
    "roc_lr = evaluator.evaluate(prediccion_lr)\n",
    "print(f\"Area bajo la curva ROC: {roc_lr}\")"
   ]
  },
  {
   "cell_type": "code",
   "execution_count": 131,
   "id": "35401888",
   "metadata": {},
   "outputs": [
    {
     "name": "stderr",
     "output_type": "stream",
     "text": [
      "[Stage 9766:>                                                       (0 + 1) / 1]\r"
     ]
    },
    {
     "name": "stdout",
     "output_type": "stream",
     "text": [
      "Filas:  35674\n",
      "Columnas:  243\n"
     ]
    },
    {
     "name": "stderr",
     "output_type": "stream",
     "text": [
      "                                                                                \r"
     ]
    }
   ],
   "source": [
    "#Transformar los datos del primer modelo para escribir a la base de datos\n",
    "modelo_1=prediccion_lr.withColumn(\"features\", vector_to_array(\"features\")).select([\"label\",\"prediction\"] + [col(\"features\")[i] for i in range(241)])\n",
    "\n",
    "#Se muestran las dimensiones\n",
    "print('Filas: ' ,modelo_1.count())\n",
    "print('Columnas: ' ,len(modelo_1.columns))"
   ]
  },
  {
   "cell_type": "code",
   "execution_count": 132,
   "id": "b908c173",
   "metadata": {},
   "outputs": [
    {
     "name": "stderr",
     "output_type": "stream",
     "text": [
      "                                                                                \r"
     ]
    }
   ],
   "source": [
    "#Guardar modelo_1 en la base de datos\n",
    "modelo_1 \\\n",
    "    .write \\\n",
    "    .format(\"jdbc\") \\\n",
    "    .mode('overwrite') \\\n",
    "    .option(\"url\", \"jdbc:postgresql://host.docker.internal:5433/postgres\") \\\n",
    "    .option(\"user\", \"postgres\") \\\n",
    "    .option(\"password\", \"testPassword\") \\\n",
    "    .option(\"dbtable\", \"modelo1\") \\\n",
    "    .save()"
   ]
  },
  {
   "cell_type": "code",
   "execution_count": 133,
   "id": "712e2259",
   "metadata": {},
   "outputs": [
    {
     "name": "stderr",
     "output_type": "stream",
     "text": [
      "                                                                                \r"
     ]
    }
   ],
   "source": [
    "# Segundo Modelo (arbol de decision)\n",
    "\n",
    "# Division en entrenamiento y prueba\n",
    "train_data, test_data = vector_df.randomSplit([0.7, 0.3], seed=123)\n",
    "\n",
    "\n",
    "dt = DecisionTreeClassifier(featuresCol=\"features\", labelCol=\"label\")\n",
    "\n",
    "#Parametros para validacion cruzada\n",
    "paramGrid = ParamGridBuilder() \\\n",
    "    .addGrid(dt.maxDepth, [5, 10]) \\\n",
    "    .addGrid(dt.maxBins, [20, 30]) \\\n",
    "    .build()\n",
    "\n",
    "\n",
    "\n",
    "#Validacion cruzada\n",
    "cv = CrossValidator(estimator=dt,\n",
    "                    estimatorParamMaps=paramGrid,\n",
    "                    evaluator=evaluator,\n",
    "                    numFolds=5)\n",
    "\n",
    "#Entrenamiento del modelo\n",
    "cvModel = cv.fit(train_data)\n",
    "\n",
    "#Prediccion en datos de prueba\n",
    "prediccion_dt = cvModel.transform(test_data)\n",
    "\n"
   ]
  },
  {
   "cell_type": "code",
   "execution_count": 134,
   "id": "e58247fa",
   "metadata": {},
   "outputs": [
    {
     "name": "stderr",
     "output_type": "stream",
     "text": [
      "[Stage 10417:>                                                      (0 + 1) / 1]\r"
     ]
    },
    {
     "name": "stdout",
     "output_type": "stream",
     "text": [
      "+--------------------+-----+--------------+--------------------+----------+\n",
      "|            features|label| rawPrediction|         probability|prediction|\n",
      "+--------------------+-----+--------------+--------------------+----------+\n",
      "|(241,[0,1,2,3,4,5...|  1.0|[392.0,1931.0]|[0.16874730951356...|       1.0|\n",
      "|(241,[0,1,2,3,4,5...|  0.0|[822.0,2202.0]|[0.27182539682539...|       1.0|\n",
      "|(241,[0,1,2,3,4,5...|  0.0|[392.0,1931.0]|[0.16874730951356...|       1.0|\n",
      "|(241,[0,1,2,3,4,5...|  1.0|[243.0,1327.0]|[0.15477707006369...|       1.0|\n",
      "|(241,[0,1,2,3,4,5...|  1.0|   [12.0,11.0]|[0.52173913043478...|       0.0|\n",
      "|(241,[0,1,2,3,4,5...|  1.0|[392.0,1931.0]|[0.16874730951356...|       1.0|\n",
      "|(241,[0,1,2,3,4,5...|  1.0|     [5.0,0.0]|           [1.0,0.0]|       0.0|\n",
      "|(241,[0,1,2,3,4,5...|  1.0|  [95.0,309.0]|[0.23514851485148...|       1.0|\n",
      "|(241,[0,1,2,3,4,5...|  1.0|[243.0,1327.0]|[0.15477707006369...|       1.0|\n",
      "|(241,[0,1,2,3,4,5...|  0.0|   [56.0,10.0]|[0.84848484848484...|       0.0|\n",
      "|(241,[0,1,2,3,4,5...|  1.0|  [44.0,563.0]|[0.07248764415156...|       1.0|\n",
      "|(241,[0,1,2,3,4,5...|  1.0|  [26.0,113.0]|[0.18705035971223...|       1.0|\n",
      "|(241,[0,1,2,3,4,5...|  1.0|   [32.0,99.0]|[0.24427480916030...|       1.0|\n",
      "|(241,[0,1,2,3,4,5...|  0.0|[822.0,2202.0]|[0.27182539682539...|       1.0|\n",
      "|(241,[0,1,2,3,4,5...|  1.0|  [44.0,563.0]|[0.07248764415156...|       1.0|\n",
      "|(241,[0,1,2,3,4,5...|  1.0|   [9.0,848.0]|[0.01050175029171...|       1.0|\n",
      "|(241,[0,1,2,3,4,5...|  1.0|[392.0,1931.0]|[0.16874730951356...|       1.0|\n",
      "|(241,[0,1,2,3,4,5...|  1.0|  [44.0,563.0]|[0.07248764415156...|       1.0|\n",
      "|(241,[0,1,2,3,4,5...|  1.0|[243.0,1327.0]|[0.15477707006369...|       1.0|\n",
      "|(241,[0,1,2,3,4,5...|  1.0|[392.0,1931.0]|[0.16874730951356...|       1.0|\n",
      "+--------------------+-----+--------------+--------------------+----------+\n",
      "only showing top 20 rows\n",
      "\n"
     ]
    },
    {
     "name": "stderr",
     "output_type": "stream",
     "text": [
      "                                                                                \r"
     ]
    }
   ],
   "source": [
    "prediccion_dt.show()"
   ]
  },
  {
   "cell_type": "code",
   "execution_count": 135,
   "id": "e0e59c1d",
   "metadata": {},
   "outputs": [
    {
     "name": "stderr",
     "output_type": "stream",
     "text": [
      "[Stage 10418:>                                                      (0 + 1) / 1]\r"
     ]
    },
    {
     "name": "stdout",
     "output_type": "stream",
     "text": [
      "Area bajo la curva ROC: 0.623795902419058\n"
     ]
    },
    {
     "name": "stderr",
     "output_type": "stream",
     "text": [
      "                                                                                \r"
     ]
    }
   ],
   "source": [
    "# # Evaluacion del segundo modelo curva ROC\n",
    "evaluator = BinaryClassificationEvaluator(labelCol='label')\n",
    "roc_dt = evaluator.evaluate(prediccion_dt)\n",
    "print(f\"Area bajo la curva ROC: {roc_dt}\")"
   ]
  },
  {
   "cell_type": "code",
   "execution_count": 136,
   "id": "a79cf13f",
   "metadata": {},
   "outputs": [
    {
     "name": "stderr",
     "output_type": "stream",
     "text": [
      "[Stage 10427:>                                                      (0 + 1) / 1]\r"
     ]
    },
    {
     "name": "stdout",
     "output_type": "stream",
     "text": [
      "Filas:  35674\n",
      "Columnas:  243\n"
     ]
    },
    {
     "name": "stderr",
     "output_type": "stream",
     "text": [
      "                                                                                \r"
     ]
    }
   ],
   "source": [
    "#Transformar los datos del segundo modelo para escribir a la base de datos\n",
    "modelo_2=prediccion_dt.withColumn(\"features\", vector_to_array(\"features\")).select([\"label\",\"prediction\"] + [col(\"features\")[i] for i in range(241)])\n",
    "\n",
    "#Se verifican las dimensiones del dataframe\n",
    "print('Filas: ', modelo_2.count())\n",
    "print('Columnas: ',len(modelo_2.columns))"
   ]
  },
  {
   "cell_type": "code",
   "execution_count": 137,
   "id": "be4e4241",
   "metadata": {},
   "outputs": [
    {
     "name": "stderr",
     "output_type": "stream",
     "text": [
      "                                                                                \r"
     ]
    }
   ],
   "source": [
    "#Guardar modelo_2 en la base de datos\n",
    "modelo_2 \\\n",
    "    .write \\\n",
    "    .format(\"jdbc\") \\\n",
    "    .mode('overwrite') \\\n",
    "    .option(\"url\", \"jdbc:postgresql://host.docker.internal:5433/postgres\") \\\n",
    "    .option(\"user\", \"postgres\") \\\n",
    "    .option(\"password\", \"testPassword\") \\\n",
    "    .option(\"dbtable\", \"modelo2\") \\\n",
    "    .save()"
   ]
  },
  {
   "cell_type": "code",
   "execution_count": 151,
   "id": "0275ad61",
   "metadata": {},
   "outputs": [
    {
     "name": "stdout",
     "output_type": "stream",
     "text": [
      "Area bajo la curva ROC para el modelo de Regresion Logistica: 0.8796280609020212 \n",
      "Area bajo la curva ROC para el modelo de Arbol de Decision: 0.623795902419058\n"
     ]
    },
    {
     "data": {
      "text/plain": [
       "'Como puede observarse el area bajo la curva ROC (AUC) es mas alta para el modelo de regresion logistica que para\\nel arbol de decision lo cual implica que este modelo hace un mejor trabajo discriminando entre positivos verdaderos y \\nfalsos positivos para cada umbral de decision. Por tanto el modelo de regresion logistica es mejor'"
      ]
     },
     "execution_count": 151,
     "metadata": {},
     "output_type": "execute_result"
    }
   ],
   "source": [
    "#Comparacion de resultados\n",
    "print(f'Area bajo la curva ROC para el modelo de Regresion Logistica: {roc_lr} \\n'\n",
    "      f'Area bajo la curva ROC para el modelo de Arbol de Decision: {roc_dt}')\n",
    "\n",
    "'''Como puede observarse el area bajo la curva ROC (AUC) es mas alta para el modelo de regresion logistica que para\n",
    "el arbol de decision lo cual implica que este modelo hace un mejor trabajo discriminando entre positivos verdaderos y \n",
    "falsos positivos para cada umbral de decision. Por tanto el modelo de regresion logistica es mejor'''"
   ]
  }
 ],
 "metadata": {
  "kernelspec": {
   "display_name": "Python 3 (ipykernel)",
   "language": "python",
   "name": "python3"
  },
  "language_info": {
   "codemirror_mode": {
    "name": "ipython",
    "version": 3
   },
   "file_extension": ".py",
   "mimetype": "text/x-python",
   "name": "python",
   "nbconvert_exporter": "python",
   "pygments_lexer": "ipython3",
   "version": "3.7.10"
  }
 },
 "nbformat": 4,
 "nbformat_minor": 5
}
